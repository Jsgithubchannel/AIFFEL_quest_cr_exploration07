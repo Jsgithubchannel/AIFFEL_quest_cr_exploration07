{
 "cells": [
  {
   "cell_type": "code",
   "execution_count": 3,
   "id": "d4f1fddd",
   "metadata": {},
   "outputs": [
    {
     "name": "stdout",
     "output_type": "stream",
     "text": [
      "넓이를 구하고 싶은 사각형의 숫자를 써주세요.\n",
      " 1.직사각형 2.평행사변형 3.사다리꼴 \n",
      " >>>1\n",
      "직사각형 함수는 rect()입니다.\n",
      "가로, 세로를 입력하세요. 예시 : 가로,세로\n",
      " >>>2,3\n"
     ]
    },
    {
     "data": {
      "text/plain": [
       "'직사각형의 넓이는 : 6'"
      ]
     },
     "execution_count": 3,
     "metadata": {},
     "output_type": "execute_result"
    }
   ],
   "source": [
    "#project 1\n",
    "class Square:\n",
    "    def __init__(self):\n",
    "        self.square = int(input('넓이를 구하고 싶은 사각형의 숫자를 써주세요.\\n 1.직사각형 2.평행사변형 3.사다리꼴 \\n >>>'))\n",
    "\n",
    "        if self.square == 1:\n",
    "            print('직사각형 함수는 rect()입니다.')\n",
    "\n",
    "        elif self.square == 2:\n",
    "            print('평행사변형 함수는 par()입니다.')\n",
    "        \n",
    "        elif self.square == 3:\n",
    "            print('사다리꼴 함수는 trape()입니다.')\n",
    "        \n",
    "        else:\n",
    "            print('1, 2, 3 중에서 다시 입력해주세요')\n",
    "\n",
    "    def rect(self):\n",
    "        width, vertical = map(int, input('가로, 세로를 입력하세요. 예시 : 가로,세로\\n >>>').split(','))\n",
    "        area = width * vertical\n",
    "        result = '직사각형의 넓이는 : ' + str(area)\n",
    "        return result\n",
    "\n",
    "    def par(self):\n",
    "        base, height = map(int, input('밑변, 높이를 입력하세요. 예시 : 밑변,높이\\n >>>').split(','))\n",
    "        area = base * height\n",
    "        result = '평행사변형의 넓이는 : ' + str(area)\n",
    "        return result\n",
    "\n",
    "    def trape(self):\n",
    "        base, upper_side, height = map(int, input('밑변, 윗변, 높이을 입력하세요. 예시 : 밑변, 윗변, 높이\\n >>>').split(','))\n",
    "        in_parentheses = base + upper_side\n",
    "        area = in_parentheses * height / 2\n",
    "        result = '사다리꼴의 넓이는 : ' + str(area)\n",
    "        return result\n",
    "\n",
    "a = Square()\n",
    "a.rect()"
   ]
  },
  {
   "cell_type": "code",
   "execution_count": 4,
   "id": "b25bf7f4",
   "metadata": {},
   "outputs": [
    {
     "name": "stdout",
     "output_type": "stream",
     "text": [
      "밑변, 높이를 입력하세요. 예시 : 밑변,높이\n",
      " >>>2,3\n"
     ]
    },
    {
     "data": {
      "text/plain": [
       "'평행사변형의 넓이는 : 6'"
      ]
     },
     "execution_count": 4,
     "metadata": {},
     "output_type": "execute_result"
    }
   ],
   "source": [
    "a.par()"
   ]
  },
  {
   "cell_type": "code",
   "execution_count": 5,
   "id": "f66f0290",
   "metadata": {},
   "outputs": [
    {
     "name": "stdout",
     "output_type": "stream",
     "text": [
      "밑변, 윗변, 높이을 입력하세요. 예시 : 밑변, 윗변, 높이\n",
      " >>>3,2,1\n"
     ]
    },
    {
     "data": {
      "text/plain": [
       "'사다리꼴의 넓이는 : 2.5'"
      ]
     },
     "execution_count": 5,
     "metadata": {},
     "output_type": "execute_result"
    }
   ],
   "source": [
    "a.trape()"
   ]
  },
  {
   "cell_type": "code",
   "execution_count": 7,
   "id": "d1e2ea79",
   "metadata": {},
   "outputs": [
    {
     "name": "stdout",
     "output_type": "stream",
     "text": [
      "1 americano  :  2000 원\n",
      "2 latte  :  3000 원\n",
      "3 mocha  :  3000 원\n",
      "4 yuza_tea  :  2500 원\n",
      "5 green_tea  :  2500 원\n",
      "6 choco_latte  :  3000 원\n",
      "음료 번호를 입력하세요 : 1\n",
      "HOT 음료는 1을, ICE 음료는 2를 입력하세요 : 3\n",
      "1과 2 중 하나를 입력하세요.\n",
      "HOT 음료는 1을, ICE 음료는 2를 입력하세요 : 1\n",
      "HOT americano  :  2000 원\n",
      "추가 주문은 음료 번호를, 지불은 0을 누르세요 : 7\n",
      "없는 메뉴입니다. 다시 주문해 주세요.\n",
      "추가 주문은 음료 번호를, 지불은 0을 누르세요 : 2\n",
      "HOT 음료는 1을, ICE 음료는 2를 입력하세요 : 2\n",
      "추가 주문 음료 ICE latte  :  3000 원\n",
      " 합계 :  5000 원\n",
      "추가 주문은 음료 번호를, 지불은 0을 누르세요 : 0\n",
      "주문이 완료되었습니다.\n",
      "['HOT americano', 'ICE latte'] [2000, 3000]\n",
      " 총 합계 금액은 5000원 입니다\n",
      "현금(1), 카드(2) 입력하세요 :2\n",
      "IC칩 방향에 맞게 카드를 꽂아주세요.\n",
      "⟝------------------------------⟞\n",
      "|                               |\n",
      "|                               |\n",
      "|                               |\n",
      "HOT americano : 2000\n",
      "ICE latte : 3000\n",
      "합계 금액 : 5000\n",
      "|                               |\n",
      "|                               |\n",
      "|                               |\n",
      "⟝------------------------------⟞\n"
     ]
    }
   ],
   "source": [
    "#project 2\n",
    "menu = ['americano', 'latte', 'mocha', 'yuza_tea', 'green_tea', 'choco_latte']\n",
    "price = [2000, 3000, 3000, 2500, 2500, 3000]\n",
    "\n",
    "# 문제 3-3. 클래스 업데이트  \n",
    "# 앞에서 구현했던 메서드들을 Kiosk 클래스에 추가합니다. 직접 코드를 작성해 보세요! \n",
    "\n",
    "class Kiosk:\n",
    "    def __init__(self):\n",
    "        self.menu = menu\n",
    "        self.price = price\n",
    "\n",
    "    # 메뉴 출력 메서드\n",
    "    def menu_print(self):\n",
    "        for i in range(len(self.menu)):\n",
    "            print(i + 1, self.menu[i], ' : ', self.price[i], '원')\n",
    "\n",
    "    # 주문 메서드\n",
    "    def menu_select(self):\n",
    "        self.order_menu = []\n",
    "        self.order_price = []\n",
    "\n",
    "        n = 0\n",
    "        while n < 1 or len(menu) < n:\n",
    "            n = int(input(\"음료 번호를 입력하세요 : \"))\n",
    "            if 1 <= n and n <= len(menu):\n",
    "                self.order_price.append(self.price[n-1])\n",
    "                self.price_sum = self.price[n-1]\n",
    "            else:\n",
    "                print(\"없는 메뉴입니다. 다시 주문해 주세요.\")\n",
    "        \n",
    "            t = 0\n",
    "            while t != 1 and t != 2:\n",
    "                t = int(input(\"HOT 음료는 1을, ICE 음료는 2를 입력하세요 : \"))\n",
    "                if t == 1:\n",
    "                    temp = \"HOT\"\n",
    "                elif t == 2:\n",
    "                    temp = \"ICE\"\n",
    "                else:\n",
    "                    print(\"1과 2 중 하나를 입력하세요.\")\n",
    "\n",
    "            self.order_menu.append(temp + ' ' + self.menu[n-1]) \n",
    "            print(temp, self.menu[n-1], ' : ', self.price_sum, '원')\n",
    "\n",
    "            while n != 0:\n",
    "                n = int(input(\"추가 주문은 음료 번호를, 지불은 0을 누르세요 : \"))\n",
    "                if n > 0 and n < len(self.menu) + 1:\n",
    "                    t = 0\n",
    "                    while t != 1 and t != 2:\n",
    "                        t= int(input(\"HOT 음료는 1을, ICE 음료는 2를 입력하세요 : \"))      \n",
    "                        if t == 1:\n",
    "                            temp = \"HOT\"\n",
    "                        elif t == 2:\n",
    "                            temp = \"ICE\"\n",
    "                        else:    \n",
    "                            print(\"1과 2 중 하나를 입력하세요.\")\n",
    "                            \n",
    "                    self.order_menu.append(f'{temp} {self.menu[n-1]}')\n",
    "                    self.order_price.append(self.price[n-1])\n",
    "                    self.price_sum += self.price[n-1]\n",
    "\n",
    "                    print('추가 주문 음료', temp, self.menu[n-1], ' : ', self.price[n-1], '원\\n','합계 : ',self.price_sum, '원')\n",
    "                else:\n",
    "                    if n == 0:\n",
    "                        print(\"주문이 완료되었습니다.\")\n",
    "                        print(f\"{self.order_menu} {self.order_price}\\n 총 합계 금액은 {self.price_sum}원 입니다\")\n",
    "                        return\n",
    "                    else:\n",
    "                        print(\"없는 메뉴입니다. 다시 주문해 주세요.\")\n",
    "\n",
    "    # 지불\n",
    "    def pay(self):\n",
    "        while True:\n",
    "            p = int(input(\"현금(1), 카드(2) 입력하세요 :\"))\n",
    "            if p == 1:\n",
    "                print('직원을 호출하겠습니다.')\n",
    "                break\n",
    "            if p == 2:\n",
    "                print('IC칩 방향에 맞게 카드를 꽂아주세요.')\n",
    "                break\n",
    "            else:\n",
    "                print(\"다시 결제를 시도해 주세요.\\n\")\n",
    "\n",
    "   \n",
    "    def table(self):\n",
    "        print('⟝' + '-' * 30 + '⟞')\n",
    "        for i in range(3):\n",
    "            print('|' + ' ' * 31 + '|')\n",
    "\n",
    "        for i in range(len(self.order_menu)):\n",
    "            print(f\"{self.order_menu[i]} : {self.order_price[i]}\")\n",
    "\n",
    "        print('합계 금액 :', self.price_sum)\n",
    "\n",
    "        for i in range(3):\n",
    "            print('|' + ' ' * 31+ '|')\n",
    "        print('⟝' + '-' * 30 + '⟞')\n",
    "\n",
    "a = Kiosk()   \n",
    "a.menu_print()  \n",
    "a.menu_select()  \n",
    "a.pay()  \n",
    "a.table()  "
   ]
  }
 ],
 "metadata": {
  "kernelspec": {
   "display_name": "Python 3 (ipykernel)",
   "language": "python",
   "name": "python3"
  },
  "language_info": {
   "codemirror_mode": {
    "name": "ipython",
    "version": 3
   },
   "file_extension": ".py",
   "mimetype": "text/x-python",
   "name": "python",
   "nbconvert_exporter": "python",
   "pygments_lexer": "ipython3",
   "version": "3.9.7"
  }
 },
 "nbformat": 4,
 "nbformat_minor": 5
}
