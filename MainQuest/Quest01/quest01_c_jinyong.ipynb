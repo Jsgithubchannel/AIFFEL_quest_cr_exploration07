{
  "nbformat": 4,
  "nbformat_minor": 0,
  "metadata": {
    "colab": {
      "provenance": [],
      "authorship_tag": "ABX9TyN8Ca4bGvZ1isGxVU5lCghu",
      "include_colab_link": true
    },
    "kernelspec": {
      "name": "python3",
      "display_name": "Python 3"
    },
    "language_info": {
      "name": "python"
    }
  },
  "cells": [
    {
      "cell_type": "markdown",
      "metadata": {
        "id": "view-in-github",
        "colab_type": "text"
      },
      "source": [
        "<a href=\"https://colab.research.google.com/github/future-an0923/AIFFEL_quest_cr/blob/main/MainQuest/Quest01/quest01_c_jinyong.ipynb\" target=\"_parent\"><img src=\"https://colab.research.google.com/assets/colab-badge.svg\" alt=\"Open In Colab\"/></a>"
      ]
    },
    {
      "cell_type": "markdown",
      "source": [
        "- 1-1\n",
        "-- Account란 생성자를 만들어 매직매서드 __init__을 사용.\n",
        "- 1-2\n",
        "-- 생성자에서는 예금주와 초기 잔액만 입력 받는다.\n",
        "- 1-3\n",
        "-- 은행이름은 SC은행\n",
        "- 1-4\n",
        "-- 계좌번호는 3자리-2자리-6자리 형태로 랜덤하게 생성 Import random을 사용."
      ],
      "metadata": {
        "id": "va_4LGojdMmu"
      }
    },
    {
      "cell_type": "code",
      "execution_count": 189,
      "metadata": {
        "id": "sXZLRUjY2B4X"
      },
      "outputs": [],
      "source": [
        "#Q1\n",
        "#랜덤하게 생성\n",
        "import random\n",
        "#1-1\n",
        "class Account:\n",
        "    def __init__(self, account_holder, initial_balance):\n",
        "      #1-2\n",
        "        self.account_holder = account_holder  # 예금주\n",
        "        self.initial_balance = initial_balance  # 초기 잔액\n",
        "        #1-3\n",
        "        self.bank_name = 'SC은행'  # 은행 이름\n",
        "        self.account_num = self.create_account_num() # 계좌번호 만들기\n",
        "#1-4\n",
        "    def create_account_num(self):\n",
        "        three_digit_num = random.randint(100, 999) # 3자리\n",
        "        two_digit_num = random.randint(10, 99) # 2자리\n",
        "        six_digit_num = random.randint(100000, 999999) # 6자리\n",
        "        return f'{three_digit_num}-{two_digit_num}-{six_digit_num}' # 계좌번호\n",
        "\n",
        "first_account = Account('차정은', 1000)\n",
        "second_account = Account('박광석', 30000000)\n",
        "third_account = Account('조웅제', 50000000)"
      ]
    },
    {
      "cell_type": "code",
      "source": [
        "print(f'은행 이름: {first_account.bank_name}, 예금주: {first_account.account_holder}, 계좌번호: {first_account.account_num}, 잔고: {first_account.initial_balance}')\n",
        "print(f'은행 이름: {second_account.bank_name}, 예금주: {second_account.account_holder}, 계좌번호: {second_account.account_num}, 잔고: {second_account.initial_balance}')\n",
        "print(f'은행 이름: {third_account.bank_name}, 예금주: {third_account.account_holder}, 계좌번호: {third_account.account_num}, 잔고: {third_account.initial_balance}')\n"
      ],
      "metadata": {
        "colab": {
          "base_uri": "https://localhost:8080/"
        },
        "id": "qF3s8jasB1-o",
        "outputId": "cf4d6f3b-8ef6-43a4-ae09-3b9f59587ba6"
      },
      "execution_count": 190,
      "outputs": [
        {
          "output_type": "stream",
          "name": "stdout",
          "text": [
            "은행 이름: SC은행, 예금주: 차정은, 계좌번호: 960-45-802496, 잔고: 1000\n",
            "은행 이름: SC은행, 예금주: 박광석, 계좌번호: 744-16-402255, 잔고: 30000000\n",
            "은행 이름: SC은행, 예금주: 조웅제, 계좌번호: 565-17-134815, 잔고: 50000000\n"
          ]
        }
      ]
    },
    {
      "cell_type": "markdown",
      "source": [
        "- 2\n",
        "-- 클래스 변수 사용하여 생성된 계좌 객체의 개수 저장 추가"
      ],
      "metadata": {
        "id": "5UOxX5r-dQur"
      }
    },
    {
      "cell_type": "code",
      "source": [
        "#Q2\n",
        "#랜덤하게 생성\n",
        "import random\n",
        "class Account:\n",
        "    #2\n",
        "    account_count = 0 # 클래스 변수 사용하여 Account 클래스로부터 생성된 계좌 객체의 개수를 저장\n",
        "\n",
        "    def __init__(self, account_holder, initial_balance):\n",
        "        #1-2\n",
        "        self.account_holder = account_holder  # 예금주\n",
        "        self.initial_balance = initial_balance  # 초기 잔액\n",
        "        #1-3\n",
        "        self.bank_name = 'SC은행'  # 은행 이름\n",
        "        self.account_num = self.create_account_num() # 계좌번호 만들기\n",
        "        #2\n",
        "        Account.account_count += 1 # 계좌가 생성될 때 개수 증가\n",
        "\n",
        "    def create_account_num(self): # 계좌번호 3-2-6으로 랜덤 생성\n",
        "        three_digit_num = random.randint(100, 999) # 3자리\n",
        "        two_digit_num = random.randint(10, 99) # 2자리\n",
        "        six_digit_num = random.randint(100000, 999999) # 6자리\n",
        "        return f'{three_digit_num}-{two_digit_num}-{six_digit_num}' # 계좌번호\n",
        "\n",
        "first_account = Account('차정은', 1000)\n",
        "second_account = Account('박광석', 30000000)\n",
        "third_account = Account('조웅제', 50000000)"
      ],
      "metadata": {
        "id": "1NQyV655FSEI"
      },
      "execution_count": 200,
      "outputs": []
    },
    {
      "cell_type": "code",
      "source": [
        "print(f\"생성된 계좌의 총 개수: {Account.account_count}개\")"
      ],
      "metadata": {
        "colab": {
          "base_uri": "https://localhost:8080/"
        },
        "id": "HXS7_d2AZog6",
        "outputId": "b7df8656-90cd-4a18-dbe5-4c17cd69d29b"
      },
      "execution_count": 201,
      "outputs": [
        {
          "output_type": "stream",
          "name": "stdout",
          "text": [
            "생성된 계좌의 총 개수: 3개\n"
          ]
        }
      ]
    },
    {
      "cell_type": "markdown",
      "source": [
        "- 3\n",
        "-- 계좌 개수 출력하는 get_account_num() 메서드 추가"
      ],
      "metadata": {
        "id": "PguVEG0IdbBy"
      }
    },
    {
      "cell_type": "code",
      "source": [
        "#Q3\n",
        "#랜덤하게 생성\n",
        "import random\n",
        "class Account:\n",
        "    #2\n",
        "    account_count = 0 # 생성된 계좌 저장\n",
        "\n",
        "    def __init__(self, account_holder, initial_balance):\n",
        "        #1-2\n",
        "        self.account_holder = account_holder  # 예금주\n",
        "        self.initial_balance = initial_balance  # 초기 잔액\n",
        "        #1-3\n",
        "        self.bank_name = 'SC은행'  # 은행 이름\n",
        "        self.account_num = self.create_account_num() # 계좌번호 만들기\n",
        "        #2\n",
        "        Account.account_count += 1 # 계좌가 생성될 때 개수 증가\n",
        "\n",
        "    def create_account_num(self): # 계좌번호 3-2-6으로 랜덤 생성\n",
        "        three_digit_num = random.randint(100, 999) # 3자리\n",
        "        two_digit_num = random.randint(10, 99) # 2자리\n",
        "        six_digit_num = random.randint(100000, 999999) # 6자리\n",
        "        return f'{three_digit_num}-{two_digit_num}-{six_digit_num}' # 계좌번호\n",
        "    #Q3\n",
        "    def get_account_num(self): # Account 클래스로부터 생성된 계좌 계좌 개수 출력하는 get_account_num() 메서드 추가\n",
        "        return Account.account_count\n",
        "\n",
        "first_account = Account('차정은', 1000)\n",
        "second_account = Account('박광석', 30000000)\n",
        "third_account = Account('조웅제', 50000000)"
      ],
      "metadata": {
        "id": "4S_INMhjbEa9"
      },
      "execution_count": 311,
      "outputs": []
    },
    {
      "cell_type": "code",
      "source": [
        "print(f\"생성된 계좌의 총 개수: {first_account.get_account_num()}개\")\n",
        "print(f'은행 이름: {first_account.bank_name}, 예금주: {first_account.account_holder}, 계좌번호: {first_account.account_num}, 잔고: {first_account.initial_balance}')\n",
        "print(f'은행 이름: {second_account.bank_name}, 예금주: {second_account.account_holder}, 계좌번호: {second_account.account_num}, 잔고: {second_account.initial_balance}')\n",
        "print(f'은행 이름: {third_account.bank_name}, 예금주: {third_account.account_holder}, 계좌번호: {third_account.account_num}, 잔고: {third_account.initial_balance}')"
      ],
      "metadata": {
        "colab": {
          "base_uri": "https://localhost:8080/"
        },
        "id": "ONoVw3d7IimQ",
        "outputId": "e551c511-e01f-40b7-e8d2-c19790d9da67"
      },
      "execution_count": 313,
      "outputs": [
        {
          "output_type": "stream",
          "name": "stdout",
          "text": [
            "생성된 계좌의 총 개수: 3개\n",
            "은행 이름: SC은행, 예금주: 차정은, 계좌번호: 886-70-251619, 잔고: 1000\n",
            "은행 이름: SC은행, 예금주: 박광석, 계좌번호: 509-62-933657, 잔고: 30000000\n",
            "은행 이름: SC은행, 예금주: 조웅제, 계좌번호: 592-59-519164, 잔고: 50000000\n"
          ]
        }
      ]
    },
    {
      "cell_type": "markdown",
      "source": [
        "- 4-1\n",
        "-- 입금 메서드 deposit 메서드 추가\n",
        "- 4-2\n",
        "-- 입금은 최소 1원 이상만 가능\n",
        "- 5-1\n",
        "-- 출금 메서드 withdraw 메서드 추가\n",
        "- 5-2\n",
        "-- 출금은 계좌의 잔고 이상으로 출금 불가능"
      ],
      "metadata": {
        "id": "x-Pl4WzaeBo5"
      }
    },
    {
      "cell_type": "code",
      "source": [
        "#Q4,Q5\n",
        "#랜덤하게 생성\n",
        "import random\n",
        "class Account:\n",
        "    #2\n",
        "    account_count = 0 # 생성된 계좌 저장\n",
        "\n",
        "    def __init__(self, account_holder, initial_balance):\n",
        "        #1-2\n",
        "        self.account_holder = account_holder  # 예금주\n",
        "        self.initial_balance = initial_balance  # 초기 잔액\n",
        "        #1-3\n",
        "        self.bank_name = 'SC은행'  # 은행 이름\n",
        "        self.account_num = self.create_account_num() # 계좌번호 만들기\n",
        "        #2\n",
        "        Account.account_count += 1 # 계좌가 생성될 때 개수 증가\n",
        "\n",
        "    def create_account_num(self): # 계좌번호 3-2-6으로 랜덤 생성\n",
        "        three_digit_num = random.randint(100, 999) # 3자리\n",
        "        two_digit_num = random.randint(10, 99) # 2자리\n",
        "        six_digit_num = random.randint(100000, 999999) # 6자리\n",
        "        return f'{three_digit_num}-{two_digit_num}-{six_digit_num}' # 계좌번호\n",
        "    #Q3\n",
        "    def get_account_num(self): # 생성된 계좌의 개수 출력\n",
        "        return Account.account_count\n",
        "\n",
        "    #4-1\n",
        "    def deposit(self, money): # Account 클래스에 입금 메서드 deposit 메서드 추가\n",
        "        #4-2\n",
        "        if money >= 1: # 입금은 최소 1원 이상만 가능\n",
        "            self.initial_balance += money\n",
        "            return True\n",
        "        return False\n",
        "\n",
        "    #5-1\n",
        "    def withdraw(self, money): # Account 클래스에 출금 메서드 withdraw 메서드 추가\n",
        "        #5-2\n",
        "        if money <= self.initial_balance: # 출금은 계좌의 잔고 이상으로 출금 불가능\n",
        "            self.initial_balance -= money\n",
        "            return True\n",
        "        return False\n",
        "\n",
        "first_account = Account('차정은', 1000)\n",
        "second_account = Account('박광석', 30000000)\n",
        "third_account = Account('조웅제', 50000000)"
      ],
      "metadata": {
        "id": "LLnkNViCV9qs"
      },
      "execution_count": 212,
      "outputs": []
    },
    {
      "cell_type": "code",
      "source": [
        "first_account.deposit(5000)\n",
        "print(first_account.initial_balance)\n",
        "\n",
        "first_account.withdraw(3000)\n",
        "print(first_account.initial_balance)\n"
      ],
      "metadata": {
        "colab": {
          "base_uri": "https://localhost:8080/"
        },
        "id": "8GhwbYUycLx8",
        "outputId": "08dc04a7-88e0-498f-957c-3775fa732ff7"
      },
      "execution_count": 211,
      "outputs": [
        {
          "output_type": "stream",
          "name": "stdout",
          "text": [
            "17000\n",
            "14000\n"
          ]
        }
      ]
    },
    {
      "cell_type": "markdown",
      "source": [
        "- 6-1\n",
        "-- Account 인스턴스에 저장된 정보를 출력하는 display_info() 메서드를 추가\n",
        "- 6-2\n",
        "-- 잔고는 세자리마다 쉼표를 출력"
      ],
      "metadata": {
        "id": "jhmHi08PoEfx"
      }
    },
    {
      "cell_type": "code",
      "source": [
        "#Q6\n",
        "#랜덤하게 생성\n",
        "import random\n",
        "class Account:\n",
        "    #2\n",
        "    account_count = 0 # 생성된 계좌 저장\n",
        "\n",
        "    def __init__(self, account_holder, initial_balance):\n",
        "        #1-2\n",
        "        self.account_holder = account_holder  # 예금주\n",
        "        self.initial_balance = initial_balance  # 초기 잔액\n",
        "        #1-3\n",
        "        self.bank_name = 'SC은행'  # 은행 이름\n",
        "        self.account_num = self.create_account_num() # 계좌번호 만들기\n",
        "        #2\n",
        "        Account.account_count += 1 # 계좌가 생성될 때 개수 증가\n",
        "\n",
        "    def create_account_num(self): # 계좌번호 3-2-6으로 랜덤 생성\n",
        "        three_digit_num = random.randint(100, 999) # 3자리\n",
        "        two_digit_num = random.randint(10, 99) # 2자리\n",
        "        six_digit_num = random.randint(100000, 999999) # 6자리\n",
        "        return f'{three_digit_num}-{two_digit_num}-{six_digit_num}' # 계좌번호\n",
        "    #Q3\n",
        "    def get_account_num(self): # 생성된 계좌의 개수 출력\n",
        "        return Account.account_count\n",
        "\n",
        "    #4-1\n",
        "    def deposit(self, money): # Account 클래스에 입금 메서드 deposit 메서드 추가\n",
        "        #4-2\n",
        "        if money >= 1: # 입금은 최소 1원 이상만 가능\n",
        "            self.initial_balance += money\n",
        "            return True\n",
        "        return False\n",
        "\n",
        "    #5-1\n",
        "    def withdraw(self, money): # Account 클래스에 출금 메서드 withdraw 메서드 추가\n",
        "        #5-2\n",
        "        if money <= self.initial_balance: # 출금은 계좌의 잔고 이상으로 출금 불가능\n",
        "            self.initial_balance -= money\n",
        "            return True\n",
        "        return False\n",
        "\n",
        "    #6-1\n",
        "    def display_info(self): #Account 인스턴스에 저장된 정보를 출력하는 display_info() 메서드를 추가\n",
        "        #6-2\n",
        "        balance_output = f\"{self.initial_balance:,}원\" #잔고는 세자리마다 쉼표를 출력\n",
        "        return f\"은행 이름: {self.bank_name}, 예금주: {self.account_holder}, 계좌번호: {self.account_num}, 잔고: {balance_output}\"\n",
        "\n",
        "first_account = Account('차정은', 1000)\n",
        "second_account = Account('박광석', 30000000)\n",
        "third_account = Account('조웅제', 50000000)"
      ],
      "metadata": {
        "id": "32Rg9uLmlZrt"
      },
      "execution_count": 234,
      "outputs": []
    },
    {
      "cell_type": "code",
      "source": [
        "print(f\"생성된 계좌의 총 개수: {first_account.get_account_num()}개\")\n",
        "print(first_account.display_info())\n",
        "print(second_account.display_info())\n",
        "print(third_account.display_info())"
      ],
      "metadata": {
        "colab": {
          "base_uri": "https://localhost:8080/"
        },
        "id": "cYozcnuFnHTG",
        "outputId": "4ecd58f3-9589-46c1-afee-a3da403fcb74"
      },
      "execution_count": 235,
      "outputs": [
        {
          "output_type": "stream",
          "name": "stdout",
          "text": [
            "생성된 계좌의 총 개수: 3개\n",
            "은행 이름: SC은행, 예금주: 차정은, 계좌번호: 910-65-678049, 잔고: 1,000원\n",
            "은행 이름: SC은행, 예금주: 박광석, 계좌번호: 874-70-106432, 잔고: 30,000,000원\n",
            "은행 이름: SC은행, 예금주: 조웅제, 계좌번호: 982-42-137407, 잔고: 50,000,000원\n"
          ]
        }
      ]
    },
    {
      "cell_type": "markdown",
      "source": [
        "- 7-1\n",
        "-- 입금 횟수 저장\n",
        "- 7-2\n",
        "-- 입금 횟수가 5회가 될 때 잔고를 기준으로 1%의 이자가 잔고에 추가되도록 코드를 변경"
      ],
      "metadata": {
        "id": "Nz8LB9YGpNWX"
      }
    },
    {
      "cell_type": "code",
      "source": [
        "#Q7\n",
        "#랜덤하게 생성\n",
        "import random\n",
        "class Account:\n",
        "    #2\n",
        "    account_count = 0 # 생성된 계좌 저장\n",
        "\n",
        "    def __init__(self, account_holder, initial_balance):\n",
        "        #1-2\n",
        "        self.account_holder = account_holder  # 예금주\n",
        "        self.initial_balance = initial_balance  # 초기 잔액\n",
        "        #1-3\n",
        "        self.bank_name = 'SC은행'  # 은행 이름\n",
        "        self.account_num = self.create_account_num() # 계좌번호 만들기\n",
        "        #2\n",
        "        Account.account_count += 1 # 계좌가 생성될 때 개수 증가\n",
        "        #7\n",
        "        self.deposit_count = 0  # 입금 횟수 저장\n",
        "\n",
        "    def create_account_num(self): # 계좌번호 3-2-6으로 랜덤 생성\n",
        "        three_digit_num = random.randint(100, 999) # 3자리\n",
        "        two_digit_num = random.randint(10, 99) # 2자리\n",
        "        six_digit_num = random.randint(100000, 999999) # 6자리\n",
        "        return f'{three_digit_num}-{two_digit_num}-{six_digit_num}' # 계좌번호\n",
        "    #Q3\n",
        "    def get_account_num(self): # 생성된 계좌의 개수 출력\n",
        "        return Account.account_count\n",
        "\n",
        "    #4-1\n",
        "    def deposit(self, money): # Account 클래스에 입금 메서드 deposit 메서드 추가\n",
        "        #4-2\n",
        "        if money >= 1: # 입금은 최소 1원 이상만 가능\n",
        "            self.initial_balance += money\n",
        "            self.deposit_count += 1 # 입금 횟수 증가\n",
        "            if self.deposit_count % 5 == 0: # 입금 횟수가 5회가 된다면\n",
        "                self.initial_balance += self.initial_balance * 0.01 #잔고를 기준으로 1%의 이자가 잔고에 추가\n",
        "            return True\n",
        "\n",
        "    #5-1\n",
        "    def withdraw(self, money): # Account 클래스에 출금 메서드 withdraw 메서드 추가\n",
        "        #5-2\n",
        "        if money <= self.initial_balance: # 출금은 계좌의 잔고 이상으로 출금 불가능\n",
        "            self.initial_balance -= money\n",
        "            return True\n",
        "        return False\n",
        "\n",
        "    #6-1\n",
        "    def display_info(self): #Account 인스턴스에 저장된 정보를 출력하는 display_info() 메서드를 추가\n",
        "        #6-2\n",
        "        balance_output = f\"{self.initial_balance:,}원\" #잔고는 세자리마다 쉼표를 출력\n",
        "        return f\"은행 이름: {self.bank_name}, 예금주: {self.account_holder}, 계좌번호: {self.account_num}, 잔고: {balance_output}\"\n",
        "\n",
        "first_account = Account('차정은', 1000)\n",
        "second_account = Account('박광석', 30000000)\n",
        "third_account = Account('조웅제', 50000000)\n"
      ],
      "metadata": {
        "id": "qZS6z1N-pWwj"
      },
      "execution_count": 260,
      "outputs": []
    },
    {
      "cell_type": "code",
      "source": [
        "for i in range(10):\n",
        "    first_account.deposit(1000)  # Deposit money\n",
        "    first_account.withdraw(500)  # Withdraw money\n",
        "\n",
        "print(first_account.display_info())"
      ],
      "metadata": {
        "colab": {
          "base_uri": "https://localhost:8080/"
        },
        "id": "NUE84TdMtyV_",
        "outputId": "2fc9a383-cdf8-46d8-876b-304fa967f831"
      },
      "execution_count": 261,
      "outputs": [
        {
          "output_type": "stream",
          "name": "stdout",
          "text": [
            "은행 이름: SC은행, 예금주: 차정은, 계좌번호: 140-99-250364, 잔고: 6,105.4원\n"
          ]
        }
      ]
    },
    {
      "cell_type": "markdown",
      "source": [
        "- 8\n",
        "-- Account 클래스로부터 3개 이상 인스턴스를 생성하고 생성된 인스턴스를 리스트에 저장"
      ],
      "metadata": {
        "id": "riGuwfHLuFXf"
      }
    },
    {
      "cell_type": "code",
      "source": [
        "#Q8\n",
        "#랜덤하게 생성\n",
        "import random\n",
        "class Account:\n",
        "    #2\n",
        "    account_count = 0 # 생성된 계좌 저장\n",
        "\n",
        "    def __init__(self, account_holder, initial_balance):\n",
        "        #1-2\n",
        "        self.account_holder = account_holder  # 예금주\n",
        "        self.initial_balance = initial_balance  # 초기 잔액\n",
        "        #1-3\n",
        "        self.bank_name = 'SC은행'  # 은행 이름\n",
        "        self.account_num = self.create_account_num() # 계좌번호 만들기\n",
        "        #2\n",
        "        Account.account_count += 1 # 계좌가 생성될 때 개수 증가\n",
        "        #7\n",
        "        self.deposit_count = 0  # 입금 횟수 저장\n",
        "\n",
        "    def create_account_num(self): # 계좌번호 3-2-6으로 랜덤 생성\n",
        "        three_digit_num = random.randint(100, 999) # 3자리\n",
        "        two_digit_num = random.randint(10, 99) # 2자리\n",
        "        six_digit_num = random.randint(100000, 999999) # 6자리\n",
        "        return f'{three_digit_num}-{two_digit_num}-{six_digit_num}' # 계좌번호\n",
        "    #3\n",
        "    def get_account_num(self): # 생성된 계좌의 개수 출력\n",
        "        return Account.account_count\n",
        "\n",
        "    #4-1\n",
        "    def deposit(self, money): # Account 클래스에 입금 메서드 deposit 메서드 추가\n",
        "        #4-2\n",
        "        if money >= 1: # 입금은 최소 1원 이상만 가능\n",
        "            self.initial_balance += money\n",
        "            self.deposit_count += 1 # 입금 횟수 증가\n",
        "            if self.deposit_count % 5 == 0: # 입금 횟수가 5회가 된다면\n",
        "                self.initial_balance += self.initial_balance * 0.01 #잔고를 기준으로 1%의 이자가 잔고에 추가\n",
        "            return True\n",
        "\n",
        "    #5-1\n",
        "    def withdraw(self, money): # Account 클래스에 출금 메서드 withdraw 메서드 추가\n",
        "        #5-2\n",
        "        if money <= self.initial_balance: # 출금은 계좌의 잔고 이상으로 출금 불가능\n",
        "            self.initial_balance -= money\n",
        "            return True\n",
        "        return False\n",
        "\n",
        "    #6-1\n",
        "    def display_info(self): #Account 인스턴스에 저장된 정보를 출력하는 display_info() 메서드를 추가\n",
        "        #6-2\n",
        "        balance_output = f\"{self.initial_balance:,}원\" #잔고는 세자리마다 쉼표를 출력\n",
        "        return f\"은행 이름: {self.bank_name}, 예금주: {self.account_holder}, 계좌번호: {self.account_num}, 잔고: {balance_output}\"\n",
        "#8\n",
        "various_depositors = [\n",
        "    Account('차정은', 1000),\n",
        "    Account('박광석', 30000000), #Account 클래스로부터 3개 이상 인스턴스를 생성하고 생성된 인스턴스를 리스트에 저장\n",
        "    Account('조웅제', 50000000)\n",
        "]"
      ],
      "metadata": {
        "id": "7px3ixbTuWn7"
      },
      "execution_count": 314,
      "outputs": []
    },
    {
      "cell_type": "code",
      "source": [
        "print(f\"생성된 계좌의 총 개수: {various_depositors[0].get_account_num()}개\")\n",
        "for depositor in various_depositors:\n",
        "    print(depositor.display_info())\n"
      ],
      "metadata": {
        "colab": {
          "base_uri": "https://localhost:8080/"
        },
        "id": "2EUp7vvSvLSZ",
        "outputId": "a65eae99-5516-4e76-b78f-fcb05d6c51c9"
      },
      "execution_count": 316,
      "outputs": [
        {
          "output_type": "stream",
          "name": "stdout",
          "text": [
            "생성된 계좌의 총 개수: 3개\n",
            "은행 이름: SC은행, 예금주: 차정은, 계좌번호: 622-15-201180, 잔고: 1,000원\n",
            "은행 이름: SC은행, 예금주: 박광석, 계좌번호: 559-69-741784, 잔고: 30,000,000원\n",
            "은행 이름: SC은행, 예금주: 조웅제, 계좌번호: 438-53-246523, 잔고: 50,000,000원\n"
          ]
        }
      ]
    },
    {
      "cell_type": "markdown",
      "source": [
        "- 9\n",
        "-- 객체 순회 반복문을 통해 리스트에 있는 객체를 순회하면서 잔고가 100만원 이상인 고객의 정보만 출력하세요.\n",
        "\n"
      ],
      "metadata": {
        "id": "LbKU7RHdwoWT"
      }
    },
    {
      "cell_type": "code",
      "source": [
        "#Q9\n",
        "#랜덤하게 생성\n",
        "import random\n",
        "class Account:\n",
        "    #2\n",
        "    account_count = 0 # 생성된 계좌 저장\n",
        "\n",
        "    def __init__(self, account_holder, initial_balance):\n",
        "        #1-2\n",
        "        self.account_holder = account_holder  # 예금주\n",
        "        self.initial_balance = initial_balance  # 초기 잔액\n",
        "        #1-3\n",
        "        self.bank_name = 'SC은행'  # 은행 이름\n",
        "        self.account_num = self.create_account_num() # 계좌번호 만들기\n",
        "        #2\n",
        "        Account.account_count += 1 # 계좌가 생성될 때 개수 증가\n",
        "        #7\n",
        "        self.deposit_count = 0  # 입금 횟수 저장\n",
        "\n",
        "    def create_account_num(self): # 계좌번호 3-2-6으로 랜덤 생성\n",
        "        three_digit_num = random.randint(100, 999) # 3자리\n",
        "        two_digit_num = random.randint(10, 99) # 2자리\n",
        "        six_digit_num = random.randint(100000, 999999) # 6자리\n",
        "        return f'{three_digit_num}-{two_digit_num}-{six_digit_num}' # 계좌번호\n",
        "    #Q3\n",
        "    def get_account_num(self): # 생성된 계좌의 개수 출력\n",
        "        return Account.account_count\n",
        "\n",
        "    #4-1\n",
        "    def deposit(self, money): # Account 클래스에 입금 메서드 deposit 메서드 추가\n",
        "        #4-2\n",
        "        if money >= 1: # 입금은 최소 1원 이상만 가능\n",
        "            self.initial_balance += money\n",
        "            self.deposit_count += 1 # 입금 횟수 증가\n",
        "            if self.deposit_count % 5 == 0: # 입금 횟수가 5회가 된다면\n",
        "                self.initial_balance += self.initial_balance * 0.01 #잔고를 기준으로 1%의 이자가 잔고에 추가\n",
        "            return True\n",
        "\n",
        "    #5-1\n",
        "    def withdraw(self, money): # Account 클래스에 출금 메서드 withdraw 메서드 추가\n",
        "        #5-2\n",
        "        if money <= self.initial_balance: # 출금은 계좌의 잔고 이상으로 출금 불가능\n",
        "            self.initial_balance -= money\n",
        "            return True\n",
        "        return False\n",
        "\n",
        "    #6-1\n",
        "    def display_info(self): #Account 인스턴스에 저장된 정보를 출력하는 display_info() 메서드를 추가\n",
        "        #6-2\n",
        "        balance_output = f\"{self.initial_balance:,}원\" #잔고는 세자리마다 쉼표를 출력\n",
        "        return f\"은행 이름: {self.bank_name}, 예금주: {self.account_holder}, 계좌번호: {self.account_num}, 잔고: {balance_output}\"\n",
        "#8\n",
        "various_depositors = [\n",
        "    Account('차정은', 1000),\n",
        "    Account('박광석', 30000000), #Account 클래스로부터 3개 이상 인스턴스를 생성하고 생성된 인스턴스를 리스트에 저장\n",
        "    Account('조웅제', 50000000)\n",
        "]\n",
        "#9 객체 순회 반복문을 통해 리스트에 있는 객체를 순회\n",
        "for account in various_depositors:\n",
        "    if account.initial_balance >= 1000000: #잔고가 100만원 이상인 고객 정보만 출력\n",
        "        print(account.display_info())"
      ],
      "metadata": {
        "colab": {
          "base_uri": "https://localhost:8080/"
        },
        "id": "vq6kY9ARws8x",
        "outputId": "5f6dbf6a-8ccc-4f56-a9df-b07220a5693b"
      },
      "execution_count": 274,
      "outputs": [
        {
          "output_type": "stream",
          "name": "stdout",
          "text": [
            "은행 이름: SC은행, 예금주: 박광석, 계좌번호: 913-59-391042, 잔고: 30,000,000원\n",
            "은행 이름: SC은행, 예금주: 조웅제, 계좌번호: 557-15-923265, 잔고: 50,000,000원\n"
          ]
        }
      ]
    },
    {
      "cell_type": "markdown",
      "source": [
        "- 10\n",
        "-- 입금과 출금 내역이 기록되도록 코드를 업데이트\n",
        "- 10-1\n",
        "-- 입금 내역을 출력하는 deposit_history 메서드 추가\n",
        "- 10-2\n",
        "-- 출금 내역을 출력하는 withdraw_history 메서드 추가\n",
        "\n"
      ],
      "metadata": {
        "id": "ID20A9nKyUy3"
      }
    },
    {
      "cell_type": "code",
      "source": [
        "#Q10\n",
        "#랜덤하게 생성\n",
        "import random\n",
        "class Account:\n",
        "    #2\n",
        "    account_count = 0 # 생성된 계좌 저장\n",
        "\n",
        "    def __init__(self, account_holder, initial_balance):\n",
        "        #1-2\n",
        "        self.account_holder = account_holder  # 예금주\n",
        "        self.initial_balance = initial_balance  # 초기 잔액\n",
        "        #1-3\n",
        "        self.bank_name = 'SC은행'  # 은행 이름\n",
        "        self.account_num = self.create_account_num() # 계좌번호 만들기\n",
        "        #2\n",
        "        Account.account_count += 1 # 계좌가 생성될 때 개수 증가\n",
        "        #7\n",
        "        self.deposit_count = 0  # 입금 횟수 저장\n",
        "        #10-1\n",
        "        self.deposit_details = [] # 입금 내역 저장\n",
        "        #10-2\n",
        "        self.withdraw_details = [] # 추금 내역 저장\n",
        "\n",
        "    def create_account_num(self): # 계좌번호 3-2-6으로 랜덤 생성\n",
        "        three_digit_num = random.randint(100, 999) # 3자리\n",
        "        two_digit_num = random.randint(10, 99) # 2자리\n",
        "        six_digit_num = random.randint(100000, 999999) # 6자리\n",
        "        return f'{three_digit_num}-{two_digit_num}-{six_digit_num}' # 계좌번호\n",
        "    #Q3\n",
        "    def get_account_num(self): # 생성된 계좌의 개수 출력\n",
        "        return Account.account_count\n",
        "\n",
        "    #4-1\n",
        "    def deposit(self, money): # Account 클래스에 입금 메서드 deposit 메서드 추가\n",
        "        #4-2\n",
        "        if money >= 1: # 입금은 최소 1원 이상만 가능\n",
        "            self.initial_balance += money\n",
        "            self.deposit_count += 1 # 입금 횟수 증가\n",
        "            #10\n",
        "            self.deposit_details.append(f'{len(self.deposit_details) + 1}회: 입금       금액: {money:,}   잔액: {self.initial_balance:,}') # 입금 내역 업데이트\n",
        "\n",
        "            if self.deposit_count % 5 == 0: # 입금 횟수가 5회가 된다면\n",
        "                interest = int(self.initial_balance * 0.01) # interest = 이자\n",
        "                self.initial_balance += interest # 잔고를 기준으로 1%의 이자가 잔고에 추가\n",
        "                self.deposit_details.append(f'{len(self.deposit_details) + 1}회: 이자지급   금액: {interest:,}      잔액: {self.initial_balance:,}') # 이자 입금 내역 업데이트\n",
        "            return True\n",
        "        else:\n",
        "            print(f'입금은 최소 1원 이상만 가능합니다.')\n",
        "            return False\n",
        "\n",
        "    #5-1\n",
        "    def withdraw(self, money): # Account 클래스에 출금 메서드 withdraw 메서드 추가\n",
        "        #5-2\n",
        "        if money <= self.initial_balance: # 출금은 계좌의 잔고 이상으로 출금 불가능\n",
        "            self.initial_balance -= money\n",
        "            self.withdraw_details.append(f'{len(self.withdraw_details) + + 1}회: 출금       금액: {money:,}   잔액: {self.initial_balance:,}') # 출금 내역 업데이트\n",
        "            return True\n",
        "        else:\n",
        "            print(f'계좌 잔고 이상으로 출금할 수 없습니다.')\n",
        "            return False\n",
        "    #6-1\n",
        "    def display_info(self): #Account 인스턴스에 저장된 정보를 출력하는 display_info() 메서드를 추가\n",
        "        #6-2\n",
        "        balance_output = f\"{self.initial_balance:,}원\" #잔고는 세자리마다 쉼표를 출력\n",
        "        return f'은행 이름: {self.bank_name}, 예금주: {self.account_holder}, 계좌번호: {self.account_num}, 잔고: {balance_output}'\n",
        "\n",
        "    #10-1\n",
        "    def deposit_history(self):\n",
        "      # return f'입금 내역: {self.deposit_details}'\n",
        "      return '\\n'.join(self.deposit_details)\n",
        "    #10-2\n",
        "    def withdraw_history(self):\n",
        "      # return f'출금 내역: {self.withdraw_details}'\n",
        "      return '\\n'.join(self.withdraw_details)\n",
        "\n",
        "first_account = Account('차정은', 1000)\n",
        "second_account = Account('박광석', 30000000)\n",
        "third_account = Account('조웅제', 50000000)\n",
        "\n",
        "#8  #Account 클래스로부터 3개 이상 인스턴스를 생성하고 생성된 인스턴스를 리스트에 저장\n",
        "various_depositors = [first_account, second_account, third_account]"
      ],
      "metadata": {
        "id": "96_qu_MsySD5"
      },
      "execution_count": 401,
      "outputs": []
    },
    {
      "cell_type": "code",
      "source": [
        "print(f\"생성된 계좌의 총 개수: {first_account.get_account_num()}개\")\n",
        "for account in various_depositors:\n",
        "    if account.initial_balance >= 1000000:\n",
        "        print(account.display_info())"
      ],
      "metadata": {
        "colab": {
          "base_uri": "https://localhost:8080/"
        },
        "id": "NZp1WI9r-o3R",
        "outputId": "bf637f2a-d15f-41bb-fe11-e000e9c0cb02"
      },
      "execution_count": 357,
      "outputs": [
        {
          "output_type": "stream",
          "name": "stdout",
          "text": [
            "생성된 계좌의 총 개수: 3개\n",
            "은행 이름: SC은행, 예금주: 박광석, 계좌번호: 683-80-730062, 잔고: 30,000,000원\n",
            "은행 이름: SC은행, 예금주: 조웅제, 계좌번호: 617-89-749773, 잔고: 50,000,000원\n"
          ]
        }
      ]
    },
    {
      "cell_type": "code",
      "source": [
        "my_account = Account('차정은', 1000)\n",
        "for _ in range(6):\n",
        "    my_account.deposit(1000)\n",
        "my_account.withdraw(3000)\n",
        "\n",
        "print(my_account.deposit_history())\n",
        "print('-' * 50)\n",
        "print(my_account.withdraw_history())"
      ],
      "metadata": {
        "colab": {
          "base_uri": "https://localhost:8080/"
        },
        "id": "IRRSSLYuBBkx",
        "outputId": "16d9d3c3-6187-4b24-fdae-6a685893f333"
      },
      "execution_count": 402,
      "outputs": [
        {
          "output_type": "stream",
          "name": "stdout",
          "text": [
            "1회: 입금       금액: 1,000   잔액: 2,000\n",
            "2회: 입금       금액: 1,000   잔액: 3,000\n",
            "3회: 입금       금액: 1,000   잔액: 4,000\n",
            "4회: 입금       금액: 1,000   잔액: 5,000\n",
            "5회: 입금       금액: 1,000   잔액: 6,000\n",
            "6회: 이자지급   금액: 60      잔액: 6,060\n",
            "7회: 입금       금액: 1,000   잔액: 7,060\n",
            "--------------------------------------------------\n",
            "1회: 출금       금액: 3,000   잔액: 4,060\n"
          ]
        }
      ]
    },
    {
      "cell_type": "markdown",
      "source": [
        "퀘스트를 하나밖에 못 풀어서 아쉬워요...."
      ],
      "metadata": {
        "id": "r4YPZEGqbWUs"
      }
    }
  ]
}