{
 "cells": [
  {
   "cell_type": "markdown",
   "id": "4d5e8b42",
   "metadata": {},
   "source": [
    "## 회고\n",
    "- 안진용: 디코더 인코더 부분을 좀 더 공부해보고 전처리 역시 내가 직접 코드 하나씩 넣어서 해봐야겠다는 생각이 들었다."
    "- 공옥례: 코랩으로만 하다가 오늘 아이펠 lms 주피터 노트북으로 작업을 하니 잘 되어서 향후 아이펭 lms를 사용할 계획이다. 그리고 흥미가 있었다.
   ]
  },
  {
   "cell_type": "markdown",
   "id": "56814f27",
   "metadata": {},
   "source": [
    "## 주요 라이브러리"
   ]
  },
  {
   "cell_type": "code",
   "execution_count": 1,
   "id": "d8bc54cc",
   "metadata": {},
   "outputs": [
    {
     "name": "stderr",
     "output_type": "stream",
     "text": [
      "[nltk_data] Downloading package stopwords to /aiffel/nltk_data...\n",
      "[nltk_data]   Unzipping corpora/stopwords.zip.\n",
      "[nltk_data] Downloading package wordnet to /aiffel/nltk_data...\n",
      "[nltk_data] Downloading package omw-1.4 to /aiffel/nltk_data...\n",
      "Matplotlib is building the font cache; this may take a moment.\n"
     ]
    },
    {
     "name": "stdout",
     "output_type": "stream",
     "text": [
      "3.6.5\n",
      "2.6.0\n",
      "1.3.3\n",
      "1.2.0\n"
     ]
    },
    {
     "name": "stderr",
     "output_type": "stream",
     "text": [
      "[nltk_data] Downloading package stopwords to /aiffel/nltk_data...\n",
      "[nltk_data]   Package stopwords is already up-to-date!\n"
     ]
    }
   ],
   "source": [
    "import nltk\n",
    "nltk.download('stopwords')\n",
    "nltk.download('wordnet')    # WordNet 데이터 다운로드\n",
    "nltk.download('omw-1.4')    # WordNet의 다국어 지원 데이터 다운로드\n",
    "\n",
    "import numpy as np\n",
    "import pandas as pd\n",
    "import os\n",
    "import re\n",
    "import matplotlib.pyplot as plt\n",
    "from nltk.corpus import stopwords\n",
    "from bs4 import BeautifulSoup \n",
    "from tensorflow.keras.preprocessing.text import Tokenizer \n",
    "from tensorflow.keras.preprocessing.sequence import pad_sequences\n",
    "import urllib.request\n",
    "import warnings\n",
    "warnings.filterwarnings(\"ignore\", category=UserWarning, module='bs4')\n",
    "\n",
    "from importlib.metadata import version\n",
    "import tensorflow\n",
    "import summa\n",
    "\n",
    "nltk.download('stopwords')\n",
    "\n",
    "print(nltk.__version__)\n",
    "print(tensorflow.__version__)\n",
    "print(pd.__version__)\n",
    "print(version('summa'))"
   ]
  },
  {
   "cell_type": "markdown",
   "id": "dd6709a8",
   "metadata": {},
   "source": [
    "## 데이터 불러오기"
   ]
  },
  {
   "cell_type": "code",
   "execution_count": 2,
   "id": "710a1f06",
   "metadata": {},
   "outputs": [
    {
     "name": "stdout",
     "output_type": "stream",
     "text": [
      "                                           headlines  \\\n",
      "0  upGrad learner switches to career in ML & Al w...   \n",
      "1  Delhi techie wins free food from Swiggy for on...   \n",
      "2  New Zealand end Rohit Sharma-led India's 12-ma...   \n",
      "3  Aegon life iTerm insurance plan helps customer...   \n",
      "4  Have known Hirani for yrs, what if MeToo claim...   \n",
      "\n",
      "                                                text  \n",
      "0  Saurav Kant, an alumnus of upGrad and IIIT-B's...  \n",
      "1  Kunal Shah's credit card bill payment platform...  \n",
      "2  New Zealand defeated India by 8 wickets in the...  \n",
      "3  With Aegon Life iTerm Insurance plan, customer...  \n",
      "4  Speaking about the sexual harassment allegatio...  \n"
     ]
    }
   ],
   "source": [
    "# 데이터셋 다운로드\n",
    "url = \"https://raw.githubusercontent.com/sunnysai12345/News_Summary/master/news_summary_more.csv\"\n",
    "filename = \"news_summary_more.csv\"\n",
    "urllib.request.urlretrieve(url, filename)\n",
    "\n",
    "# 데이터셋 로드\n",
    "data = pd.read_csv(filename, encoding='iso-8859-1')\n",
    "print(data.head())"
   ]
  },
  {
   "cell_type": "code",
   "execution_count": 3,
   "id": "8aa8d9a9",
   "metadata": {},
   "outputs": [
    {
     "name": "stdout",
     "output_type": "stream",
     "text": [
      "전체 샘플수 : 98401\n"
     ]
    }
   ],
   "source": [
    "print('전체 샘플수 :', (len(data)))"
   ]
  },
  {
   "cell_type": "markdown",
   "id": "d7776d84",
   "metadata": {},
   "source": [
    "칼럼이 headlines과 text로 구성"
   ]
  },
  {
   "cell_type": "code",
   "execution_count": 4,
   "id": "78ae4bbe",
   "metadata": {},
   "outputs": [
    {
     "data": {
      "text/html": [
       "<div>\n",
       "<style scoped>\n",
       "    .dataframe tbody tr th:only-of-type {\n",
       "        vertical-align: middle;\n",
       "    }\n",
       "\n",
       "    .dataframe tbody tr th {\n",
       "        vertical-align: top;\n",
       "    }\n",
       "\n",
       "    .dataframe thead th {\n",
       "        text-align: right;\n",
       "    }\n",
       "</style>\n",
       "<table border=\"1\" class=\"dataframe\">\n",
       "  <thead>\n",
       "    <tr style=\"text-align: right;\">\n",
       "      <th></th>\n",
       "      <th>headlines</th>\n",
       "      <th>text</th>\n",
       "    </tr>\n",
       "  </thead>\n",
       "  <tbody>\n",
       "    <tr>\n",
       "      <th>48927</th>\n",
       "      <td>33 homeless people found dead in 1st week of J...</td>\n",
       "      <td>Around 33 homeless people were found dead in D...</td>\n",
       "    </tr>\n",
       "    <tr>\n",
       "      <th>71602</th>\n",
       "      <td>Commentator cries as Syria keeps WC qualifying...</td>\n",
       "      <td>A commentator broke into tears after the Syria...</td>\n",
       "    </tr>\n",
       "    <tr>\n",
       "      <th>49827</th>\n",
       "      <td>N Korea denounces US as 'gross violator of hum...</td>\n",
       "      <td>Denouncing the US as a \"gross violator of huma...</td>\n",
       "    </tr>\n",
       "    <tr>\n",
       "      <th>84958</th>\n",
       "      <td>Vivek replaces Anushka in morphed poster of Ba...</td>\n",
       "      <td>Vivek Oberoi has replaced Anushka Sharma in a ...</td>\n",
       "    </tr>\n",
       "    <tr>\n",
       "      <th>83763</th>\n",
       "      <td>Manasarovar pilgrims stranded as China denies ...</td>\n",
       "      <td>India has initiated discussions with China aft...</td>\n",
       "    </tr>\n",
       "    <tr>\n",
       "      <th>22923</th>\n",
       "      <td>Almond milk recalled in US for containing actu...</td>\n",
       "      <td>A US company has recalled 1.45 lakh half-gallo...</td>\n",
       "    </tr>\n",
       "    <tr>\n",
       "      <th>77724</th>\n",
       "      <td>Pilot lands flight while 'blinded' as windshie...</td>\n",
       "      <td>A Ukrainian pilot carried out an emergency lan...</td>\n",
       "    </tr>\n",
       "    <tr>\n",
       "      <th>45266</th>\n",
       "      <td>Why are aspirants protesting against the SSC i...</td>\n",
       "      <td>Several Staff Selection Commission exam aspira...</td>\n",
       "    </tr>\n",
       "    <tr>\n",
       "      <th>24101</th>\n",
       "      <td>Apocalypse upon us, tweets user as Lord's rela...</td>\n",
       "      <td>After the British heatwave led to relaxing of ...</td>\n",
       "    </tr>\n",
       "    <tr>\n",
       "      <th>61898</th>\n",
       "      <td>IT hiring to be slower for years to come: Ex-I...</td>\n",
       "      <td>Former Infosys CFO V Balakrishnan has said tha...</td>\n",
       "    </tr>\n",
       "    <tr>\n",
       "      <th>58699</th>\n",
       "      <td>WB govt school gives maps showing parts of Kas...</td>\n",
       "      <td>A government school in West Bengal reportedly ...</td>\n",
       "    </tr>\n",
       "    <tr>\n",
       "      <th>7470</th>\n",
       "      <td>VHP to observe Shaurya Diwas in Ayodhya on Dec...</td>\n",
       "      <td>The Vishwa Hindu Parishad has said it'll obser...</td>\n",
       "    </tr>\n",
       "    <tr>\n",
       "      <th>64503</th>\n",
       "      <td>Found myself slipping into substance abuse, re...</td>\n",
       "      <td>Singer-songwriter Ed Sheeran has revealed that...</td>\n",
       "    </tr>\n",
       "    <tr>\n",
       "      <th>43785</th>\n",
       "      <td>In pictures: Stephen Hawking's most famous quotes</td>\n",
       "      <td>World renowned physicist Stephen Hawking, who ...</td>\n",
       "    </tr>\n",
       "    <tr>\n",
       "      <th>79182</th>\n",
       "      <td>I benefitted a lot from the 'serial kisser' ta...</td>\n",
       "      <td>Actor Emraan Hashmi has said he benefitted a l...</td>\n",
       "    </tr>\n",
       "  </tbody>\n",
       "</table>\n",
       "</div>"
      ],
      "text/plain": [
       "                                               headlines  \\\n",
       "48927  33 homeless people found dead in 1st week of J...   \n",
       "71602  Commentator cries as Syria keeps WC qualifying...   \n",
       "49827  N Korea denounces US as 'gross violator of hum...   \n",
       "84958  Vivek replaces Anushka in morphed poster of Ba...   \n",
       "83763  Manasarovar pilgrims stranded as China denies ...   \n",
       "22923  Almond milk recalled in US for containing actu...   \n",
       "77724  Pilot lands flight while 'blinded' as windshie...   \n",
       "45266  Why are aspirants protesting against the SSC i...   \n",
       "24101  Apocalypse upon us, tweets user as Lord's rela...   \n",
       "61898  IT hiring to be slower for years to come: Ex-I...   \n",
       "58699  WB govt school gives maps showing parts of Kas...   \n",
       "7470   VHP to observe Shaurya Diwas in Ayodhya on Dec...   \n",
       "64503  Found myself slipping into substance abuse, re...   \n",
       "43785  In pictures: Stephen Hawking's most famous quotes   \n",
       "79182  I benefitted a lot from the 'serial kisser' ta...   \n",
       "\n",
       "                                                    text  \n",
       "48927  Around 33 homeless people were found dead in D...  \n",
       "71602  A commentator broke into tears after the Syria...  \n",
       "49827  Denouncing the US as a \"gross violator of huma...  \n",
       "84958  Vivek Oberoi has replaced Anushka Sharma in a ...  \n",
       "83763  India has initiated discussions with China aft...  \n",
       "22923  A US company has recalled 1.45 lakh half-gallo...  \n",
       "77724  A Ukrainian pilot carried out an emergency lan...  \n",
       "45266  Several Staff Selection Commission exam aspira...  \n",
       "24101  After the British heatwave led to relaxing of ...  \n",
       "61898  Former Infosys CFO V Balakrishnan has said tha...  \n",
       "58699  A government school in West Bengal reportedly ...  \n",
       "7470   The Vishwa Hindu Parishad has said it'll obser...  \n",
       "64503  Singer-songwriter Ed Sheeran has revealed that...  \n",
       "43785  World renowned physicist Stephen Hawking, who ...  \n",
       "79182  Actor Emraan Hashmi has said he benefitted a l...  "
      ]
     },
     "execution_count": 4,
     "metadata": {},
     "output_type": "execute_result"
    }
   ],
   "source": [
    "data.sample(15)"
   ]
  },
  {
   "cell_type": "code",
   "execution_count": 5,
   "id": "2667b42e",
   "metadata": {},
   "outputs": [
    {
     "data": {
      "text/html": [
       "<div>\n",
       "<style scoped>\n",
       "    .dataframe tbody tr th:only-of-type {\n",
       "        vertical-align: middle;\n",
       "    }\n",
       "\n",
       "    .dataframe tbody tr th {\n",
       "        vertical-align: top;\n",
       "    }\n",
       "\n",
       "    .dataframe thead th {\n",
       "        text-align: right;\n",
       "    }\n",
       "</style>\n",
       "<table border=\"1\" class=\"dataframe\">\n",
       "  <thead>\n",
       "    <tr style=\"text-align: right;\">\n",
       "      <th></th>\n",
       "      <th>headlines</th>\n",
       "      <th>text</th>\n",
       "    </tr>\n",
       "  </thead>\n",
       "  <tbody>\n",
       "    <tr>\n",
       "      <th>0</th>\n",
       "      <td>upGrad learner switches to career in ML &amp; Al w...</td>\n",
       "      <td>Saurav Kant, an alumnus of upGrad and IIIT-B's...</td>\n",
       "    </tr>\n",
       "    <tr>\n",
       "      <th>1</th>\n",
       "      <td>Delhi techie wins free food from Swiggy for on...</td>\n",
       "      <td>Kunal Shah's credit card bill payment platform...</td>\n",
       "    </tr>\n",
       "    <tr>\n",
       "      <th>2</th>\n",
       "      <td>New Zealand end Rohit Sharma-led India's 12-ma...</td>\n",
       "      <td>New Zealand defeated India by 8 wickets in the...</td>\n",
       "    </tr>\n",
       "    <tr>\n",
       "      <th>3</th>\n",
       "      <td>Aegon life iTerm insurance plan helps customer...</td>\n",
       "      <td>With Aegon Life iTerm Insurance plan, customer...</td>\n",
       "    </tr>\n",
       "    <tr>\n",
       "      <th>4</th>\n",
       "      <td>Have known Hirani for yrs, what if MeToo claim...</td>\n",
       "      <td>Speaking about the sexual harassment allegatio...</td>\n",
       "    </tr>\n",
       "  </tbody>\n",
       "</table>\n",
       "</div>"
      ],
      "text/plain": [
       "                                           headlines  \\\n",
       "0  upGrad learner switches to career in ML & Al w...   \n",
       "1  Delhi techie wins free food from Swiggy for on...   \n",
       "2  New Zealand end Rohit Sharma-led India's 12-ma...   \n",
       "3  Aegon life iTerm insurance plan helps customer...   \n",
       "4  Have known Hirani for yrs, what if MeToo claim...   \n",
       "\n",
       "                                                text  \n",
       "0  Saurav Kant, an alumnus of upGrad and IIIT-B's...  \n",
       "1  Kunal Shah's credit card bill payment platform...  \n",
       "2  New Zealand defeated India by 8 wickets in the...  \n",
       "3  With Aegon Life iTerm Insurance plan, customer...  \n",
       "4  Speaking about the sexual harassment allegatio...  "
      ]
     },
     "execution_count": 5,
     "metadata": {},
     "output_type": "execute_result"
    }
   ],
   "source": [
    "data = data[['headlines', 'text']]\n",
    "data.head()"
   ]
  },
  {
   "cell_type": "markdown",
   "id": "b741bd08",
   "metadata": {},
   "source": [
    "## 데이터 전처리하기(데이터 정리)"
   ]
  },
  {
   "cell_type": "markdown",
   "id": "c7052524",
   "metadata": {},
   "source": [
    "텍스트 정규화"
   ]
  },
  {
   "cell_type": "code",
   "execution_count": 6,
   "id": "c6ce0a28",
   "metadata": {},
   "outputs": [
    {
     "name": "stdout",
     "output_type": "stream",
     "text": [
      "정규화 사전의 수:  120\n"
     ]
    }
   ],
   "source": [
    "contractions = {\"ain't\": \"is not\", \"aren't\": \"are not\",\"can't\": \"cannot\", \"'cause\": \"because\", \"could've\": \"could have\", \"couldn't\": \"could not\",\n",
    "                           \"didn't\": \"did not\",  \"doesn't\": \"does not\", \"don't\": \"do not\", \"hadn't\": \"had not\", \"hasn't\": \"has not\", \"haven't\": \"have not\",\n",
    "                           \"he'd\": \"he would\",\"he'll\": \"he will\", \"he's\": \"he is\", \"how'd\": \"how did\", \"how'd'y\": \"how do you\", \"how'll\": \"how will\", \"how's\": \"how is\",\n",
    "                           \"I'd\": \"I would\", \"I'd've\": \"I would have\", \"I'll\": \"I will\", \"I'll've\": \"I will have\",\"I'm\": \"I am\", \"I've\": \"I have\", \"i'd\": \"i would\",\n",
    "                           \"i'd've\": \"i would have\", \"i'll\": \"i will\",  \"i'll've\": \"i will have\",\"i'm\": \"i am\", \"i've\": \"i have\", \"isn't\": \"is not\", \"it'd\": \"it would\",\n",
    "                           \"it'd've\": \"it would have\", \"it'll\": \"it will\", \"it'll've\": \"it will have\",\"it's\": \"it is\", \"let's\": \"let us\", \"ma'am\": \"madam\",\n",
    "                           \"mayn't\": \"may not\", \"might've\": \"might have\",\"mightn't\": \"might not\",\"mightn't've\": \"might not have\", \"must've\": \"must have\",\n",
    "                           \"mustn't\": \"must not\", \"mustn't've\": \"must not have\", \"needn't\": \"need not\", \"needn't've\": \"need not have\",\"o'clock\": \"of the clock\",\n",
    "                           \"oughtn't\": \"ought not\", \"oughtn't've\": \"ought not have\", \"shan't\": \"shall not\", \"sha'n't\": \"shall not\", \"shan't've\": \"shall not have\",\n",
    "                           \"she'd\": \"she would\", \"she'd've\": \"she would have\", \"she'll\": \"she will\", \"she'll've\": \"she will have\", \"she's\": \"she is\",\n",
    "                           \"should've\": \"should have\", \"shouldn't\": \"should not\", \"shouldn't've\": \"should not have\", \"so've\": \"so have\",\"so's\": \"so as\",\n",
    "                           \"this's\": \"this is\",\"that'd\": \"that would\", \"that'd've\": \"that would have\", \"that's\": \"that is\", \"there'd\": \"there would\",\n",
    "                           \"there'd've\": \"there would have\", \"there's\": \"there is\", \"here's\": \"here is\",\"they'd\": \"they would\", \"they'd've\": \"they would have\",\n",
    "                           \"they'll\": \"they will\", \"they'll've\": \"they will have\", \"they're\": \"they are\", \"they've\": \"they have\", \"to've\": \"to have\",\n",
    "                           \"wasn't\": \"was not\", \"we'd\": \"we would\", \"we'd've\": \"we would have\", \"we'll\": \"we will\", \"we'll've\": \"we will have\", \"we're\": \"we are\",\n",
    "                           \"we've\": \"we have\", \"weren't\": \"were not\", \"what'll\": \"what will\", \"what'll've\": \"what will have\", \"what're\": \"what are\",\n",
    "                           \"what's\": \"what is\", \"what've\": \"what have\", \"when's\": \"when is\", \"when've\": \"when have\", \"where'd\": \"where did\", \"where's\": \"where is\",\n",
    "                           \"where've\": \"where have\", \"who'll\": \"who will\", \"who'll've\": \"who will have\", \"who's\": \"who is\", \"who've\": \"who have\",\n",
    "                           \"why's\": \"why is\", \"why've\": \"why have\", \"will've\": \"will have\", \"won't\": \"will not\", \"won't've\": \"will not have\",\n",
    "                           \"would've\": \"would have\", \"wouldn't\": \"would not\", \"wouldn't've\": \"would not have\", \"y'all\": \"you all\",\n",
    "                           \"y'all'd\": \"you all would\",\"y'all'd've\": \"you all would have\",\"y'all're\": \"you all are\",\"y'all've\": \"you all have\",\n",
    "                           \"you'd\": \"you would\", \"you'd've\": \"you would have\", \"you'll\": \"you will\", \"you'll've\": \"you will have\",\n",
    "                           \"you're\": \"you are\", \"you've\": \"you have\"}\n",
    "\n",
    "print(\"정규화 사전의 수: \", len(contractions))"
   ]
  },
  {
   "cell_type": "markdown",
   "id": "23c39d51",
   "metadata": {},
   "source": [
    "불용어는 총 198개"
   ]
  },
  {
   "cell_type": "code",
   "execution_count": 7,
   "id": "d21decbd",
   "metadata": {},
   "outputs": [
    {
     "name": "stdout",
     "output_type": "stream",
     "text": [
      "불용어 개수 : 198\n",
      "['a', 'about', 'above', 'after', 'again', 'against', 'ain', 'all', 'am', 'an', 'and', 'any', 'are', 'aren', \"aren't\", 'as', 'at', 'be', 'because', 'been', 'before', 'being', 'below', 'between', 'both', 'but', 'by', 'can', 'couldn', \"couldn't\", 'd', 'did', 'didn', \"didn't\", 'do', 'does', 'doesn', \"doesn't\", 'doing', 'don', \"don't\", 'down', 'during', 'each', 'few', 'for', 'from', 'further', 'had', 'hadn', \"hadn't\", 'has', 'hasn', \"hasn't\", 'have', 'haven', \"haven't\", 'having', 'he', \"he'd\", \"he'll\", 'her', 'here', 'hers', 'herself', \"he's\", 'him', 'himself', 'his', 'how', 'i', \"i'd\", 'if', \"i'll\", \"i'm\", 'in', 'into', 'is', 'isn', \"isn't\", 'it', \"it'd\", \"it'll\", \"it's\", 'its', 'itself', \"i've\", 'just', 'll', 'm', 'ma', 'me', 'mightn', \"mightn't\", 'more', 'most', 'mustn', \"mustn't\", 'my', 'myself', 'needn', \"needn't\", 'no', 'nor', 'not', 'now', 'o', 'of', 'off', 'on', 'once', 'only', 'or', 'other', 'our', 'ours', 'ourselves', 'out', 'over', 'own', 're', 's', 'same', 'shan', \"shan't\", 'she', \"she'd\", \"she'll\", \"she's\", 'should', 'shouldn', \"shouldn't\", \"should've\", 'so', 'some', 'such', 't', 'than', 'that', \"that'll\", 'the', 'their', 'theirs', 'them', 'themselves', 'then', 'there', 'these', 'they', \"they'd\", \"they'll\", \"they're\", \"they've\", 'this', 'those', 'through', 'to', 'too', 'under', 'until', 'up', 've', 'very', 'was', 'wasn', \"wasn't\", 'we', \"we'd\", \"we'll\", \"we're\", 'were', 'weren', \"weren't\", \"we've\", 'what', 'when', 'where', 'which', 'while', 'who', 'whom', 'why', 'will', 'with', 'won', \"won't\", 'wouldn', \"wouldn't\", 'y', 'you', \"you'd\", \"you'll\", 'your', \"you're\", 'yours', 'yourself', 'yourselves', \"you've\"]\n"
     ]
    }
   ],
   "source": [
    "print('불용어 개수 :', len(stopwords.words('english') ))\n",
    "print(stopwords.words('english'))"
   ]
  },
  {
   "cell_type": "code",
   "execution_count": 8,
   "id": "5c0bdd3e",
   "metadata": {},
   "outputs": [],
   "source": [
    "# 데이터 전처리 함수\n",
    "def preprocess_sentence(sentence, remove_stopwords=True):\n",
    "    sentence = sentence.lower() # 텍스트 소문자화\n",
    "    sentence = BeautifulSoup(sentence, \"lxml\").text # <br />, <a href = ...> 등의 html 태그 제거\n",
    "    sentence = re.sub(r'\\([^)]*\\)', '', sentence) # 괄호로 닫힌 문자열 (...) 제거 Ex) my husband (and myself!) for => my husband for\n",
    "    sentence = re.sub('\"','', sentence) # 쌍따옴표 \" 제거\n",
    "    sentence = ' '.join([contractions[t] if t in contractions else t for t in sentence.split(\" \")]) # 약어 정규화\n",
    "    sentence = re.sub(r\"'s\\b\",\"\", sentence) # 소유격 제거. Ex) roland's -> roland\n",
    "    sentence = re.sub(\"[^a-zA-Z]\", \" \", sentence) # 영어 외 문자(숫자, 특수문자 등) 공백으로 변환\n",
    "    sentence = re.sub('[m]{2,}', 'mm', sentence) # m이 3개 이상이면 2개로 변경. Ex) ummmmmmm yeah -> umm yeah\n",
    "    \n",
    "    # 불용어 제거 (text)\n",
    "    if remove_stopwords:\n",
    "        tokens = ' '.join(word for word in sentence.split() if not word in stopwords.words('english') if len(word) > 1)\n",
    "    # 불용어 미제거 (headlines)\n",
    "    else:\n",
    "        tokens = ' '.join(word for word in sentence.split() if len(word) > 1)\n",
    "    return tokens"
   ]
  },
  {
   "cell_type": "code",
   "execution_count": 9,
   "id": "19c2a2f1",
   "metadata": {},
   "outputs": [
    {
     "name": "stdout",
     "output_type": "stream",
     "text": [
      "Text 전처리 후 결과:  ['saurav kant alumnus upgrad iiit pg program machine learning artificial intelligence sr systems engineer infosys almost years work experience program upgrad degree career support helped transition data scientist tech mahindra salary hike upgrad online power learning powered lakh careers', 'kunal shah credit card bill payment platform cred gave users chance win free food swiggy one year pranav kaushik delhi techie bagged reward spending cred coins users get one cred coin per rupee bill paid used avail rewards brands like ixigo bookmyshow ubereats cult fit', 'new zealand defeated india wickets fourth odi hamilton thursday win first match five match odi series india lost international match rohit sharma captaincy consecutive victories dating back march match witnessed india getting seventh lowest total odi cricket history', 'aegon life iterm insurance plan customers enjoy tax benefits premiums paid save taxes plan provides life cover age years also customers options insure critical illnesses disability accidental death benefit rider life cover age years', 'speaking sexual harassment allegations rajkumar hirani sonam kapoor said known hirani many years true metoo movement get derailed metoo movement always believe woman case need reserve judgment added hirani accused assistant worked sanju']\n"
     ]
    }
   ],
   "source": [
    "# 전체 text 데이터에 대한 전처리 : 10분 이상 시간이 걸릴 수 있습니다. \n",
    "\n",
    "clean_text = list(data['text'].map(lambda sentence: preprocess_sentence(sentence, remove_stopwords=True)))\n",
    "\n",
    "# 전처리 후 출력\n",
    "print(\"Text 전처리 후 결과: \", clean_text[:5])"
   ]
  },
  {
   "cell_type": "code",
   "execution_count": 10,
   "id": "4c4f1ed4",
   "metadata": {},
   "outputs": [
    {
     "name": "stdout",
     "output_type": "stream",
     "text": [
      "headlines 전처리 후 결과:  ['upgrad learner switches to career in ml al with salary hike', 'delhi techie wins free food from swiggy for one year on cred', 'new zealand end rohit sharma led india match winning streak', 'aegon life iterm insurance plan helps customers save tax', 'have known hirani for yrs what if metoo claims are not true sonam']\n"
     ]
    }
   ],
   "source": [
    "# 전체 headlines 데이터에 대한 전처리 : 5분 이상 시간이 걸릴 수 있습니다. \n",
    "clean_headlines = list(data['headlines'].map(lambda sentence: preprocess_sentence(sentence, remove_stopwords=False)))\n",
    "\n",
    "print(\"headlines 전처리 후 결과: \", clean_headlines[:5])"
   ]
  },
  {
   "cell_type": "code",
   "execution_count": 11,
   "id": "40621c26",
   "metadata": {},
   "outputs": [],
   "source": [
    "data['text'] = clean_text\n",
    "data['headlines'] = clean_headlines\n",
    "\n",
    "# 빈 값을 Null 값으로 변환\n",
    "data.replace('', np.nan, inplace=True)"
   ]
  },
  {
   "cell_type": "code",
   "execution_count": 12,
   "id": "a414d04d",
   "metadata": {},
   "outputs": [
    {
     "data": {
      "text/plain": [
       "headlines    0\n",
       "text         0\n",
       "dtype: int64"
      ]
     },
     "execution_count": 12,
     "metadata": {},
     "output_type": "execute_result"
    }
   ],
   "source": [
    "data.isnull().sum()"
   ]
  },
  {
   "cell_type": "code",
   "execution_count": 13,
   "id": "d8f6ecd5",
   "metadata": {},
   "outputs": [
    {
     "name": "stdout",
     "output_type": "stream",
     "text": [
      "전체 샘플수 : 98401\n"
     ]
    }
   ],
   "source": [
    "data.dropna(axis=0, inplace=True)\n",
    "print('전체 샘플수 :', (len(data)))"
   ]
  },
  {
   "cell_type": "markdown",
   "id": "dc3ab974",
   "metadata": {},
   "source": [
    "text와 headlines의 최소, 최대, 평균 길이를 구하고 또한 길이 분포를 시각화"
   ]
  },
  {
   "cell_type": "code",
   "execution_count": 14,
   "id": "d982d957",
   "metadata": {},
   "outputs": [
    {
     "name": "stdout",
     "output_type": "stream",
     "text": [
      "텍스트의 최소 길이 : 1\n",
      "텍스트의 최대 길이 : 60\n",
      "텍스트의 평균 길이 : 35.09983638377659\n",
      "요약의 최소 길이 : 1\n",
      "요약의 최대 길이 : 16\n",
      "요약의 평균 길이 : 9.299651426306644\n"
     ]
    },
    {
     "data": {
      "image/png": "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\n",
      "text/plain": [
       "<Figure size 432x288 with 2 Axes>"
      ]
     },
     "metadata": {
      "needs_background": "light"
     },
     "output_type": "display_data"
    },
    {
     "data": {
      "image/png": "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\n",
      "text/plain": [
       "<Figure size 432x288 with 1 Axes>"
      ]
     },
     "metadata": {
      "needs_background": "light"
     },
     "output_type": "display_data"
    },
    {
     "data": {
      "image/png": "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\n",
      "text/plain": [
       "<Figure size 432x288 with 1 Axes>"
      ]
     },
     "metadata": {
      "needs_background": "light"
     },
     "output_type": "display_data"
    }
   ],
   "source": [
    "# 길이 분포 출력\n",
    "import matplotlib.pyplot as plt\n",
    "\n",
    "text_len = [len(s.split()) for s in data['text']]\n",
    "headlines_len = [len(s.split()) for s in data['headlines']]\n",
    "\n",
    "print('텍스트의 최소 길이 : {}'.format(np.min(text_len)))\n",
    "print('텍스트의 최대 길이 : {}'.format(np.max(text_len)))\n",
    "print('텍스트의 평균 길이 : {}'.format(np.mean(text_len)))\n",
    "print('요약의 최소 길이 : {}'.format(np.min(headlines_len)))\n",
    "print('요약의 최대 길이 : {}'.format(np.max(headlines_len)))\n",
    "print('요약의 평균 길이 : {}'.format(np.mean(headlines_len)))\n",
    "\n",
    "plt.subplot(1,2,1)\n",
    "plt.boxplot(text_len)\n",
    "plt.title('text')\n",
    "plt.subplot(1,2,2)\n",
    "plt.boxplot(headlines_len)\n",
    "plt.title('headlines')\n",
    "plt.tight_layout()\n",
    "plt.show()\n",
    "\n",
    "plt.title('text')\n",
    "plt.hist(text_len, bins = 40)\n",
    "plt.xlabel('length of samples')\n",
    "plt.ylabel('number of samples')\n",
    "plt.show()\n",
    "\n",
    "plt.title('headlines')\n",
    "plt.hist(headlines_len, bins = 40)\n",
    "plt.xlabel('length of samples')\n",
    "plt.ylabel('number of samples')\n",
    "plt.show()"
   ]
  },
  {
   "cell_type": "markdown",
   "id": "191eba0f",
   "metadata": {},
   "source": [
    "Text의 최대 길이와 Summary의 적절한 최대 길이"
   ]
  },
  {
   "cell_type": "code",
   "execution_count": 15,
   "id": "bc2dda73",
   "metadata": {},
   "outputs": [],
   "source": [
    "text_max_len = 50\n",
    "headlines_max_len = 8"
   ]
  },
  {
   "cell_type": "markdown",
   "id": "16bea5fc",
   "metadata": {},
   "source": [
    "훈련 데이터와 샘플의 길이를 입력하면, 데이터의 몇 %가 해당하는지 계산하는 함수를 만들어서 좀 더 정확하게 판단"
   ]
  },
  {
   "cell_type": "code",
   "execution_count": 16,
   "id": "c2ed1073",
   "metadata": {},
   "outputs": [],
   "source": [
    "def below_threshold_len(max_len, nested_list):\n",
    "  cnt = 0\n",
    "  for s in nested_list:\n",
    "    if(len(s.split()) <= max_len):\n",
    "        cnt = cnt + 1\n",
    "  print('전체 샘플 중 길이가 %s 이하인 샘플의 비율: %s'%(max_len, (cnt / len(nested_list))))"
   ]
  },
  {
   "cell_type": "markdown",
   "id": "c26befa2",
   "metadata": {},
   "source": [
    "Text와 Summary에 적용해 우리가 결정한 임의의 길이가 몇%의 샘플까지 포함하는지"
   ]
  },
  {
   "cell_type": "code",
   "execution_count": 17,
   "id": "a97f7815",
   "metadata": {},
   "outputs": [
    {
     "name": "stdout",
     "output_type": "stream",
     "text": [
      "전체 샘플 중 길이가 50 이하인 샘플의 비율: 0.9998577250231196\n",
      "전체 샘플 중 길이가 8 이하인 샘플의 비율: 0.2755358177254296\n"
     ]
    }
   ],
   "source": [
    "below_threshold_len(text_max_len, data['text'])\n",
    "below_threshold_len(headlines_max_len,  data['headlines'])"
   ]
  },
  {
   "cell_type": "markdown",
   "id": "c4ac6763",
   "metadata": {},
   "source": [
    "Text와 Summary를 담고 있는 data 데이터프레임을 위에서 임의로 정의한 text_max_len과 summary_max_len의 길이보다 큰 샘플을 제외하는 코드"
   ]
  },
  {
   "cell_type": "code",
   "execution_count": 18,
   "id": "8a7a5829",
   "metadata": {},
   "outputs": [
    {
     "name": "stdout",
     "output_type": "stream",
     "text": [
      "전체 샘플수 : 27113\n"
     ]
    }
   ],
   "source": [
    "data = data[\n",
    "    (data['text'].apply(lambda x: len(x.split())) <= text_max_len) &\n",
    "    (data['headlines'].apply(lambda x: len(x.split())) <= headlines_max_len)\n",
    "]\n",
    "\n",
    "print('전체 샘플수 :', (len(data)))"
   ]
  },
  {
   "cell_type": "markdown",
   "id": "90cba7a5",
   "metadata": {},
   "source": [
    "## 시작 토큰과 종료 토큰 추가"
   ]
  },
  {
   "cell_type": "code",
   "execution_count": 19,
   "id": "358e8d6a",
   "metadata": {},
   "outputs": [
    {
     "data": {
      "text/html": [
       "<div>\n",
       "<style scoped>\n",
       "    .dataframe tbody tr th:only-of-type {\n",
       "        vertical-align: middle;\n",
       "    }\n",
       "\n",
       "    .dataframe tbody tr th {\n",
       "        vertical-align: top;\n",
       "    }\n",
       "\n",
       "    .dataframe thead th {\n",
       "        text-align: right;\n",
       "    }\n",
       "</style>\n",
       "<table border=\"1\" class=\"dataframe\">\n",
       "  <thead>\n",
       "    <tr style=\"text-align: right;\">\n",
       "      <th></th>\n",
       "      <th>headlines</th>\n",
       "      <th>text</th>\n",
       "      <th>decoder_input</th>\n",
       "      <th>decoder_target</th>\n",
       "    </tr>\n",
       "  </thead>\n",
       "  <tbody>\n",
       "    <tr>\n",
       "      <th>19</th>\n",
       "      <td>odisha cm patnaik controls mining mafia union ...</td>\n",
       "      <td>union minister dharmendra pradhan wednesday cl...</td>\n",
       "      <td>sostoken odisha cm patnaik controls mining maf...</td>\n",
       "      <td>odisha cm patnaik controls mining mafia union ...</td>\n",
       "    </tr>\n",
       "    <tr>\n",
       "      <th>21</th>\n",
       "      <td>isro unveils bengaluru centre for manned space...</td>\n",
       "      <td>indian space research organisation wednesday u...</td>\n",
       "      <td>sostoken isro unveils bengaluru centre for man...</td>\n",
       "      <td>isro unveils bengaluru centre for manned space...</td>\n",
       "    </tr>\n",
       "    <tr>\n",
       "      <th>22</th>\n",
       "      <td>killed injured in saudi arabia floods</td>\n",
       "      <td>least people killed others injured saudi arabi...</td>\n",
       "      <td>sostoken killed injured in saudi arabia floods</td>\n",
       "      <td>killed injured in saudi arabia floods eostoken</td>\n",
       "    </tr>\n",
       "    <tr>\n",
       "      <th>29</th>\n",
       "      <td>seat cushions from missing plane carrying foot...</td>\n",
       "      <td>investigators searching lost plane carrying ar...</td>\n",
       "      <td>sostoken seat cushions from missing plane carr...</td>\n",
       "      <td>seat cushions from missing plane carrying foot...</td>\n",
       "    </tr>\n",
       "    <tr>\n",
       "      <th>36</th>\n",
       "      <td>agustawestland scam accused rajiv saxena extra...</td>\n",
       "      <td>agustawestland chopper scam co accused rajiv s...</td>\n",
       "      <td>sostoken agustawestland scam accused rajiv sax...</td>\n",
       "      <td>agustawestland scam accused rajiv saxena extra...</td>\n",
       "    </tr>\n",
       "  </tbody>\n",
       "</table>\n",
       "</div>"
      ],
      "text/plain": [
       "                                            headlines  \\\n",
       "19  odisha cm patnaik controls mining mafia union ...   \n",
       "21  isro unveils bengaluru centre for manned space...   \n",
       "22              killed injured in saudi arabia floods   \n",
       "29  seat cushions from missing plane carrying foot...   \n",
       "36  agustawestland scam accused rajiv saxena extra...   \n",
       "\n",
       "                                                 text  \\\n",
       "19  union minister dharmendra pradhan wednesday cl...   \n",
       "21  indian space research organisation wednesday u...   \n",
       "22  least people killed others injured saudi arabi...   \n",
       "29  investigators searching lost plane carrying ar...   \n",
       "36  agustawestland chopper scam co accused rajiv s...   \n",
       "\n",
       "                                        decoder_input  \\\n",
       "19  sostoken odisha cm patnaik controls mining maf...   \n",
       "21  sostoken isro unveils bengaluru centre for man...   \n",
       "22     sostoken killed injured in saudi arabia floods   \n",
       "29  sostoken seat cushions from missing plane carr...   \n",
       "36  sostoken agustawestland scam accused rajiv sax...   \n",
       "\n",
       "                                       decoder_target  \n",
       "19  odisha cm patnaik controls mining mafia union ...  \n",
       "21  isro unveils bengaluru centre for manned space...  \n",
       "22     killed injured in saudi arabia floods eostoken  \n",
       "29  seat cushions from missing plane carrying foot...  \n",
       "36  agustawestland scam accused rajiv saxena extra...  "
      ]
     },
     "execution_count": 19,
     "metadata": {},
     "output_type": "execute_result"
    }
   ],
   "source": [
    "# 요약 데이터에는 시작 토큰과 종료 토큰을 추가한다.\n",
    "data['decoder_input'] = data['headlines'].apply(lambda x : 'sostoken '+ x)\n",
    "data['decoder_target'] = data['headlines'].apply(lambda x : x + ' eostoken')\n",
    "data.head()"
   ]
  },
  {
   "cell_type": "markdown",
   "id": "7325bb04",
   "metadata": {},
   "source": [
    "인코더의 입력, 디코더의 입력과 레이블을 각각 다시 Numpy 타입으로 저장"
   ]
  },
  {
   "cell_type": "code",
   "execution_count": 20,
   "id": "dfd36e04",
   "metadata": {},
   "outputs": [],
   "source": [
    "encoder_input = np.array(data['text']) # 인코더의 입력\n",
    "decoder_input = np.array(data['decoder_input']) # 디코더의 입력\n",
    "decoder_target = np.array(data['decoder_target']) # 디코더의 레이블"
   ]
  },
  {
   "cell_type": "markdown",
   "id": "310ed65f",
   "metadata": {},
   "source": [
    "encoder_input과 크기와 형태가 같은 순서가 섞인 정수 시퀀스"
   ]
  },
  {
   "cell_type": "code",
   "execution_count": 21,
   "id": "40317d9a",
   "metadata": {},
   "outputs": [
    {
     "name": "stdout",
     "output_type": "stream",
     "text": [
      "[17648 22292 25304 ...  5985 15317 18687]\n"
     ]
    }
   ],
   "source": [
    "indices = np.arange(encoder_input.shape[0])\n",
    "np.random.shuffle(indices)\n",
    "print(indices)"
   ]
  },
  {
   "cell_type": "markdown",
   "id": "ddb8f4d5",
   "metadata": {},
   "source": [
    "정수 시퀀스를 이용해 다시 데이터의 샘플 순서를 정의해 주면 잘 섞인 샘플"
   ]
  },
  {
   "cell_type": "code",
   "execution_count": 22,
   "id": "1a7479c1",
   "metadata": {},
   "outputs": [
    {
     "name": "stdout",
     "output_type": "stream",
     "text": [
      "=3\n"
     ]
    }
   ],
   "source": [
    "encoder_input = encoder_input[indices]\n",
    "decoder_input = decoder_input[indices]\n",
    "decoder_target = decoder_target[indices]\n",
    "print('=3')"
   ]
  },
  {
   "cell_type": "markdown",
   "id": "e38e6fec",
   "metadata": {},
   "source": [
    "- 섞인 데이터를 8:2의 비율로 훈련 데이터와 테스트 데이터로 분리해 줄게요. \n",
    "- 전체 데이터의 크기에서 0.2를 곱해서 테스트 데이터의 크기를 정의"
   ]
  },
  {
   "cell_type": "code",
   "execution_count": 23,
   "id": "c3685817",
   "metadata": {},
   "outputs": [
    {
     "name": "stdout",
     "output_type": "stream",
     "text": [
      "테스트 데이터의 수 : 5422\n"
     ]
    }
   ],
   "source": [
    "n_of_val = int(len(encoder_input)*0.2)\n",
    "print('테스트 데이터의 수 :', n_of_val)"
   ]
  },
  {
   "cell_type": "markdown",
   "id": "18d41bae",
   "metadata": {},
   "source": [
    "정의한 테스트 데이터의 개수를 이용해 전체 데이터를 양분"
   ]
  },
  {
   "cell_type": "code",
   "execution_count": 24,
   "id": "c6b8d666",
   "metadata": {},
   "outputs": [
    {
     "name": "stdout",
     "output_type": "stream",
     "text": [
      "훈련 데이터의 개수 : 21691\n",
      "훈련 레이블의 개수 : 21691\n",
      "테스트 데이터의 개수 : 5422\n",
      "테스트 레이블의 개수 : 5422\n"
     ]
    }
   ],
   "source": [
    "encoder_input_train = encoder_input[:-n_of_val]\n",
    "decoder_input_train = decoder_input[:-n_of_val]\n",
    "decoder_target_train = decoder_target[:-n_of_val]\n",
    "\n",
    "encoder_input_test = encoder_input[-n_of_val:]\n",
    "decoder_input_test = decoder_input[-n_of_val:]\n",
    "decoder_target_test = decoder_target[-n_of_val:]\n",
    "\n",
    "print('훈련 데이터의 개수 :', len(encoder_input_train))\n",
    "print('훈련 레이블의 개수 :', len(decoder_input_train))\n",
    "print('테스트 데이터의 개수 :', len(encoder_input_test))\n",
    "print('테스트 레이블의 개수 :', len(decoder_input_test))"
   ]
  },
  {
   "cell_type": "markdown",
   "id": "48d07666",
   "metadata": {},
   "source": [
    "## 정수 인코딩"
   ]
  },
  {
   "cell_type": "code",
   "execution_count": 25,
   "id": "2489c980",
   "metadata": {},
   "outputs": [],
   "source": [
    "src_tokenizer = Tokenizer() # 토크나이저 정의\n",
    "src_tokenizer.fit_on_texts(encoder_input_train) # 입력된 데이터로부터 단어 집합 생성"
   ]
  },
  {
   "cell_type": "code",
   "execution_count": 26,
   "id": "69660ac5",
   "metadata": {},
   "outputs": [
    {
     "name": "stdout",
     "output_type": "stream",
     "text": [
      "단어 집합(vocabulary)의 크기 : 42478\n",
      "등장 빈도가 6번 이하인 희귀 단어의 수: 30737\n",
      "단어 집합에서 희귀 단어를 제외시킬 경우의 단어 집합의 크기 11741\n",
      "단어 집합에서 희귀 단어의 비율: 72.35980978388812\n",
      "전체 등장 빈도에서 희귀 단어 등장 빈도 비율: 8.27023519273614\n"
     ]
    }
   ],
   "source": [
    "threshold = 7\n",
    "total_cnt = len(src_tokenizer.word_index) # 단어의 수\n",
    "rare_cnt = 0 # 등장 빈도수가 threshold보다 작은 단어의 개수를 카운트\n",
    "total_freq = 0 # 훈련 데이터의 전체 단어 빈도수 총 합\n",
    "rare_freq = 0 # 등장 빈도수가 threshold보다 작은 단어의 등장 빈도수의 총 합\n",
    "\n",
    "# 단어와 빈도수의 쌍(pair)을 key와 value로 받는다.\n",
    "for key, value in src_tokenizer.word_counts.items():\n",
    "    total_freq = total_freq + value\n",
    "\n",
    "    # 단어의 등장 빈도수가 threshold보다 작으면\n",
    "    if(value < threshold):\n",
    "        rare_cnt = rare_cnt + 1\n",
    "        rare_freq = rare_freq + value\n",
    "\n",
    "print('단어 집합(vocabulary)의 크기 :', total_cnt)\n",
    "print('등장 빈도가 %s번 이하인 희귀 단어의 수: %s'%(threshold - 1, rare_cnt))\n",
    "print('단어 집합에서 희귀 단어를 제외시킬 경우의 단어 집합의 크기 %s'%(total_cnt - rare_cnt))\n",
    "print(\"단어 집합에서 희귀 단어의 비율:\", (rare_cnt / total_cnt)*100)\n",
    "print(\"전체 등장 빈도에서 희귀 단어 등장 빈도 비율:\", (rare_freq / total_freq)*100)"
   ]
  },
  {
   "cell_type": "markdown",
   "id": "bd8a79fd",
   "metadata": {},
   "source": [
    "encoder_input_train에는 4만여 개의 단어\n",
    "\n",
    "등장 빈도가  6회 이하인 단어들은 단어 집합에서 무려 72% 이상을 차지\n",
    "실제로 훈련 데이터에서 등장 빈도로 차지하는 비중은 상대적으로 적은 수치인 8.29%"
   ]
  },
  {
   "cell_type": "code",
   "execution_count": 27,
   "id": "c415479e",
   "metadata": {},
   "outputs": [],
   "source": [
    "src_vocab = 11000\n",
    "src_tokenizer = Tokenizer(num_words=src_vocab) # 단어 집합의 크기를 11,000으로 제한\n",
    "src_tokenizer.fit_on_texts(encoder_input_train) # 단어 집합 재생성"
   ]
  },
  {
   "cell_type": "code",
   "execution_count": 28,
   "id": "01c24982",
   "metadata": {},
   "outputs": [
    {
     "name": "stdout",
     "output_type": "stream",
     "text": [
      "[[3461, 18, 1541, 9, 402, 2621, 2001, 4061, 497, 2622, 5378, 1104, 2046, 47, 9, 51, 1, 5378, 542, 4062, 9303, 9304, 772, 260, 2364, 260, 471, 437, 9939], [158, 3862, 228, 113, 58, 3, 2873, 4063, 981, 68, 160, 2166, 3863, 585, 1308, 139, 10731, 545, 113, 4, 58, 945, 2874, 1308, 139, 333, 7377, 68, 3863, 585, 1524, 460, 6224, 2980, 39, 3772, 585], [8232, 4636, 394, 3377, 8232, 1645, 1933, 7053, 1432, 1913, 2469, 3310, 1667, 4389, 508, 2581, 57, 524, 259, 1913, 4636, 5781, 796, 6225, 10732]]\n"
     ]
    }
   ],
   "source": [
    "# 텍스트 시퀀스를 정수 시퀀스로 변환\n",
    "encoder_input_train = src_tokenizer.texts_to_sequences(encoder_input_train) \n",
    "encoder_input_test = src_tokenizer.texts_to_sequences(encoder_input_test)\n",
    "\n",
    "# 잘 진행되었는지 샘플 출력\n",
    "print(encoder_input_train[:3])"
   ]
  },
  {
   "cell_type": "markdown",
   "id": "fe5b44ec",
   "metadata": {},
   "source": [
    "Summary 데이터에 대해서도 동일한 작업을 수행할게요. 케라스의 토크나이저를 사용하여 decoder_input_train을 입력으로 전체 단어 집합과 각 단어에 대한 빈도수를 계산"
   ]
  },
  {
   "cell_type": "code",
   "execution_count": 29,
   "id": "78836ec4",
   "metadata": {},
   "outputs": [],
   "source": [
    "tar_tokenizer = Tokenizer()\n",
    "tar_tokenizer.fit_on_texts(decoder_input_train)"
   ]
  },
  {
   "cell_type": "code",
   "execution_count": 30,
   "id": "097d57df",
   "metadata": {},
   "outputs": [
    {
     "name": "stdout",
     "output_type": "stream",
     "text": [
      "단어 집합(vocabulary)의 크기 : 18906\n",
      "등장 빈도가 5번 이하인 희귀 단어의 수: 14280\n",
      "단어 집합에서 희귀 단어를 제외시킬 경우의 단어 집합의 크기 4626\n",
      "단어 집합에서 희귀 단어의 비율: 75.53157727705491\n",
      "전체 등장 빈도에서 희귀 단어 등장 빈도 비율: 14.195531145747294\n"
     ]
    }
   ],
   "source": [
    "threshold = 6\n",
    "total_cnt = len(tar_tokenizer.word_index) # 단어의 수\n",
    "rare_cnt = 0 # 등장 빈도수가 threshold보다 작은 단어의 개수를 카운트\n",
    "total_freq = 0 # 훈련 데이터의 전체 단어 빈도수 총 합\n",
    "rare_freq = 0 # 등장 빈도수가 threshold보다 작은 단어의 등장 빈도수의 총 합\n",
    "\n",
    "# 단어와 빈도수의 쌍(pair)을 key와 value로 받는다.\n",
    "for key, value in tar_tokenizer.word_counts.items():\n",
    "    total_freq = total_freq + value\n",
    "\n",
    "    # 단어의 등장 빈도수가 threshold보다 작으면\n",
    "    if(value < threshold):\n",
    "        rare_cnt = rare_cnt + 1\n",
    "        rare_freq = rare_freq + value\n",
    "\n",
    "print('단어 집합(vocabulary)의 크기 :', total_cnt)\n",
    "print('등장 빈도가 %s번 이하인 희귀 단어의 수: %s'%(threshold - 1, rare_cnt))\n",
    "print('단어 집합에서 희귀 단어를 제외시킬 경우의 단어 집합의 크기 %s'%(total_cnt - rare_cnt))\n",
    "print(\"단어 집합에서 희귀 단어의 비율:\", (rare_cnt / total_cnt)*100)\n",
    "print(\"전체 등장 빈도에서 희귀 단어 등장 빈도 비율:\", (rare_freq / total_freq)*100)"
   ]
  },
  {
   "cell_type": "markdown",
   "id": "11ac3e55",
   "metadata": {},
   "source": [
    "등장 빈도가 5회 이하인 단어들은 단어 집합에서 약 75%를 차지하고 있네요. \n",
    "훈련 데이터에서 등장 빈도로 차지하는 비중은 상대적으로 매우 적은 수치인 14.2%\n",
    "아까 했던 것과 동일하게 이 단어들은 모두 제거할게요. 어림잡아 4,000을 단어 집합의 크기로 제한"
   ]
  },
  {
   "cell_type": "code",
   "execution_count": 31,
   "id": "50435764",
   "metadata": {},
   "outputs": [
    {
     "name": "stdout",
     "output_type": "stream",
     "text": [
      "input\n",
      "input  [[1, 745, 44, 372, 14, 1921, 16, 3331], [1, 64, 1194, 1541, 6, 1025, 818], [1, 3332, 156, 66, 4, 550, 1195], [1, 89, 326, 27, 491, 9], [1, 5, 1065, 67, 4, 551, 2772]]\n",
      "target\n",
      "decoder  [[745, 44, 372, 14, 1921, 16, 3331, 2], [64, 1194, 1541, 6, 1025, 818, 2], [3332, 156, 66, 4, 550, 1195, 2], [89, 326, 27, 491, 9, 2], [5, 1065, 67, 4, 551, 2772, 2]]\n"
     ]
    }
   ],
   "source": [
    "tar_vocab = 4000\n",
    "tar_tokenizer = Tokenizer(num_words=tar_vocab) \n",
    "tar_tokenizer.fit_on_texts(decoder_input_train)\n",
    "tar_tokenizer.fit_on_texts(decoder_target_train)\n",
    "\n",
    "# 텍스트 시퀀스를 정수 시퀀스로 변환\n",
    "decoder_input_train = tar_tokenizer.texts_to_sequences(decoder_input_train) \n",
    "decoder_target_train = tar_tokenizer.texts_to_sequences(decoder_target_train)\n",
    "decoder_input_test = tar_tokenizer.texts_to_sequences(decoder_input_test)\n",
    "decoder_target_test = tar_tokenizer.texts_to_sequences(decoder_target_test)\n",
    "\n",
    "# 잘 변환되었는지 확인\n",
    "print('input')\n",
    "print('input ',decoder_input_train[:5])\n",
    "print('target')\n",
    "print('decoder ',decoder_target_train[:5])"
   ]
  },
  {
   "cell_type": "code",
   "execution_count": 32,
   "id": "8dce5483",
   "metadata": {},
   "outputs": [
    {
     "name": "stdout",
     "output_type": "stream",
     "text": [
      "삭제할 훈련 데이터의 개수 : 3\n",
      "삭제할 테스트 데이터의 개수 : 1\n",
      "훈련 데이터의 개수 : 21688\n",
      "훈련 레이블의 개수 : 21688\n",
      "테스트 데이터의 개수 : 5421\n",
      "테스트 레이블의 개수 : 5421\n"
     ]
    }
   ],
   "source": [
    "drop_train = [index for index, sentence in enumerate(decoder_input_train) if len(sentence) == 1]\n",
    "drop_test = [index for index, sentence in enumerate(decoder_input_test) if len(sentence) == 1]\n",
    "\n",
    "print('삭제할 훈련 데이터의 개수 :', len(drop_train))\n",
    "print('삭제할 테스트 데이터의 개수 :', len(drop_test))\n",
    "\n",
    "encoder_input_train = [sentence for index, sentence in enumerate(encoder_input_train) if index not in drop_train]\n",
    "decoder_input_train = [sentence for index, sentence in enumerate(decoder_input_train) if index not in drop_train]\n",
    "decoder_target_train = [sentence for index, sentence in enumerate(decoder_target_train) if index not in drop_train]\n",
    "\n",
    "encoder_input_test = [sentence for index, sentence in enumerate(encoder_input_test) if index not in drop_test]\n",
    "decoder_input_test = [sentence for index, sentence in enumerate(decoder_input_test) if index not in drop_test]\n",
    "decoder_target_test = [sentence for index, sentence in enumerate(decoder_target_test) if index not in drop_test]\n",
    "\n",
    "print('훈련 데이터의 개수 :', len(encoder_input_train))\n",
    "print('훈련 레이블의 개수 :', len(decoder_input_train))\n",
    "print('테스트 데이터의 개수 :', len(encoder_input_test))\n",
    "print('테스트 레이블의 개수 :', len(decoder_input_test))"
   ]
  },
  {
   "cell_type": "markdown",
   "id": "e45636ed",
   "metadata": {},
   "source": [
    "## 패딩하기\n",
    "    - 텍스트 시퀀스를 정수 시퀀스로 변환했다면, 이제 서로 다른 길이의 샘플들을 병렬 처리하기 위해 같은 길이로 맞춰주는 패딩 작업을 해주어야 해야 해요. 아까 정해두었던 최대 길이로 패딩 해 줄 거에요. 최대 길이보다 짧은 데이터들은 뒤의 공간에 숫자 0을 넣어 최대 길이로 길이를 맞춰줄게요."
   ]
  },
  {
   "cell_type": "code",
   "execution_count": 33,
   "id": "943302f6",
   "metadata": {},
   "outputs": [
    {
     "name": "stdout",
     "output_type": "stream",
     "text": [
      "=3\n"
     ]
    }
   ],
   "source": [
    "encoder_input_train = pad_sequences(encoder_input_train, maxlen=text_max_len, padding='post')\n",
    "encoder_input_test = pad_sequences(encoder_input_test, maxlen=text_max_len, padding='post')\n",
    "decoder_input_train = pad_sequences(decoder_input_train, maxlen=headlines_max_len, padding='post')\n",
    "decoder_target_train = pad_sequences(decoder_target_train, maxlen=headlines_max_len, padding='post')\n",
    "decoder_input_test = pad_sequences(decoder_input_test, maxlen=headlines_max_len, padding='post')\n",
    "decoder_target_test = pad_sequences(decoder_target_test, maxlen=headlines_max_len, padding='post')\n",
    "print('=3')"
   ]
  },
  {
   "cell_type": "markdown",
   "id": "8c767ebb",
   "metadata": {},
   "source": [
    "## 모델 설계하기\n",
    "우선 함수형 API를 이용해서 인코더를 설계"
   ]
  },
  {
   "cell_type": "code",
   "execution_count": 34,
   "id": "cda685f1",
   "metadata": {},
   "outputs": [],
   "source": [
    "from tensorflow.keras.layers import Input, LSTM, Embedding, Dense, Concatenate, TimeDistributed\n",
    "from tensorflow.keras.models import Model\n",
    "from tensorflow.keras.callbacks import EarlyStopping, ModelCheckpoint\n",
    "\n",
    "\n",
    "# 인코더 설계 시작\n",
    "embedding_dim = 128\n",
    "hidden_size = 256\n",
    "\n",
    "# 인코더\n",
    "encoder_inputs = Input(shape=(text_max_len,))\n",
    "\n",
    "# 인코더의 임베딩 층\n",
    "enc_emb = Embedding(src_vocab, embedding_dim)(encoder_inputs)\n",
    "\n",
    "# 인코더의 LSTM 1\n",
    "# encoder_lstm1 = LSTM(hidden_size, return_sequences=True, return_state=True ,dropout = 0.4, recurrent_dropout = 0.4)\n",
    "encoder_lstm1 = LSTM(hidden_size, return_sequences=True, return_state=True ,dropout = 0.4)\n",
    "encoder_output1, state_h1, state_c1 = encoder_lstm1(enc_emb)\n",
    "\n",
    "# 인코더의 LSTM 2\n",
    "encoder_lstm2 = LSTM(hidden_size, return_sequences=True, return_state=True, dropout=0.4)\n",
    "encoder_output2, state_h2, state_c2 = encoder_lstm2(encoder_output1)\n",
    "\n",
    "# 인코더의 LSTM 3\n",
    "encoder_lstm3 = LSTM(hidden_size, return_sequences=True, return_state=True, dropout=0.4)\n",
    "encoder_output3, state_h3, state_c3 = encoder_lstm3(encoder_output2)\n",
    "encoder_outputs = encoder_output3 "
   ]
  },
  {
   "cell_type": "markdown",
   "id": "9ac9cb17",
   "metadata": {},
   "source": [
    "디코더 설계"
   ]
  },
  {
   "cell_type": "code",
   "execution_count": 35,
   "id": "47f1241e",
   "metadata": {},
   "outputs": [],
   "source": [
    "# 디코더 설계\n",
    "decoder_inputs = Input(shape=(None,))\n",
    "\n",
    "# 디코더의 임베딩 층\n",
    "dec_emb_layer = Embedding(tar_vocab, embedding_dim)\n",
    "dec_emb = dec_emb_layer(decoder_inputs)\n",
    "\n",
    "# 디코더의 LSTM\n",
    "# decoder_lstm = LSTM(hidden_size, return_sequences=True, return_state=True, dropout=0.4, recurrent_dropout=0.2)\n",
    "decoder_lstm = LSTM(hidden_size, return_sequences=True, return_state=True, dropout=0.4)\n",
    "decoder_outputs, _, _ = decoder_lstm(dec_emb, initial_state=[state_h3, state_c3])"
   ]
  },
  {
   "cell_type": "code",
   "execution_count": 36,
   "id": "86b0b346",
   "metadata": {},
   "outputs": [
    {
     "name": "stdout",
     "output_type": "stream",
     "text": [
      "Model: \"model\"\n",
      "__________________________________________________________________________________________________\n",
      "Layer (type)                    Output Shape         Param #     Connected to                     \n",
      "==================================================================================================\n",
      "input_1 (InputLayer)            [(None, 50)]         0                                            \n",
      "__________________________________________________________________________________________________\n",
      "embedding (Embedding)           (None, 50, 128)      1408000     input_1[0][0]                    \n",
      "__________________________________________________________________________________________________\n",
      "lstm (LSTM)                     [(None, 50, 256), (N 394240      embedding[0][0]                  \n",
      "__________________________________________________________________________________________________\n",
      "input_2 (InputLayer)            [(None, None)]       0                                            \n",
      "__________________________________________________________________________________________________\n",
      "lstm_1 (LSTM)                   [(None, 50, 256), (N 525312      lstm[0][0]                       \n",
      "__________________________________________________________________________________________________\n",
      "embedding_1 (Embedding)         (None, None, 128)    512000      input_2[0][0]                    \n",
      "__________________________________________________________________________________________________\n",
      "lstm_2 (LSTM)                   [(None, 50, 256), (N 525312      lstm_1[0][0]                     \n",
      "__________________________________________________________________________________________________\n",
      "lstm_3 (LSTM)                   [(None, None, 256),  394240      embedding_1[0][0]                \n",
      "                                                                 lstm_2[0][1]                     \n",
      "                                                                 lstm_2[0][2]                     \n",
      "__________________________________________________________________________________________________\n",
      "dense (Dense)                   (None, None, 4000)   1028000     lstm_3[0][0]                     \n",
      "==================================================================================================\n",
      "Total params: 4,787,104\n",
      "Trainable params: 4,787,104\n",
      "Non-trainable params: 0\n",
      "__________________________________________________________________________________________________\n"
     ]
    }
   ],
   "source": [
    "# 디코더의 출력층\n",
    "decoder_softmax_layer = Dense(tar_vocab, activation='softmax')\n",
    "decoder_softmax_outputs = decoder_softmax_layer(decoder_outputs) \n",
    "\n",
    "# 모델 정의\n",
    "model = Model([encoder_inputs, decoder_inputs], decoder_softmax_outputs)\n",
    "model.summary()"
   ]
  },
  {
   "cell_type": "markdown",
   "id": "a686bd47",
   "metadata": {},
   "source": [
    "## 어텐션 메커니즘\n",
    "    - 어텐션 층을 만들고, 위에서 설계한 디코더의 출력층을 수정\n",
    "    - 인코더의 hidden state들과 디코더의 hidden state들을 어텐션 함수의 입력으로 사용하고, 어텐션 함수가 리턴한 값을 예측 시에 디코더의 hidden state와 함께 활용하는 형태로 작동"
   ]
  },
  {
   "cell_type": "code",
   "execution_count": 37,
   "id": "6f3656e8",
   "metadata": {},
   "outputs": [
    {
     "name": "stdout",
     "output_type": "stream",
     "text": [
      "Model: \"model_1\"\n",
      "__________________________________________________________________________________________________\n",
      "Layer (type)                    Output Shape         Param #     Connected to                     \n",
      "==================================================================================================\n",
      "input_1 (InputLayer)            [(None, 50)]         0                                            \n",
      "__________________________________________________________________________________________________\n",
      "embedding (Embedding)           (None, 50, 128)      1408000     input_1[0][0]                    \n",
      "__________________________________________________________________________________________________\n",
      "lstm (LSTM)                     [(None, 50, 256), (N 394240      embedding[0][0]                  \n",
      "__________________________________________________________________________________________________\n",
      "input_2 (InputLayer)            [(None, None)]       0                                            \n",
      "__________________________________________________________________________________________________\n",
      "lstm_1 (LSTM)                   [(None, 50, 256), (N 525312      lstm[0][0]                       \n",
      "__________________________________________________________________________________________________\n",
      "embedding_1 (Embedding)         (None, None, 128)    512000      input_2[0][0]                    \n",
      "__________________________________________________________________________________________________\n",
      "lstm_2 (LSTM)                   [(None, 50, 256), (N 525312      lstm_1[0][0]                     \n",
      "__________________________________________________________________________________________________\n",
      "lstm_3 (LSTM)                   [(None, None, 256),  394240      embedding_1[0][0]                \n",
      "                                                                 lstm_2[0][1]                     \n",
      "                                                                 lstm_2[0][2]                     \n",
      "__________________________________________________________________________________________________\n",
      "attention_layer (AdditiveAttent (None, None, 256)    256         lstm_3[0][0]                     \n",
      "                                                                 lstm_2[0][0]                     \n",
      "__________________________________________________________________________________________________\n",
      "concat_layer (Concatenate)      (None, None, 512)    0           lstm_3[0][0]                     \n",
      "                                                                 attention_layer[0][0]            \n",
      "__________________________________________________________________________________________________\n",
      "dense_1 (Dense)                 (None, None, 4000)   2052000     concat_layer[0][0]               \n",
      "==================================================================================================\n",
      "Total params: 5,811,360\n",
      "Trainable params: 5,811,360\n",
      "Non-trainable params: 0\n",
      "__________________________________________________________________________________________________\n"
     ]
    }
   ],
   "source": [
    "from tensorflow.keras.layers import AdditiveAttention\n",
    "\n",
    "# 어텐션 층(어텐션 함수)\n",
    "attn_layer = AdditiveAttention(name='attention_layer')\n",
    "\n",
    "# 인코더와 디코더의 모든 time step의 hidden state를 어텐션 층에 전달하고 결과를 리턴\n",
    "attn_out = attn_layer([decoder_outputs, encoder_outputs])\n",
    "\n",
    "\n",
    "# 어텐션의 결과와 디코더의 hidden state들을 연결\n",
    "decoder_concat_input = Concatenate(axis=-1, name='concat_layer')([decoder_outputs, attn_out])\n",
    "\n",
    "# 디코더의 출력층\n",
    "decoder_softmax_layer = Dense(tar_vocab, activation='softmax')\n",
    "decoder_softmax_outputs = decoder_softmax_layer(decoder_concat_input)\n",
    "\n",
    "# 모델 정의\n",
    "model = Model([encoder_inputs, decoder_inputs], decoder_softmax_outputs)\n",
    "model.summary()"
   ]
  },
  {
   "cell_type": "markdown",
   "id": "d09d21ae",
   "metadata": {},
   "source": [
    "## 모델 훈련하기"
   ]
  },
  {
   "cell_type": "code",
   "execution_count": 38,
   "id": "6ba1f7c6",
   "metadata": {},
   "outputs": [
    {
     "name": "stdout",
     "output_type": "stream",
     "text": [
      "Epoch 1/50\n",
      "85/85 [==============================] - 27s 84ms/step - loss: 5.9934 - val_loss: 5.5532\n",
      "Epoch 2/50\n",
      "85/85 [==============================] - 6s 69ms/step - loss: 5.5427 - val_loss: 5.3435\n",
      "Epoch 3/50\n",
      "85/85 [==============================] - 6s 69ms/step - loss: 5.3214 - val_loss: 5.1698\n",
      "Epoch 4/50\n",
      "85/85 [==============================] - 6s 69ms/step - loss: 5.1627 - val_loss: 5.0476\n",
      "Epoch 5/50\n",
      "85/85 [==============================] - 6s 69ms/step - loss: 5.0137 - val_loss: 4.9422\n",
      "Epoch 6/50\n",
      "85/85 [==============================] - 6s 70ms/step - loss: 4.8582 - val_loss: 4.8162\n",
      "Epoch 7/50\n",
      "85/85 [==============================] - 6s 70ms/step - loss: 4.7007 - val_loss: 4.7403\n",
      "Epoch 8/50\n",
      "85/85 [==============================] - 6s 70ms/step - loss: 4.5564 - val_loss: 4.6324\n",
      "Epoch 9/50\n",
      "85/85 [==============================] - 6s 71ms/step - loss: 4.4188 - val_loss: 4.5649\n",
      "Epoch 10/50\n",
      "85/85 [==============================] - 6s 71ms/step - loss: 4.2921 - val_loss: 4.5162\n",
      "Epoch 11/50\n",
      "85/85 [==============================] - 6s 71ms/step - loss: 4.1661 - val_loss: 4.4416\n",
      "Epoch 12/50\n",
      "85/85 [==============================] - 6s 72ms/step - loss: 4.0468 - val_loss: 4.4041\n",
      "Epoch 13/50\n",
      "85/85 [==============================] - 6s 72ms/step - loss: 3.9306 - val_loss: 4.3507\n",
      "Epoch 14/50\n",
      "85/85 [==============================] - 6s 72ms/step - loss: 3.8225 - val_loss: 4.3301\n",
      "Epoch 15/50\n",
      "85/85 [==============================] - 6s 73ms/step - loss: 3.7174 - val_loss: 4.2990\n",
      "Epoch 16/50\n",
      "85/85 [==============================] - 6s 73ms/step - loss: 3.6161 - val_loss: 4.2945\n",
      "Epoch 17/50\n",
      "85/85 [==============================] - 6s 74ms/step - loss: 3.5221 - val_loss: 4.2540\n",
      "Epoch 18/50\n",
      "85/85 [==============================] - 6s 74ms/step - loss: 3.4300 - val_loss: 4.2328\n",
      "Epoch 19/50\n",
      "85/85 [==============================] - 6s 75ms/step - loss: 3.3410 - val_loss: 4.2367\n",
      "Epoch 20/50\n",
      "85/85 [==============================] - 6s 74ms/step - loss: 3.2573 - val_loss: 4.2327\n",
      "Epoch 21/50\n",
      "85/85 [==============================] - 6s 75ms/step - loss: 3.1745 - val_loss: 4.2236\n",
      "Epoch 22/50\n",
      "85/85 [==============================] - 6s 76ms/step - loss: 3.0933 - val_loss: 4.2201\n",
      "Epoch 23/50\n",
      "85/85 [==============================] - 6s 75ms/step - loss: 3.0146 - val_loss: 4.2195\n",
      "Epoch 24/50\n",
      "85/85 [==============================] - 6s 75ms/step - loss: 2.9410 - val_loss: 4.2224\n",
      "Epoch 25/50\n",
      "85/85 [==============================] - 6s 75ms/step - loss: 2.8680 - val_loss: 4.2217\n",
      "Epoch 00025: early stopping\n"
     ]
    }
   ],
   "source": [
    "model.compile(optimizer='rmsprop', loss='sparse_categorical_crossentropy')\n",
    "es = EarlyStopping(monitor='val_loss', patience=2, verbose=1)\n",
    "history = model.fit(x=[encoder_input_train, decoder_input_train], y=decoder_target_train, \\\n",
    "          validation_data=([encoder_input_test, decoder_input_test], decoder_target_test), \\\n",
    "          batch_size=256, callbacks=[es], epochs=50)"
   ]
  },
  {
   "cell_type": "code",
   "execution_count": 39,
   "id": "7791dbd7",
   "metadata": {},
   "outputs": [
    {
     "data": {
      "image/png": "iVBORw0KGgoAAAANSUhEUgAAAXgAAAD4CAYAAADmWv3KAAAAOXRFWHRTb2Z0d2FyZQBNYXRwbG90bGliIHZlcnNpb24zLjQuMywgaHR0cHM6Ly9tYXRwbG90bGliLm9yZy/MnkTPAAAACXBIWXMAAAsTAAALEwEAmpwYAAAuWElEQVR4nO3dd3xUVf7/8dcnnUAIEAKBJJDQOwFCBwGRjiiggIoVRRT72n9rWXf9qqtrZcUCuioWkKIoFhTp0pLQe0sgCZAQWgqpc35/3EEikhAgmcnMfJ6Pxzxm5t6TO5/7GH1z59xzzxVjDEoppdyPl7MLUEopVTE04JVSyk1pwCullJvSgFdKKTelAa+UUm7Kx1kfXLt2bRMVFeWsj1dKKZcUHx9/1BgTWpa2Tgv4qKgo4uLinPXxSinlkkQkqaxttYtGKaXclAa8Ukq5KQ14pZRyU07rg1dKqUtRUFBAcnIyubm5zi6lQgUEBBAREYGvr+8lb0MDXinlUpKTkwkKCiIqKgoRcXY5FcIYQ0ZGBsnJyURHR1/ydsrURSMiNURktojsEJHtItL9nPUiIm+LyB4R2SQiHS+5IqWUKkVubi4hISFuG+4AIkJISMhl/0op6xH8W8BPxpjrRMQPCDxn/RCgqf3RFZhqf1ZKqXLnzuF+Rnns4wWP4EUkGLgCmA5gjMk3xpw4p9k1wKfGshqoISL1Lru689iXnsU/vttKQZGtIjavlFJuoyxdNNFAOvCxiKwXkWkiUvWcNuHAwWLvk+3L/kREJopInIjEpaenX1LBSRk5fLwykR82H7qkv1dKqctx4sQJ3n333Yv+u6FDh3LixInyL6gUZQl4H6AjMNUY0wHIBp68lA8zxnxgjIk1xsSGhpbpStu/6NMslMahVZm+Yj96sxKllKOVFPCFhYWl/t0PP/xAjRo1Kqiq8ytLwCcDycaYNfb3s7ECv7gUILLY+wj7snLn5SVM6NWITcknWZd4vCI+QimlSvTkk0+yd+9eYmJi6Ny5M71792bEiBG0atUKgGuvvZZOnTrRunVrPvjggz/+LioqiqNHj5KYmEjLli256667aN26NQMHDuT06dMVUusFT7IaYw6LyEERaW6M2Qn0B7ad02w+cJ+IfIV1cvWkMabC+lBGdQzn1Z93MG35PrpE16qoj1FKVXL/+G4r21JPles2W9WvznNXty5x/csvv8yWLVvYsGEDS5YsYdiwYWzZsuWP4YwfffQRtWrV4vTp03Tu3JnRo0cTEhLyp23s3r2bL7/8kg8//JAxY8YwZ84cxo8fX677AWUfRXM/8Ll9BM0+4HYRmQRgjHkP+AEYCuwBcoDby73SYgJ8vRnfrSFTFu8h8Wg2UbXPPSWglFKO0aVLlz+NVX/77beZN28eAAcPHmT37t1/Cfjo6GhiYmIA6NSpE4mJiRVSW5kC3hizAYg9Z/F7xdYbYHL5lXVhN3dvyPtL9/Hxyv3845o2jvxopVQlUdqRtqNUrXr2AHPJkiX8+uuvrFq1isDAQPr27Xvesez+/v5/vPb29q6wLhqXnYumTlAAI2LqMysumZM5Bc4uRynlIYKCgsjMzDzvupMnT1KzZk0CAwPZsWMHq1evdnB1f+ayAQ8woVc0pwuK+GLtAWeXopTyECEhIfTs2ZM2bdrw2GOP/Wnd4MGDKSwspGXLljz55JN069bNSVVaxFlDDWNjY0153PBj/LQ17E7LZPnjV+Ln49L/XimlymD79u20bNnS2WU4xPn2VUTijTHndpmfl8sn4oTe0Rw5lacXPiml1DlcPuD7NA2lSZ1qTFuxTy98UkqpYlw+4L28hDt6RrMl5RRr9h9zdjlKKVVpuHzAg3XhU81AX6Yt3+/sUpRSqtJwi4AP8PXm5m4NWbTjCPuPZju7HKWUqhTcIuABxndviK+XFx+v1KN4pZQCNwr4OkEBXBNTn6/jkjmRk+/scpRSbupSpwsGePPNN8nJySnnikrmNgEP1pBJvfBJKVWRXCng3eqm2y3CqtO7aW0++T2RO3s10guflFLlrvh0wQMGDKBOnTrMmjWLvLw8Ro4cyT/+8Q+ys7MZM2YMycnJFBUV8cwzz3DkyBFSU1Pp168ftWvXZvHixRVeq1sFPFjTF9z28ToWbE5lZIcIZ5ejlKpIPz4JhzeX7zbD2sKQl0tcXXy64IULFzJ79mzWrl2LMYYRI0awbNky0tPTqV+/PgsWLACsOWqCg4N5/fXXWbx4MbVr1y7fmkvgdoe4fZrZL3xarnd8UkpVrIULF7Jw4UI6dOhAx44d2bFjB7t376Zt27b88ssvPPHEEyxfvpzg4GCn1Od2R/AiwoRe0Tw1dzOr9x2je+OQC/+RUso1lXKk7QjGGJ566inuvvvuv6xLSEjghx9+4O9//zv9+/fn2WefdXh9bncEDzCyQzi1qvoxfcU+Z5eilHIzxacLHjRoEB999BFZWVkApKSkkJaWRmpqKoGBgYwfP57HHnuMhISEv/ytI7jdETycvePT24t2sy89i0ah1ZxdklLKTRSfLnjIkCHceOONdO/eHYBq1aoxY8YM9uzZw2OPPYaXlxe+vr5MnToVgIkTJzJ48GDq16/vkJOsLj9dcEnSM/Po+fJvjOkcwb+ubVthn6OUciydLtiDpgsuSWiQP9d2qM/s+GSOZ+uFT0opz+O2AQ8woVcjcgtseuGTUsojuXXANw8L+uPCp/xCm7PLUUqVE08YAl0e++h6AZ+2Az4bCTllm/t9Qq9o0jLz+H5TagUXppRyhICAADIyMtw65I0xZGRkEBAQcFnbKdMoGhFJBDKBIqDw3A5+EekLfAucmcpxrjHmhcuqrCTZaZC40gr5W+dDQOkXEPRpFkrTOtV457c99G9Rl+BA3wopSynlGBERESQnJ5Oenu7sUipUQEAAERGXdzV+mUbR2AM+1hhztIT1fYFHjTHDy/rBlzWKZtfP8NVNEN4Jbp4LflVLbf773qPc+tFaYiJr8NmErgT4el/a5yqllJO5/yiaZoNg9DRIXgtf3gAFuaU279G4Nm+MjSEu6Tj3f7mewiLtj1dKub+yBrwBFopIvIhMLKFNdxHZKCI/ikjr8zUQkYkiEicicZf986r1tXDtVNi/DGbdAoWlD4Uc3q4+zw1vxS/bjvDMt1vcuv9OKaWg7Fey9jLGpIhIHeAXEdlhjFlWbH0C0NAYkyUiQ4FvgKbnbsQY8wHwAVhdNJdXOtB+HBTkwPcPw9w7YfRH4F3yLt3WM5qjWflMWbyH0Gr+PDKw+WWXoJRSlVWZjuCNMSn25zRgHtDlnPWnjDFZ9tc/AL4i4pj5MGPvgIEvwrZv4dvJYCu9++VvA5sxNjaSt3/bw6erEh1SolJKOcMFj+BFpCrgZYzJtL8eCLxwTpsw4IgxxohIF6x/ODIqouDz6nGfdSS/+EXwC4Rhr4PIeZuKCC+ObENGdj7Pzd9KSFV/hrWr57BSlVLKUcrSRVMXmCdWYPoAXxhjfhKRSQDGmPeA64B7RKQQOA2MM47u5L7iMcjPhpVvgm8gDPxXiSHv4+3FlBs7cPP0NTw8cwM1A33p0cQxPziUUspR3GuyMWPgxydg7fvQ5wno93SpzU/mFHD9+7+TeiKXryZ2o024cyblV0qpsnL/YZIlEYHBL0OH8bD0FVjxZqnNgwN9+fSOrgRX8eW2j9eRlJHtmDqVUsoB3CvgAby84Oq3oc1o+PU5WPNBqc3DggP45I4uFNps3PLRWtIz8xxUqFJKVSz3C3gAL28Y+T40HwY/PgbrZ5TavEmdanx8W2fSTuVx28drycwtcFChSilVcdwz4AG8feH6j6HxlTD/ftg8u9TmHRrU5N3xHdlxOJNJM+LJKyxyUKFKKVUx3DfgAXz8Yezn0KA7zLkTVk8ttXm/5nX49+h2rNyTwSOzNmKz6dWuSinX5d4BD9a4+JtmQ4th8NOT1igbW8lH56M7RfD00BYs2HSIB2du4HS+HskrpVyT+wc8WCE/5lPofh+seQ9mjrfGzJdg4hWNeXxwc77flMrId1dyICPHgcUqpVT58IyAB+vE66AXYehrsOsn+HgoZB4psfm9fZvw8W2dOXQyl6unrGDJzjQHFquUUpfPcwL+jC53wbgv4egumNYf0raX2LRv8zp8d18v6gUHcPv/1jHlt93aL6+UchmeF/AAzQfD7T9AUT5MHwT7lpTYtEFIIHPv7cGI9vV5beEuJs2I12GUSimX4JkBD1C/A9y5CKrXhxmjYf3nJTYN9PPhzbExPDO8FYt2pHHNf1eyJy3TgcUqpdTF89yAB6gRCRN+hqhe8O298NuL1nw25yEiTOgVzYwJXTmZU8A1U1by05bDDi5YKaXKzrMDHqybdt8025q/Ztm/Yd7dUFjydAXdG4fw/QO9aFI3iEkz4nn15x0Uab+8UqoS0oAH66rXEVPgyr/Dppnw2Sg4fbzE5vWCqzDr7m6M6xzJfxfv5fb/reNETum3DFRKKUfTgD9DxJpTfpT9Zt7TBsDRPSU29/fx5uXR7XhpVFtW783g6ikr2Jp60oEFK6VU6TTgz9Xuerj5G8g5ClO7w+L/g4LTJTa/oUsDZt7djYJCw+ipvzNz3QG9obdSqlLQgD+fqJ5w72podY01r/y73WH3LyU279CgJt/d34uODWryxJzNPDxzA1l5hQ4sWCml/koDviRBYTB6GtwyH7x84PPrYObNcDL5vM1Dg/z5bEJXHhnQjPkbUxnxjnbZKKWcSwP+Qhr1gXtWQv9nraP4KV1g5dtQ9NeLnby9hAf6N+WLu7qRnV/IyHd/57PVSdplo5RyCg34svDxh95/g8lrIPoK+OUZeK83JP1+3ubdGoXwwwO96d4ohGe+2cLkLxI4pVe/KqUcTAP+YtRsCDd+Zc1lk58NHw+BefdAVvpfmoZU8+fj2zrz5JAW/Lz1CMPeXs7GgyccX7NSymNpwF+KFkNh8mro9Qhs/hqmdIJ10/8yz7yXlzCpT2Nm3d0Nmw2ue+93pq/Yr102SimH0IC/VH5V4arnrP75sHaw4BGYdhUkrvhL004Na7HggV70aVaHf36/jbs+jdcLo5RSFa5MAS8iiSKyWUQ2iEjcedaLiLwtIntEZJOIdCz/Uiup0OZw63fWBVKZh+B/w6wrYVPX/6lZjUA/PrylE88Ob8XSXWkMfWs58UnHnFS0UsoTXMwRfD9jTIwxJvY864YATe2PiUDpNz91NyLWBVIPrIcB/4TUBPigL8y6BdJ3FWsm3NErmjn39MDH24sx769m6pK9Ose8UqpClFcXzTXAp8ayGqghIvXKaduuw7cK9HwAHtwIfZ6APYvg3a7wzWQ4ceCPZu0iavD9A70Y3DqMV37awcTP4jl5WkfZKKXKV1kD3gALRSReRCaeZ304cLDY+2T7sj8RkYkiEicicenpfx154jYCgqHf01bQd73HOhH7Tifrht/2ETfVA3yZcmMHnh3eiiU70xgxZQXbD51ycuFKKXdS1oDvZYzpiNUVM1lErriUDzPGfGCMiTXGxIaGhl7KJlxL1dow+P/ggQRoPw7WfghvtYdF/4TTJ/7osvlqYjdyC4oY+e5K5sSf/0pZpZS6WGUKeGNMiv05DZgHdDmnSQoQWex9hH2ZAgiOgBHvWBdKNRsEy1+zgn7FG5CfQ2xULb6/vzcxkTX429cb+X/zNpNXWHTh7SqlVCkuGPAiUlVEgs68BgYCW85pNh+4xT6aphtw0hhzqNyrdXW1m8L1H8PdyyCyC/z6PEyJhe3fExrkz4wJXZnUpzGfrznA9e+tIvl4jrMrVkq5sLIcwdcFVojIRmAtsMAY85OITBKRSfY2PwD7gD3Ah8C9FVKtu6jXHm76Gm7/EQJqwMyb4Kub8Mk6xJNDWvD+zZ3Yn57N8HdWsHSXG5+rUEpVKHHWVZWxsbEmLu4vQ+o9T1EBrJoCS16xZq3s/wx0vpP9x3K5Z0Y8O49k8lD/Ztx/ZRO8vMTZ1SqlnExE4ksYrv4XeiWrs3n7Qq+H4d5VENkZfnwcpg8gumAv8+7tyciYcN74dRd3fKK3BVRKXRwN+MqiVjSMnwujp1tj5j/oS5Ulz/Gfa5vwz2vbsHLPUYa9vYLNyTrHvFKqbDTgKxMRaHsdTF4LHW6C399Bpnbn5pBdfD2pB8YYRr/3O1+tPXDhbSmlPJ4GfGUUWMsaVnnbD+ATAJ9fR8zqh1lwRzO6RtfiybmbeXLOJnILdCilUqpkGvCVWVRPmLQC+j4NO76n5sc9+aTdNib3jeardQcZ8/4qUk6UfENwpZRn04Cv7Hz8oe8TcM/vENYOrwUP8diu8SyMXUd2+gGufmcFK/ccdXaVSqlKSIdJuhJjYMsciPsIklZixIs4r/Z8mtuLdv1v5M5+LRHRoZRKubOLGSapAe+qju2DDV9g2/AFXqdSOGkC2VBjAJ1H3k9gw1jrhK1Syu1owHsSWxFm31L2/vIBEYd/JUAKyKvVAv/Ym6HdWKjmAZO6KeVBNOA91Jrt+/h11lSG236jveyxroxtOgg6jLcmOfPydnaJSqnLpAHvwQ6dPM2kGQlkJ2/hX1Eb6Zr5K5J1BOq2gauehyZXafeNUi5MpyrwYPWCqzDr7m506dKDcfuHcUvwx2QOew/ys+Dz6+CTqyE53tllKqUcQAPeDfn7ePN/I9vy7+vasSbpFIN+rUPC1T/D0NcgbTtMuxJm3gxHdzu7VKVUBdKAd2NjYiOZM6kH3t7C9dMSeOtUXwrvS4C+T8He3+C/XeG7hyDzsLNLVUpVAA14N9c2IpgfHujN1e3q8cavu7jh062kxDwID6yHzhNg/WfwdgfrNoK5OpGZUu5EA94DBAX48ua4Drwxtj3bD2Uy5M1lLNhXBENfhfvWQfOh9tsIxsCq/0JhnrNLVkqVAw14DzKyQwQLHuhFdGg1Jn+RwOOzN5JdtQFcNx0mLrXuNPXz0/BOLMR/okf0Srk4HSbpgQqKbLz56y7eXbKX6JCqvH1DB9qEB1sr9/5m3Sv20Ebw9oPG/aHNKGg2GAKqO7VupZSOg1dltGpvBg/P3EBGdh6PDWrOnb0aWbcFNAaS42DrPNj2DZxKAW9/aDoAWo+0LpryD3J2+Up5JA14VWYncvJ5Ys4mft56hN5Na/Of69tTp3rA2QY2GySvOxv2mYesOer/CPvB4FfVafUr5Wk04NVFMcbw5dqDvPD9VgL9fHj1unb0b1n3rw1tNji45mzYZx0BnyrQbKAV9k2u0iN7pSqYBry6JHvSMrn/yw1sP3SKW7o35KkhLaniV8L8NbYiOLDaHvbfQnYaiLd1orZhD2jYExp2hyo1HbsTSrk5DXh1yfIKi3jlx518tHI/jWpX5fWxMcRE1ij9j2xFkPQ77F9qPSfHQVEeIFC3dbHA7wHV6jhiN5RyWxUS8CLiDcQBKcaY4eesuw14FUixL5pijJlW2vY04Cu33/cc5dGvN3IkM497+zbm/iub4udTxlG1BbmQEm+FfdJKOLgWCrKtdSFNraCP6mU9B0dU3E4o5YYqKuAfAWKB6iUEfKwx5r6yFqkBX/mdyi3gH/O3MSchmdb1q/P6mBiah11CH3tRgTXsMmmlPfRXQZ59jH14LMTcaA3F1O4cpS6o3ANeRCKAT4AXgUc04D3Lz1sP8/TczWTmFvLooGZM6NUIb6/LmHLYVgRHtlpj7jfNhLRt1jDM5kMg5iZofCV4+5TfDijlRioi4GcDLwFBwKMlBPxLQDqwC3jYGHPwPNuZCEwEaNCgQaekpKSy1KgqgaNZeTw9dzMLtx2hS1QtXru+PQ1CAi9/w8ZYR/cbv4RNs+D0MahWF9pebx3Z1219+Z+hlBsp14AXkeHAUGPMvSLSl/MHfAiQZYzJE5G7gbHGmCtL264ewbseYwxzE1J4fv5WiozhmeGtGNc5svxu9F2YD7sXWmG/6yewFVqjctrfaAV+1ZDy+RylXFh5B/xLwM1AIRAAVAfmGmPGl9DeGzhmjAkubbsa8K4r5cRpHp+9kZV7MujXPJRXRrf788VR5SH7KGyeDRu/sI7wvXytK2jbjIL6HaBGFHjpVErK81TYMMlSjuDrGWMO2V+PBJ4wxnQrbVsa8K7NZjN8uiqRl3/aQYCvN/+6tg3D29WvmA87ss0K+o0zrfH2AH5BENYGwtpatyMMawt1WoJvlYqpQalKwiEBLyIvAHHGmPn2o/wRWEf5x4B7jDE7StuWBrx72JuexSOzNrLx4AmGtg3j+atbl//R/BlFhXB4IxzeAke2wOHN1uv8TGu9eEPtZmeDP6wt1G0L1UIrph6lnEAvdFIOVVhk4/1l+3hr0W78fbx4akhLxnWOtCYuq2g2G5xIPBv2hzdbj1PJZ9vUjIJGfa1HdB8IrFXxdSlVQTTglVPsS8/i6XmbWb3vGJ2javLSqLY0qeOkuWlyjtnDfpM17j5xOeSdAsQ6cXsm8Bt0024d5VI04JXTGGOYHZ/Miz9sJzuvkHv7NuHefo3x9ylhThtHKSqE1ATYt8R6HFwLtgJr/H2DbmcDv1578HJyrUqVQgNeOd3RrDz+9f02vtmQSqPQqrw0si1dG1WiYY55WXBglRX2exdD2lZreZWa1jQKIU0gqB4EhUFQfftzGHj7OrVspTTgVaWxdFc6f/9mMwePnWZc50ieGtKS4MBKGJKZR2D/Mivwk1bAyWRrHP65qob+OfSrn3mOgNpNIDhSfwGoCqUBryqV0/lFvLloF9OW76dmoB/PXd2K4e3qld8FUhXBZoOcDOsGJ5mHITPV/mx/f8r+PjsdKPb/kLe/dfRfu6n90ezse50rX5UDDXhVKW1NPclTczezKfkk/ZqH8s9r2xBRsxymO3CmogLrxicnDkLGbji6C47usZ6PJ4IpOts2qL51lF+7mTWrZrU61n1vvf2suXf+eO1rPXv5nn3t7Qc+fuBfHSrzP4yqwmnAq0qryGb45PdEXlu4E2PgkQHNuL1nFD7ebnhVamEeHNtfLPh3n32cmU3zYlWra13JWy/Geq7fAYLOc/ct5bY04FWll3LiNM9+s4VFO9JoXb86L41qS7uIGs4uyzGMgaw0a2K1onxrhE9Rvv1RYD3bCs6+PrO8IAfStkPqekjfyR9dQ0H1oX7M2cCvF6MXd7kxDXjlEowx/LTlMM/N38rRrDxu7RHF3wY2p5q/ThV8QXlZ1jj/1PXW49AG65fBmdCvHmGFflg7CA63RgRVr289BwRrN48L04BXLuVUbgGv/rSTGWuSCKsewAvXtGFAK+12uGi5p6wLu1I3nA3+Y3v/2s438M+BX72e9SvgzLN/NesXg63A+nVx5teErbDY8uLvC0G8rPMFf5w3OPPa5+yy4u99/K06/KpaDx15VGYa8MolxScd5+m5m9l5JJPBrcN4fkRrwoIraF4bT1GQax/5c8g+8ucQnDoEp1LOvs48ZIW2M/kE2AO/mj307eHvW/XsPwI+AfZ/KLytfyS8fOz/YPiU/F7s53bO/GIRAc55XXwZWCfGbWcehfb3hWff//FcCMZmPawNFtsm51kmZ5dFxFrXW1wCDXjlsgqKbHy4fB9v/bobX28vHhvUnPHdGl7eHaRU6f4YEppqBX5Btv1o26/kI3DvM4Fqfza2Px/VF+WXfMT/xzmFbMjPhvwcyM+yzjHkZ1uv8+2v/2iTDYW5Vrie2VbxEUqupudDMOAfl/SnGvDK5SVlZPP3b7awfPdRYiJr8NKotrSsV93ZZanKxGazQv5M4J95FH9/5ujaGMDYnyn2+pxlYM1K6uVj/6Vw5rXP2V8Ef7z3PrvsT9sy5/nMc5Z5+VjdVJdAA165BWMM8zem8sJ32zhxuoA7e0fzUP9mVPHT/lrluS4m4N1w8LFyFyLCNTHhLPpbH67rGMH7S/cx4I2lLNx6GGcdmCjlSjTgVaVXI9CPV65rx8yJ3Qj082biZ/Hc/r917D+a7ezSlKrUNOCVy+jaKIQFD/TmmeGtiE88zqA3lvHqzzvIyT/PpGBKKQ145Vp8vb2Y0CuaRY/2YXj7evx38V76/2cpCzYd0m4bpc6hAa9cUp2gAF4fE8PsSd2pGejH5C8SGD99DbuPZDq7NKUqDQ145dJio2rx3f29+Oc1rdmcfJIhby3nxQXbyMx18oU7SlUCGvDK5Xl7CTd3j2Lxo325PjaCaSv20/8/S/lmfYp22yiPpgGv3EZINX9eGtWOeff2pF5wAA/N3MDY91ezLfWUs0tTyinKHPAi4i0i60Xk+/Os8xeRmSKyR0TWiEhUuVap1EWIiazBvHt78vKotuxOy2T4O8v5f/M2cyw739mlKeVQF3ME/yCwvYR1E4DjxpgmwBvAK5dbmFKXw8tLGNelAUse7cetPaL4at1B+r66mI9W7KegyHbhDSjlBsoU8CISAQwDppXQ5BrgE/vr2UB/qdQ33FSeIjjQl+eubs1PD/amfWQNXvh+G0PeWs6yXenOLk2pClfWI/g3gceBkg59woGDAMaYQuAkEHJuIxGZKCJxIhKXnq7/gynHaVo3iE/v6MK0W2IpKLJxy0drufMTvRpWubcLBryIDAfSjDHxl/thxpgPjDGxxpjY0FC9pZhyLBHhqlZ1WfjwFTw5pAWr9mYw8I2lvPTjdh1WqdxSWY7gewIjRCQR+Aq4UkRmnNMmBYgEEBEfIBjIKMc6lSo3/j7eTOrTmMWP9uWamHDeX7qPfq8tZVbcQWw2HVap3McFA94Y85QxJsIYEwWMA34zxow/p9l84Fb76+vsbfT/FFWp1akewGvXt+fbyT2JrFWFx2dv4tp3VxKfdNzZpSlVLi55HLyIvCAiI+xvpwMhIrIHeAR4sjyKU8oR2kfWYM6kHrwxtj1HTuUyeurvTP48QfvnlcvTG34oVUx2XiHvL93LtBX7yS+0cUOXBtzfvwl1gvTesKpy0Ds6KXWZ0jJzeWfRHr5cewA/Hy/u7N2IiVc0opq/j7NLUx5OA16pcrL/aDavLdzJgk2HCKnqx/1XNuHGrg3x89FZPpRz6C37lCon0bWr8t8bO/Lt5J40qxvE899t46rXl/LthhQdcaMqPQ14pcqgfWQNvrirK5/c0YWq/j48+NUGrp6yguW79YI9VXlpwCtVRiJCn2ahLLi/F2+Mbc+JnAJunr6W8dPWsDn5pLPLU+ovtA9eqUuUV1jEjNUHmPLbbo7nFDCsbT0eHtCMJnWqObs05cb0JKtSDnQqt4Bpy/czffk+ThcUcV2nCB7o35SImoHOLk25IQ14pZwgIyuPd5fs5bPVSWDgxq4NmNyvCaFB/s4uTbkRDXilnCj1xGne+W03s+KS8fP24o5eUUy8ojHBVXydXZpyAxrwSlUC+49m88Yvu5i/MZXqAT5M6tuY23pEEeinF0upS6cBr1Qlsi31FP9ZuJNFO9KoXc2f+69swrgukfj7eDu7NOWCNOCVqoTik47x7592smb/McJrVOHBq5oyqkM4Pt46WlmVnV7JqlQl1KlhLb6a2I3PJnQhpJofj8/eRP/XlzInPplCvU+sqgAa8Eo5kIjQu2ko307uyYe3xFLVz4e/fb2RAW8s45v1KRTp9AeqHGnAK+UEIsKAVnVZ8EAv3hvfCX8fLx6auYGBb1jz3GjQq/KgAa+UE4kIg9uE8cMDvZl6U0d8vLx48KsNDH5zGd9vStUJzdRl0YBXqhLw8hKGtK3Hjw/2ZsqNHQC474v1DHlrOT9uPqRBry6JBrxSlYiXlzC8XX1+eugK3r6hAwU2G/d8nsDQt5fz05bDGvTqougwSaUqsSKb4buNqby1aDf7j2bTvG4Qk/o2Yni7+vjq8EqPpOPglXIzhUU2vtuUytQle9l1JIvwGlWYeEUjxsRGUsVPL5jyJBrwSrkpm82weGca7y7ZS3zScWpV9eP2HlHc0j2K4ECd68YTaMAr5QHWJR5j6pK9/LYjjap+3tzYtQETejUiLDjA2aWpCqQBr5QH2X7oFO8v3ct3mw7hJTCqQwQT+zSicajeeMQdlWvAi0gAsAzwB3yA2caY585pcxvwKpBiXzTFGDOttO1qwCtVvg4ey+HD5fuYue4g+UU2BrUK456+jWkfWcPZpalyVN4BL0BVY0yWiPgCK4AHjTGri7W5DYg1xtxX1iI14JWqGEez8vjfykQ+WZVIZm4h3RrV4u4+jenbLBTrf2flysp1sjFjybK/9bU/dDCuUpVU7Wr+PDqoOb8/eSVPD21B4tEcbv94HYPfXM6c+GTyC3ViM09RpoG0IuItIhuANOAXY8ya8zQbLSKbRGS2iESWsJ2JIhInInHp6emXXrVS6oKCAnyZeEVjlj3ej/9c3x6D4W9fb6TPq4v5cNk+MnMLnF2iqmAXdZJVRGoA84D7jTFbii0PAbKMMXkicjcw1hhzZWnb0i4apRzLGMOSnem8v2wvq/cdIyjAh5u6NuSOnlHUqa4jb1xFhY6iEZFngRxjzGslrPcGjhljgkvbjga8Us6z8eAJPli2jx+3HMLHy4uRHcK564pGNKmjI28qu4sJ+AveHFJEQoECY8wJEakCDABeOadNPWPMIfvbEcD2i6xZKeVA7SNr8N+bOpKUkc205fv5Ov4gM+MOclXLOky8ojGdo2rqCVk3UJZRNO2ATwBvrD77WcaYF0TkBSDOGDNfRF7CCvZC4BhwjzFmR2nb1SN4pSqPjKw8Pl2VxKerEjmeU0C7iGAm9IpmaNt6OudNJaMXOimlLsnp/CLmJCTz0cr97EvPpl5wALf2iOKGzg10KoRKQgNeKXVZbDbDkl1pTFu+n9/3ZhDo5831nSK4vWc0UbWrOrs8j6YBr5QqN1tTT/LRikTmb0yh0Ga4qmVd7uwVTZfoWtpP7wQa8Eqpcpd2KpfPVicxY3USx3MKaBtu9dMPa6f99I6kAa+UqjCn84uYuz6Z6Susfvqw6gGM79aAsZ0bEBrk7+zy3J4GvFKqwtlshqW70pm+Yj8r9hzF11sY2rYet3RvSMcGOsyyopTrOHillDofLy+hX4s69GtRhz1pWcxYncSc+GS+3ZBKq3rVuaV7Q66JCdc7TjmRHsErpcpNdl4h32xI4bNVSew4nEn1AB+u6xTJzd0bEq2jb8qFdtEopZzKGMO6xON8uiqRn7YcptBm6N20Nrd0j+LKFnXw9tLum0ulXTRKKacSEbpE16JLdC3STuXy5dqDfLE2ibs+jSO8RhVu6taAsbGRhFTTk7IVSY/glVIOUVBk49dtR/h0VRKr9mXg5+3F0LZh3KwnZS+KdtEopSq13Ucy+XzNAebEJ5OZV0iLsCBu7t6Qa2PCqeqvHQul0YBXSrmE7LxCvt2Qymerk9h+6BTV/H0Y1TGc8d0a0qxukLPLq5Q04JVSLsUYQ8KBE8xYncSCTYfIL7LRNboW47s1ZFDrMPx89ErZMzTglVIuKyMrj1lxyXy+Jonk46epXc2fG7pEckOXBtSvUcXZ5TmdBrxSyuUV2QzLdqXz2eokFu9MQ4ArW9Thpq4NuaJZqMcOtdRhkkopl+dd7ErZg8dy+GrdAWauS+bX7esIr1GFG7pEMiY2Uu8nWwo9gldKuYz8Qhu/bDvCF2uTWLknAx8vYWDrutzYpSE9Gofg5QFH9XoEr5RyS34+XgxrV49h7eqxLz2LL9ce4Ov4ZH7YfJiokEBu7NqA6zpFUquqn7NLrRT0CF4p5dJyC4r4acthPl+TxLrE4/h5ezGkbRg3dW3oljcP15OsSimPtOtIJl+sOcCchGQycwtpUqca4zpHMrJDuNtMi6ABr5TyaKfzi/huUypfrT1AwoET+HoLA1uFMa5LJD0b13bpvnoNeKWUstt1JJOZ6w4yNyGZ4zkFRNSswtjYSK6LjaBesOuNqy/XgBeRAGAZ4I91Una2Mea5c9r4A58CnYAMYKwxJrG07WrAK6UcKa+wiIVbj/DVugOs3JOBl0C/5nUY2zmSfi3quMx9Zct7FE0ecKUxJktEfIEVIvKjMWZ1sTYTgOPGmCYiMg54BRh70ZUrpVQF8ffx5ur29bm6fX0OZOQwM+4AX8cls2hHGqFB/lzfKYIxsZFEudGNSS6qi0ZEAoEVwD3GmDXFlv8MPG+MWSUiPsBhINSUsnE9gldKOVthkY3FO9OZue4Av+1Iw2agc1RNRnWMYGjbegRX8XV2iX9R7n3wIuINxANNgP8aY544Z/0WYLAxJtn+fi/Q1RhztKRtasArpSqTwydzmZOQzNyEZPamZ+Pn48WAVnUZ3TGc3k1DK00XToWdZBWRGsA84H5jzJZiy8sU8CIyEZgI0KBBg05JSUll/myllHIEYwybU04yNyGFbzekcDyngNrV/Li6fX1Gd4ygdf3qTh1bX6GjaETkWSDHGPNasWXaRaOUcjv5hTaW7kpnbkIyi7ankV9ko1ndaozqGMG1MeGEBTt+HpzyHkUTChQYY06ISBVgIfCKMeb7Ym0mA22NMZPsJ1lHGWPGlLZdDXillCs5kZPP95sOMTchmYQDJxCBXk1qM7JDOINahznsTlTlHfDtgE8Ab8ALmGWMeUFEXgDijDHz7UMpPwM6AMeAccaYfaVtVwNeKeWq9h/NZt76FOYmJJN8/DSBft4Mbh3GyI7h9Ghcu0KnMtYLnZRSygFsNkNc0nHmrU/m+02HyMwtpG51f66NCWdkx3BahFUv98/UgFdKKQfLLShi0fY05iYks3RXOoU2Q6t61RnVMZwRMfWpE1Q+/fUa8Eop5UQZWXl8tzGVeetT2Jh8Ei+B3k1DGdUxnIGtwqji533J29aAV0qpSmJPWhbz1ifzzfpUUk6cpqqfNw8PaMadvRtd0vb0hh9KKVVJNKlTjccGteBvA5qzZv8x5q1PdtgkZxrwSinlAF5eQvfGIXRvHOK4z3TYJymllHIoDXillHJTGvBKKeWmNOCVUspNacArpZSb0oBXSik3pQGvlFJuSgNeKaXclNOmKhCRdOBSb+lUGyjxdoAewJP335P3HTx7/3XfLQ2NMaFl+SOnBfzlEJG4ss7F4I48ef89ed/Bs/df9/3i9127aJRSyk1pwCullJty1YD/wNkFOJkn778n7zt49v7rvl8kl+yDV0opdWGuegSvlFLqAjTglVLKTblcwIvIYBHZKSJ7RORJZ9fjSCKSKCKbRWSDiLj9/Q5F5CMRSRORLcWW1RKRX0Rkt/25pjNrrCgl7PvzIpJi//43iMhQZ9ZYUUQkUkQWi8g2EdkqIg/al3vKd1/S/l/09+9SffAi4g3sAgYAycA64AZjzDanFuYgIpIIxBpjPOJiDxG5AsgCPjXGtLEv+zdwzBjzsv0f+JrGmCecWWdFKGHfnweyjDGvObO2iiYi9YB6xpgEEQkC4oFrgdvwjO++pP0fw0V+/652BN8F2GOM2WeMyQe+Aq5xck2qghhjlgHHzll8DfCJ/fUnWP/hu50S9t0jGGMOGWMS7K8zge1AOJ7z3Ze0/xfN1QI+HDhY7H0yl7jjLsoAC0UkXkQmOrsYJ6lrjDlkf30YqOvMYpzgPhHZZO/CccsuiuJEJAroAKzBA7/7c/YfLvL7d7WA93S9jDEdgSHAZPvPeI9lrP5F1+ljvHxTgcZADHAI+I9Tq6lgIlINmAM8ZIw5VXydJ3z359n/i/7+XS3gU4DIYu8j7Ms8gjEmxf6cBszD6rLyNEfsfZRn+irTnFyPwxhjjhhjiowxNuBD3Pj7FxFfrHD73Bgz177YY7778+3/pXz/rhbw64CmIhItIn7AOGC+k2tyCBGpaj/hgohUBQYCW0r/K7c0H7jV/vpW4Fsn1uJQZ8LNbiRu+v2LiADTge3GmNeLrfKI776k/b+U79+lRtEA2IcGvQl4Ax8ZY150bkWOISKNsI7aAXyAL9x930XkS6Av1lSpR4DngG+AWUADrOmmxxhj3O5kZAn73hfr57kBEoG7i/VJuw0R6QUsBzYDNvvip7H6oT3huy9p/2/gIr9/lwt4pZRSZeNqXTRKKaXKSANeKaXclAa8Ukq5KQ14pZRyUxrwSinlpjTglVLKTWnAK6WUm/r/3SMSzgE7VA0AAAAASUVORK5CYII=\n",
      "text/plain": [
       "<Figure size 432x288 with 1 Axes>"
      ]
     },
     "metadata": {
      "needs_background": "light"
     },
     "output_type": "display_data"
    }
   ],
   "source": [
    "plt.plot(history.history['loss'], label='train')\n",
    "plt.plot(history.history['val_loss'], label='test')\n",
    "plt.legend()\n",
    "plt.show()"
   ]
  },
  {
   "cell_type": "markdown",
   "id": "d8f837a4",
   "metadata": {},
   "source": [
    "## 인퍼런스 모델"
   ]
  },
  {
   "cell_type": "code",
   "execution_count": 40,
   "id": "165dba17",
   "metadata": {},
   "outputs": [],
   "source": [
    "src_index_to_word = src_tokenizer.index_word # 원문 단어 집합에서 정수 -> 단어를 얻음\n",
    "tar_word_to_index = tar_tokenizer.word_index # 요약 단어 집합에서 단어 -> 정수를 얻음\n",
    "tar_index_to_word = tar_tokenizer.index_word # 요약 단어 집합에서 정수 -> 단어를 얻음"
   ]
  },
  {
   "cell_type": "code",
   "execution_count": 41,
   "id": "411dd5cb",
   "metadata": {},
   "outputs": [],
   "source": [
    "# 인코더 설계\n",
    "encoder_model = Model(inputs=encoder_inputs, outputs=[encoder_outputs, state_h3, state_c3])\n",
    "\n",
    "# 이전 시점의 상태들을 저장하는 텐서\n",
    "decoder_state_input_h = Input(shape=(hidden_size,))\n",
    "decoder_state_input_c = Input(shape=(hidden_size,))\n",
    "\n",
    "dec_emb2 = dec_emb_layer(decoder_inputs)\n",
    "\n",
    "# 문장의 다음 단어를 예측하기 위해서 초기 상태(initial_state)를 이전 시점의 상태로 사용. 이는 뒤의 함수 decode_sequence()에 구현\n",
    "# 훈련 과정에서와 달리 LSTM의 리턴하는 은닉 상태와 셀 상태인 state_h와 state_c를 버리지 않음.\n",
    "decoder_outputs2, state_h2, state_c2 = decoder_lstm(dec_emb2, initial_state=[decoder_state_input_h, decoder_state_input_c])"
   ]
  },
  {
   "cell_type": "code",
   "execution_count": 42,
   "id": "3d8a981e",
   "metadata": {},
   "outputs": [
    {
     "name": "stdout",
     "output_type": "stream",
     "text": [
      "=3\n"
     ]
    }
   ],
   "source": [
    "# 어텐션 함수\n",
    "decoder_hidden_state_input = Input(shape=(text_max_len, hidden_size))\n",
    "attn_out_inf = attn_layer([decoder_outputs2, decoder_hidden_state_input])\n",
    "decoder_inf_concat = Concatenate(axis=-1, name='concat')([decoder_outputs2, attn_out_inf])\n",
    "\n",
    "# 디코더의 출력층\n",
    "decoder_outputs2 = decoder_softmax_layer(decoder_inf_concat) \n",
    "\n",
    "# 최종 디코더 모델\n",
    "decoder_model = Model(\n",
    "    [decoder_inputs] + [decoder_hidden_state_input,decoder_state_input_h, decoder_state_input_c],\n",
    "    [decoder_outputs2] + [state_h2, state_c2])\n",
    "\n",
    "print('=3')"
   ]
  },
  {
   "cell_type": "code",
   "execution_count": 43,
   "id": "621f22be",
   "metadata": {},
   "outputs": [
    {
     "name": "stdout",
     "output_type": "stream",
     "text": [
      "=3\n"
     ]
    }
   ],
   "source": [
    "def decode_sequence(input_seq):\n",
    "    # 입력으로부터 인코더의 상태를 얻음\n",
    "    e_out, e_h, e_c = encoder_model.predict(input_seq)\n",
    "\n",
    "     # <SOS>에 해당하는 토큰 생성\n",
    "    target_seq = np.zeros((1,1))\n",
    "    target_seq[0, 0] = tar_word_to_index['sostoken']\n",
    "\n",
    "    stop_condition = False\n",
    "    decoded_sentence = ''\n",
    "    while not stop_condition: # stop_condition이 True가 될 때까지 루프 반복\n",
    "\n",
    "        output_tokens, h, c = decoder_model.predict([target_seq] + [e_out, e_h, e_c])\n",
    "        sampled_token_index = np.argmax(output_tokens[0, -1, :])\n",
    "        sampled_token = tar_index_to_word[sampled_token_index]\n",
    "\n",
    "        if (sampled_token!='eostoken'):\n",
    "            decoded_sentence += ' '+sampled_token\n",
    "\n",
    "        #  <eos>에 도달하거나 최대 길이를 넘으면 중단.\n",
    "        if (sampled_token == 'eostoken'  or len(decoded_sentence.split()) >= (headlines_max_len-1)):\n",
    "            stop_condition = True\n",
    "\n",
    "        # 길이가 1인 타겟 시퀀스를 업데이트\n",
    "        target_seq = np.zeros((1,1))\n",
    "        target_seq[0, 0] = sampled_token_index\n",
    "\n",
    "        # 상태를 업데이트 합니다.\n",
    "        e_h, e_c = h, c\n",
    "\n",
    "    return decoded_sentence\n",
    "print('=3')"
   ]
  },
  {
   "cell_type": "markdown",
   "id": "01397961",
   "metadata": {},
   "source": [
    "## 실제 결과와 요약문 비교하기"
   ]
  },
  {
   "cell_type": "code",
   "execution_count": 44,
   "id": "c4c8ad97",
   "metadata": {},
   "outputs": [
    {
     "name": "stdout",
     "output_type": "stream",
     "text": [
      "=3\n"
     ]
    }
   ],
   "source": [
    "# 원문의 정수 시퀀스를 텍스트 시퀀스로 변환\n",
    "def seq2text(input_seq):\n",
    "    temp=''\n",
    "    for i in input_seq:\n",
    "        if (i!=0):\n",
    "            temp = temp + src_index_to_word[i]+' '\n",
    "    return temp\n",
    "\n",
    "# 요약문의 정수 시퀀스를 텍스트 시퀀스로 변환\n",
    "def seq2summary(input_seq):\n",
    "    temp = ''\n",
    "    for i in input_seq:\n",
    "        if (i != 0 and i != tar_word_to_index['sostoken']) and (i != tar_word_to_index['eostoken']):\n",
    "            temp += tar_index_to_word[i] + ' '\n",
    "    return temp.strip()\n",
    "\n",
    "print('=3')"
   ]
  },
  {
   "cell_type": "code",
   "execution_count": 45,
   "id": "dc1db28e",
   "metadata": {},
   "outputs": [
    {
     "name": "stdout",
     "output_type": "stream",
     "text": [
      "원문 : fir filed class student mother allegedly abused school teacher noida sector saturday authorities called woman school son abused teacher earlier police said however woman got upset misbehaved teacher police added \n",
      "실제 요약 : fir against student mother for noida teacher\n",
      "예측 요약 :  class student arrested for sexually harassing woman\n",
      "\n",
      "\n",
      "원문 : human found mass grave mexico likely dumping ground drug buried people killed years authorities said authorities working identify using database missing people facing criticism activists enough \n",
      "실제 요약 : over human found in mexican mass\n",
      "예측 요약 :  uk man found dead in indonesia\n",
      "\n",
      "\n",
      "원문 : bengaluru sunday observed second edition less traffic day campaign launched february reduce air pollution traffic congestion city transport ministry decided observe second sunday every month campaign aims encourage people voluntarily opt public transport services pollution officials said \n",
      "실제 요약 : bengaluru less traffic day to pollution\n",
      "예측 요약 :  delhi to get its first of\n",
      "\n",
      "\n",
      "원문 : brazilian legend ronaldinho announced retirement football tuesday assisted lionel messi first ever senior goal barcelona may ronaldinho ball two lionel messi goalkeeper score first goals barcelona ronaldinho played matches barcelona scoring goals \n",
      "실제 요약 : messi first ever goal at barcelona\n",
      "예측 요약 :  football thrash football match after football match\n",
      "\n",
      "\n",
      "원문 : president ram nath kovind along wife son daughter offered prayers temple lord hill shrine andhra pradesh saturday one chief priests temple dr explained importance deity first citizen country \n",
      "실제 요약 : prez kovind offers at temple\n",
      "예측 요약 :  pm modi visits pm woman for diwali\n",
      "\n",
      "\n",
      "원문 : us president donald trump said facebook side presidential rival hillary clinton elections also alleged clinton spent hundreds millions dollars election campaign comes amid reports russia used advertisements facebook influence elections \n",
      "실제 요약 : facebook hillary not me during elections trump\n",
      "예측 요약 :  trump retweets trump for him\n",
      "\n",
      "\n",
      "원문 : american football player retired aged suffering sixth documented played national football league last thing want put health brain future game wrote twitter \n",
      "실제 요약 : american football player retires at after th\n",
      "예측 요약 :  player opponent after barcelona match\n",
      "\n",
      "\n",
      "원문 : union home minister rajnath singh said sunday indian soldiers deployed india pakistan border killing least five six terrorists every day told soldiers fire first pakistan give reply firing bullets case pakistan opened fire first singh said \n",
      "실제 요약 : indian soldiers killing terrorists every day rajnath\n",
      "예측 요약 :  pakistan army declares ceasefire in\n",
      "\n",
      "\n",
      "원문 : indian railways identified lakh employees unauthorised leave long time decided services grounds railways instructed officers weed employees employees rolls following due process railways stated statement \n",
      "실제 요약 : railways to services of employees\n",
      "예측 요약 :  railways to get lakh\n",
      "\n",
      "\n",
      "원문 : government india thursday announced three padma vibhushan nine padma bhushan padma shri awards personalities includes padma shri award individual asean countries singer musician ghulam khan hindutva ideologue awarded padma vibhushan india second highest civilian award \n",
      "실제 요약 : govt awards padma padma this year\n",
      "예측 요약 :  mahesh actor conferred conferred against padma bhushan\n",
      "\n",
      "\n",
      "원문 : us president donald trump administration said cutting us funding united nations agency health accusing supporting population control programs china including abortion un fund lose million funding budget funds shifted similar programs us agency international development \n",
      "실제 요약 : us cuts un agency funds over abortion\n",
      "예측 요약 :  us pledges million to boost deal\n",
      "\n",
      "\n",
      "원문 : elderly drivers japan offered discount funeral services surrender licences discount supported local police station offered company runs nearly funeral homes follows recent rise accidents involved drivers mistakenly vehicles \n",
      "실제 요약 : funeral for elderly japanese drivers who quit\n",
      "예측 요약 :  video of in\n",
      "\n",
      "\n",
      "원문 : vijay mallya granted bail within hours arrest london tuesday faces several cases companies loans worth crore includes complaint idbi bank wherein mallya charged fraud unpaid dues crore mallya also barred securities market alleged fund united spirits \n",
      "실제 요약 : what has vijay mallya been accused of\n",
      "예측 요약 :  ed arrested in crore case\n",
      "\n",
      "\n",
      "원문 : honda demonstrated smart technology enable vehicles see approaching vehicles pedestrians around buildings cameras mounted traffic lights corner capture images vehicles pedestrians image processing system images sends information surrounding vehicles using signal \n",
      "실제 요약 : new tech helps vehicles see around buildings\n",
      "예측 요약 :  video shows cars for car\n",
      "\n",
      "\n",
      "원문 : reacting roger federer winning th wimbledon title user tweeted th wimbledon title th grand slam reason call equal dream us finally happened finally thank read another \n",
      "실제 요약 : roger federer you have no tweets user\n",
      "예측 요약 :  federer wins his career\n",
      "\n",
      "\n",
      "원문 : newly appointed karnataka cm bs yeddyurappa said confident congress mlas lodged private resort undergone mental torture harassment vote government bjp leader yeddyurappa yet prove majority state assembly added think need days prove majority despite governor giving us time \n",
      "실제 요약 : congress mlas will support us taka cm\n",
      "예측 요약 :  congress ministers to join bjp\n",
      "\n",
      "\n",
      "원문 : hrithik roshan first television interview row kangana ranaut said extremely proud told several times found extremely extremely professional krrish well added however hrithik denied kangana became good friends shooting films \n",
      "실제 요약 : was of kangana hrithik\n",
      "예측 요약 :  kapil sharma to show reports\n",
      "\n",
      "\n",
      "원문 : president pranab mukherjee saturday said indira gandhi acceptable prime minister indians even today referring operation blue star mukherjee recalled indira told sometimes history demands action may prove correct later relevant also recalled congress facing defeat \n",
      "실제 요약 : indira gandhi most pm till today president\n",
      "예측 요약 :  pranab mukherjee to address presidential president\n",
      "\n",
      "\n",
      "원문 : indian captain virat kohli registered first duck icc tournament getting dismissed zero sri lanka pradeep thursday kohli first duck odi innings earlier february playing australia indian captain virat kohli dismissed duck first time tests playing india \n",
      "실제 요약 : kohli registers his first in icc\n",
      "예측 요약 :  kohli kohli to kohli kohli\n",
      "\n",
      "\n",
      "원문 : next two three months hospitals karnataka likely software register deaths identify cause death scientist national centre disease research developed software said mode dying usually recorded cause death instead underlying cause death \n",
      "실제 요약 : hospitals in karnataka will soon register deaths\n",
      "예측 요약 :  noida to provide for\n",
      "\n",
      "\n",
      "원문 : ayushmann khurrana tabu radhika apte starrer released today tale turns wrote film absolute treat thriller experts said ndtv indian express wrote rated \n",
      "실제 요약 : ayushmann radhika starrer hits theatres\n",
      "예측 요약 :  arjun starrer hits the theatres\n",
      "\n",
      "\n",
      "원문 : national green tribunal thursday issued warrants hookah bars delhi owners failed appear despite notices issued green panel asked authorities regulate bars permit hookah smoking within premises warned could closed cause environmental pollution \n",
      "실제 요약 : issues against bars in delhi\n",
      "예측 요약 :  aadhaar mandatory for aadhaar licence\n",
      "\n",
      "\n",
      "원문 : former bangladesh coach said pitch criticism recently concluded border gavaskar trophy india australia visiting media defence mechanism players media hype led pitch controversy added said players know expect \n",
      "실제 요약 : pitch criticism in india was defence\n",
      "예측 요약 :  india coach as india\n",
      "\n",
      "\n",
      "원문 : taking bjp accepting rebel congress leaders party congress leader digvijaya singh said bjp making congress instead congress bharat remark came rebel congress leaders joined bjp ahead civic polls delhi \n",
      "실제 요약 : bjp is making congress digvijaya singh\n",
      "예측 요약 :  bjp has not been bjp\n",
      "\n",
      "\n",
      "원문 : radio pulled campaign receiving criticism online campaign asks tourists visit india started wake attack swiss couple agra radio channel also ran advertisement campaign ends coming india health \n",
      "실제 요약 : radio pulls down campaign after\n",
      "예측 요약 :  video shows in china\n",
      "\n",
      "\n",
      "원문 : chief executive officer global finnish company owns rights use nokia brand stepped immediate effect joined global last year spending decade nokia spokesman said departure personal matter company board \n",
      "실제 요약 : ceo of nokia phone maker global quits\n",
      "예측 요약 :  sbi to hire to\n",
      "\n",
      "\n",
      "원문 : apple reduced replacement cost batteries india reported price iphone models beyond initially price plus taxes reduced plus taxes comes apple faced criticism older iphones new updated ios software \n",
      "실제 요약 : apple reduces battery replacement price by in india\n",
      "예측 요약 :  apple launches its first ever iphone\n",
      "\n",
      "\n",
      "원문 : veteran actor vinod khanna reportedly suffering cancer passed away today mumbai age khanna also sitting member parliament gurdaspur bharatiya janata party actor appeared films including akbar anthony burning train also recipient filmfare lifetime achievement award \n",
      "실제 요약 : veteran actor vinod khanna passes away at\n",
      "예측 요약 :  veteran actor khanna passes away at\n",
      "\n",
      "\n",
      "원문 : roger federer posted th atp tour win open wednesday swiss top seed second number atp tour wins tennis history behind jimmy beat th ranked japan minutes reach round \n",
      "실제 요약 : roger federer posts career th tour win\n",
      "예측 요약 :  federer scores his first federer in\n",
      "\n",
      "\n",
      "원문 : human bone early stone age cave site uk show human ate prey performed remains said scientists london natural history museum year old bone appears design broken extract bone \n",
      "실제 요약 : human ancient\n",
      "예측 요약 :  year old brewery found in\n",
      "\n",
      "\n",
      "원문 : uk parliament publicly released page facebook internal documents committee seized last month documents contained internal emails ceo mark zuckerberg staff revealed social media giant provided access user data firms like airbnb lyft netflix denied like \n",
      "실제 요약 : uk releases facebook internal zuckerberg emails\n",
      "예측 요약 :  facebook suspends fake accounts for facebook\n",
      "\n",
      "\n",
      "원문 : total cases maharashtra recorded number india april october year union health ministry revealed first year ministry country wide data cases west bengal andhra pradesh states recorded high numbers cases \n",
      "실제 요약 : maharashtra records most in india this year\n",
      "예측 요약 :  maharashtra records highest of years\n",
      "\n",
      "\n",
      "원문 : energy spent mining bitcoins year surpassed nations according cryptocurrency analysis website equivalent global consumption reported added miners country would rank st consumption increased rate bitcoin mining expected use world electricity february \n",
      "실제 요약 : bitcoin mining more electricity than countries\n",
      "예측 요약 :  india to get jobs in india\n",
      "\n",
      "\n",
      "원문 : north korea deputy united nations ambassador kim said country would never nuclear programme even us puts sanctions pressure utmost said us wants peace replace ended korean war peace halt anti north korea policy \n",
      "실제 요약 : will never our nuclear programme north korea\n",
      "예측 요약 :  korea to us korea with\n",
      "\n",
      "\n",
      "원문 : android co founder andy rubin developed phone essential phone essential debuted last year discontinued company spokesperson said existing phones sold company would inventory company provide software updates existing users working create new mobile product spokesperson added \n",
      "실제 요약 : android co founder phone\n",
      "예측 요약 :  android co founder startup unveils\n",
      "\n",
      "\n",
      "원문 : municipal corporation west bengal introduced drone designed school student combat dengue conducting month long trial drone take pictures water terrace high rise buildings mayor said many states asking project \n",
      "실제 요약 : civic body introduces drone to dengue\n",
      "예측 요약 :  village to be in\n",
      "\n",
      "\n",
      "원문 : tennis court installed inside th century milan church decree issued presently serves studio art projects latest aimed exploring subject space entry free providing visitors practice coaches \n",
      "실제 요약 : tennis court installed inside th century church building\n",
      "예측 요약 :  why is the the international\n",
      "\n",
      "\n",
      "원문 : response qatar airways interest buy stake american airlines ceo doug parker said found airline fighting would want take stake makes sense stated described proposal given company stance illegal subsidies qatar received government \n",
      "실제 요약 : find qatar airways bid american airlines ceo\n",
      "예측 요약 :  uk to buy cancer for crore\n",
      "\n",
      "\n",
      "원문 : new zealand defeated india runs second rajkot saturday three match series new zealand colin became fourth player hit two hundreds cricket helping side post meanwhile virat kohli became first indian cricketer slam runs cricket \n",
      "실제 요약 : new zealand defeat india in second level series\n",
      "예측 요약 :  india win pakistan to win\n",
      "\n",
      "\n",
      "원문 : kenya monday imposed world law plastic bags country reduce plastic pollution law producing selling using plastic bags maximum fine lakh four year jail term took kenya three attempts ten years pass ban critics say could cut jobs \n",
      "실제 요약 : kenya imposes world law against plastic bags\n",
      "예측 요약 :  airline to get flights in\n",
      "\n",
      "\n",
      "원문 : first lieutenant friday became japan first female fighter pilot completed training earlier week year old stationed air base begin flying fighter jets japan air defense force allowed women fly fighter jets reconnaissance aircraft \n",
      "실제 요약 : japan gets its first female fighter pilot\n",
      "예측 요약 :  india first ever ever ever\n",
      "\n",
      "\n",
      "원문 : two wing commanders indian air force killed helicopter crashed assam island thursday helicopter taken afternoon air base crashed remote sand island river police officials suspect crash caused due technical reasons \n",
      "실제 요약 : iaf pilots killed as chopper crashes in assam\n",
      "예측 요약 :  killed in nepal plane in maharashtra\n",
      "\n",
      "\n",
      "원문 : ranveer singh said attracted like quality ability transform character citing example hollywood actors daniel day lewis johnny depp ranveer added biggest pick mix characters keep switching things film film ranveer said \n",
      "실제 요약 : to with like quality ranveer\n",
      "예측 요약 :  have been on\n",
      "\n",
      "\n",
      "원문 : landslides triggered heavy monsoon rains bangladesh killed people including several army men officials said tuesday majority deaths reported remote hill district close indian border country district worst affected landslides accounting nearly deaths \n",
      "실제 요약 : death toll from bangladesh landslides rises to\n",
      "예측 요약 :  killed in tripura floods in assam\n",
      "\n",
      "\n",
      "원문 : indrani mukerjea accused killing daughter sheena bora named fir mumbai byculla women prison death saturday complaint names prisoners claims riots started allegedly tortured prison authorities died six jail officials suspended incident \n",
      "실제 요약 : indrani booked for in jail\n",
      "예측 요약 :  arrested for raping minor in delhi\n",
      "\n",
      "\n",
      "원문 : kangana ranaut sister rangoli responding hrithik allegation kangana suffers mental disorder claimed hrithik state mind brain surgery claimed hrithik also battling depression rangoli added hrithik medical proof kangana suffering mental disorder \n",
      "실제 요약 : hrithik was post brain surgery says\n",
      "예측 요약 :  kangana denies kangana ranaut for manikarnika\n",
      "\n",
      "\n",
      "원문 : president japan olympic committee formal investigation french prosecutors suspected corruption related japan successful bid host olympic games earlier said actions bribery taken place connection tokyo olympic games bid french authorities \n",
      "실제 요약 : head of japan olympic committee under investigation\n",
      "예측 요약 :  uk president bill to legalise\n",
      "\n",
      "\n",
      "원문 : government aims double farmers income end divide rich poor said pm narendra modi today added government new india takes full care sick poor children youth farmers meanwhile claimed people crocodile tears farmers today \n",
      "실제 요약 : pm modi promises to double farmers income by\n",
      "예측 요약 :  pm modi announces for gst\n",
      "\n",
      "\n",
      "원문 : first transgender woman contest upcoming telangana assembly elections kidnapped went underground police said even wore mask face could recognised police added hyderabad high court asked hills police produce court thursday morning \n",
      "실제 요약 : transgender candidate not abducted underground police\n",
      "예측 요약 :  students in telangana elections after elections\n",
      "\n",
      "\n",
      "원문 : maldives rejected reports allow permanent deployment indian troops country return financial aid reports stated india offered maldives aid billion exchange stronger security ties island nation aid would help maldives repay debt china reports claimed \n",
      "실제 요약 : maldives rejects reports of of indian troops\n",
      "예측 요약 :  india to get pakistan for pakistan\n",
      "\n",
      "\n"
     ]
    }
   ],
   "source": [
    "for i in range(50, 100):\n",
    "    print(\"원문 :\", seq2text(encoder_input_test[i]))\n",
    "    print(\"실제 요약 :\", seq2summary(decoder_input_test[i]))\n",
    "    print(\"예측 요약 :\", decode_sequence(encoder_input_test[i].reshape(1, text_max_len)))\n",
    "    print(\"\\n\")"
   ]
  },
  {
   "cell_type": "markdown",
   "id": "f980658b",
   "metadata": {},
   "source": [
    "### 잘 나왔다고 생각하는 부분"
   ]
  },
  {
   "cell_type": "markdown",
   "id": "f4cbfbd4",
   "metadata": {},
   "source": [
    "- 원문 : fire broke factory noida sector burst wednesday fire spread quickly due wind presence materials including officials said workers inside factory fire started one hurt \n",
    "- 실제 요약 : fire breaks out at factory in noida\n",
    "- 예측 요약 :  injured in fire at fire"
   ]
  },
  {
   "cell_type": "markdown",
   "id": "824b9cac",
   "metadata": {},
   "source": [
    "-  : 화재가 발생한 공장 노이다 부문이 수요일 화재가 빠르게 확산되었습니다. 이는 공장 화재 내부의 근로자들이 한 명의 부상을 입었다고 관계자들을 포함한 바람 존재 물질로 인해 발생했습니다\n",
    "- 실제 요약 : 노이다 공장에서 화재 발생\n",
    "- 예측 요약 : 화재로 부상당함"
   ]
  },
  {
   "cell_type": "markdown",
   "id": "0e8d268b",
   "metadata": {},
   "source": [
    "- 원문 : international credit rating agency standard poor friday kept india sovereign rating unchanged lowest investment grade rating bonds retained outlook india rating stable agency lauded government fiscal drive said reforms undertaken economy \n",
    "- 실제 요약 : keeps india rating at\n",
    "- 예측 요약 :  india gdp growth to india"
   ]
  },
  {
   "cell_type": "markdown",
   "id": "b5abd987",
   "metadata": {},
   "source": [
    "- 원문 : 국제 신용 평가 기관의 표준 부진한 금요일 인도 국가 신용 등급은 변경되지 않았으며 최저 투자 등급 채권은 전망 유지 인도 신용 등급 안정 기관은 정부 재정 추진에 찬사를 보냈습니다. 개혁이 진행된 경제에 영향을 미쳤다고 말했습니다\n",
    "- 실제 요약 : 인도 등급 유지\n",
    "- 예측 요약 : 인도 GDP 성장률"
   ]
  },
  {
   "cell_type": "markdown",
   "id": "7c5f3438",
   "metadata": {},
   "source": [
    "- 원문 : former rashtriya janata dal mp mohammad acquitted jamshedpur court triple murder case took place february notably three eight accused died trial linked criminal cases currently lodged delhi high security tihar jail \n",
    "- 실제 요약 : leader acquitted in triple murder case\n",
    "- 예측 요약 :  former leader arrested in case"
   ]
  },
  {
   "cell_type": "markdown",
   "id": "ecc26658",
   "metadata": {},
   "source": [
    "- 원문 : 전 라슈트리야 자나타 달 의원 모하마드 무죄 판결을 받은 잠셰드푸르 법원 삼중 살인 사건이 2월에 발생했으며, 특히 현재 델리 고등 보안 티하르 감옥에 수감 중인 8건의 피고인 사망 재판 관련 형사 사건이 3건 발생했습니다\n",
    "- 실제 요약 : 세 건의 살인 사건에서 무죄 판결을 받은 지도자\n",
    "- 예측 요약 : 전 지도자 체포 사건"
   ]
  }
 ],
 "metadata": {
  "kernelspec": {
   "display_name": "Python 3 (ipykernel)",
   "language": "python",
   "name": "python3"
  },
  "language_info": {
   "codemirror_mode": {
    "name": "ipython",
    "version": 3
   },
   "file_extension": ".py",
   "mimetype": "text/x-python",
   "name": "python",
   "nbconvert_exporter": "python",
   "pygments_lexer": "ipython3",
   "version": "3.9.7"
  }
 },
 "nbformat": 4,
 "nbformat_minor": 5
}
