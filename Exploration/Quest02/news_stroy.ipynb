{
 "cells": [
  {
   "cell_type": "markdown",
   "id": "698f2217",
   "metadata": {},
   "source": [
    "## 회고\n",
    "- 디코더 인코더 부분을 좀 더 공부해보고 전처리 역시 내가 직접 코드 하나씩 넣어서 해봐야겠다는 생각이 들었다."
   ]
  },
  {
   "cell_type": "markdown",
   "id": "5afa8b3d",
   "metadata": {},
   "source": [
    "임포트"
   ]
  },
  {
   "cell_type": "code",
   "execution_count": 5,
   "id": "c164a388",
   "metadata": {},
   "outputs": [
    {
     "name": "stdout",
     "output_type": "stream",
     "text": [
      "3.6.5\n",
      "2.6.0\n",
      "1.3.3\n",
      "1.2.0\n"
     ]
    },
    {
     "name": "stderr",
     "output_type": "stream",
     "text": [
      "[nltk_data] Downloading package stopwords to /aiffel/nltk_data...\n",
      "[nltk_data]   Package stopwords is already up-to-date!\n",
      "[nltk_data] Downloading package wordnet to /aiffel/nltk_data...\n",
      "[nltk_data]   Package wordnet is already up-to-date!\n",
      "[nltk_data] Downloading package omw-1.4 to /aiffel/nltk_data...\n",
      "[nltk_data]   Package omw-1.4 is already up-to-date!\n",
      "[nltk_data] Downloading package stopwords to /aiffel/nltk_data...\n",
      "[nltk_data]   Package stopwords is already up-to-date!\n"
     ]
    }
   ],
   "source": [
    "import nltk\n",
    "nltk.download('stopwords')\n",
    "nltk.download('wordnet')    # WordNet 데이터 다운로드\n",
    "nltk.download('omw-1.4')    # WordNet의 다국어 지원 데이터 다운로드\n",
    "\n",
    "import numpy as np\n",
    "import pandas as pd\n",
    "import os\n",
    "import re\n",
    "import matplotlib.pyplot as plt\n",
    "from nltk.corpus import stopwords\n",
    "from bs4 import BeautifulSoup \n",
    "from tensorflow.keras.preprocessing.text import Tokenizer \n",
    "from tensorflow.keras.preprocessing.sequence import pad_sequences\n",
    "import urllib.request\n",
    "import warnings\n",
    "warnings.filterwarnings(\"ignore\", category=UserWarning, module='bs4')\n",
    "\n",
    "from importlib.metadata import version\n",
    "import tensorflow\n",
    "import summa\n",
    "\n",
    "nltk.download('stopwords')\n",
    "\n",
    "print(nltk.__version__)\n",
    "print(tensorflow.__version__)\n",
    "print(pd.__version__)\n",
    "print(version('summa'))"
   ]
  },
  {
   "cell_type": "code",
   "execution_count": 6,
   "id": "fd85ee7d",
   "metadata": {},
   "outputs": [
    {
     "name": "stdout",
     "output_type": "stream",
     "text": [
      "                                           headlines  \\\n",
      "0  upGrad learner switches to career in ML & Al w...   \n",
      "1  Delhi techie wins free food from Swiggy for on...   \n",
      "2  New Zealand end Rohit Sharma-led India's 12-ma...   \n",
      "3  Aegon life iTerm insurance plan helps customer...   \n",
      "4  Have known Hirani for yrs, what if MeToo claim...   \n",
      "\n",
      "                                                text  \n",
      "0  Saurav Kant, an alumnus of upGrad and IIIT-B's...  \n",
      "1  Kunal Shah's credit card bill payment platform...  \n",
      "2  New Zealand defeated India by 8 wickets in the...  \n",
      "3  With Aegon Life iTerm Insurance plan, customer...  \n",
      "4  Speaking about the sexual harassment allegatio...  \n"
     ]
    }
   ],
   "source": [
    "# 데이터셋 다운로드\n",
    "url = \"https://raw.githubusercontent.com/sunnysai12345/News_Summary/master/news_summary_more.csv\"\n",
    "filename = \"news_summary_more.csv\"\n",
    "urllib.request.urlretrieve(url, filename)\n",
    "\n",
    "# 데이터셋 로드\n",
    "data = pd.read_csv(filename, encoding='iso-8859-1')\n",
    "print(data.head())"
   ]
  },
  {
   "cell_type": "code",
   "execution_count": 7,
   "id": "e607e8eb",
   "metadata": {},
   "outputs": [
    {
     "name": "stdout",
     "output_type": "stream",
     "text": [
      "전체 샘플수 : 98401\n"
     ]
    }
   ],
   "source": [
    "print('전체 샘플수 :', (len(data)))"
   ]
  },
  {
   "cell_type": "markdown",
   "id": "61ed3a7d",
   "metadata": {},
   "source": [
    "칼럼이 headlines과 text로 구성"
   ]
  },
  {
   "cell_type": "code",
   "execution_count": 8,
   "id": "0525cc10",
   "metadata": {},
   "outputs": [
    {
     "data": {
      "text/html": [
       "<div>\n",
       "<style scoped>\n",
       "    .dataframe tbody tr th:only-of-type {\n",
       "        vertical-align: middle;\n",
       "    }\n",
       "\n",
       "    .dataframe tbody tr th {\n",
       "        vertical-align: top;\n",
       "    }\n",
       "\n",
       "    .dataframe thead th {\n",
       "        text-align: right;\n",
       "    }\n",
       "</style>\n",
       "<table border=\"1\" class=\"dataframe\">\n",
       "  <thead>\n",
       "    <tr style=\"text-align: right;\">\n",
       "      <th></th>\n",
       "      <th>headlines</th>\n",
       "      <th>text</th>\n",
       "    </tr>\n",
       "  </thead>\n",
       "  <tbody>\n",
       "    <tr>\n",
       "      <th>89476</th>\n",
       "      <td>Elon Musk names his tunnel startup's boring ma...</td>\n",
       "      <td>Elon Musk on Thursday took to Twitter to annou...</td>\n",
       "    </tr>\n",
       "    <tr>\n",
       "      <th>98010</th>\n",
       "      <td>I used to think I was a ragpicker as a child: ...</td>\n",
       "      <td>Anushka Sharma has said that as a child, she u...</td>\n",
       "    </tr>\n",
       "    <tr>\n",
       "      <th>34389</th>\n",
       "      <td>Indian agencies seek ban on Bitcoin trading: R...</td>\n",
       "      <td>The Enforcement Directorate and the Central Bo...</td>\n",
       "    </tr>\n",
       "    <tr>\n",
       "      <th>58997</th>\n",
       "      <td>I'll start laughing if I do romantic scenes li...</td>\n",
       "      <td>Comedian Kapil Sharma has said that he will st...</td>\n",
       "    </tr>\n",
       "    <tr>\n",
       "      <th>88504</th>\n",
       "      <td>Supreme Court reserves order in triple talaq case</td>\n",
       "      <td>Hearing the pleas challenging the constitution...</td>\n",
       "    </tr>\n",
       "    <tr>\n",
       "      <th>75002</th>\n",
       "      <td>Saudi Crown Prince 'wants out' of Yemen war: R...</td>\n",
       "      <td>Saudi Arabia's Crown Prince Mohammed bin Salma...</td>\n",
       "    </tr>\n",
       "    <tr>\n",
       "      <th>46198</th>\n",
       "      <td>School girl kills self after alleged molestati...</td>\n",
       "      <td>A Class 7 girl in Uttar Pradesh's Varanasi com...</td>\n",
       "    </tr>\n",
       "    <tr>\n",
       "      <th>12711</th>\n",
       "      <td>Protesters clash with police at Amritsar train...</td>\n",
       "      <td>A video showing protesters clash with policeme...</td>\n",
       "    </tr>\n",
       "    <tr>\n",
       "      <th>77024</th>\n",
       "      <td>Bolt wins 100m heats, describes performance as...</td>\n",
       "      <td>Eight-time Olympic gold winner Usain Bolt, who...</td>\n",
       "    </tr>\n",
       "    <tr>\n",
       "      <th>14264</th>\n",
       "      <td>Leader who offered Ã¢ÂÂ¹10cr for Deepika's he...</td>\n",
       "      <td>BJP leader Suraj Pal Amu has claimed that Hary...</td>\n",
       "    </tr>\n",
       "    <tr>\n",
       "      <th>93599</th>\n",
       "      <td>Sushil, Geeta Phogat excluded from govt fundin...</td>\n",
       "      <td>Wrestlers Sushil Kumar, Yogeshwar Dutt, Geeta ...</td>\n",
       "    </tr>\n",
       "    <tr>\n",
       "      <th>25739</th>\n",
       "      <td>ICICI Bank postpones AGM by a month amid Chand...</td>\n",
       "      <td>ICICI Bank has decided to postpone its Annual ...</td>\n",
       "    </tr>\n",
       "    <tr>\n",
       "      <th>34940</th>\n",
       "      <td>BJP leader calls DMK chief's daughter 'illegit...</td>\n",
       "      <td>In an apparent reference to DMK chief Karunani...</td>\n",
       "    </tr>\n",
       "    <tr>\n",
       "      <th>88466</th>\n",
       "      <td>Bhuvneshwar Kumar shares cropped picture from ...</td>\n",
       "      <td>Indian pacer Bhuvneshwar Kumar recently shared...</td>\n",
       "    </tr>\n",
       "    <tr>\n",
       "      <th>21765</th>\n",
       "      <td>Rahul Gandhi winks again at rally in Rajasthan</td>\n",
       "      <td>After addressing a rally in Rajasthan's Jaipur...</td>\n",
       "    </tr>\n",
       "  </tbody>\n",
       "</table>\n",
       "</div>"
      ],
      "text/plain": [
       "                                               headlines  \\\n",
       "89476  Elon Musk names his tunnel startup's boring ma...   \n",
       "98010  I used to think I was a ragpicker as a child: ...   \n",
       "34389  Indian agencies seek ban on Bitcoin trading: R...   \n",
       "58997  I'll start laughing if I do romantic scenes li...   \n",
       "88504  Supreme Court reserves order in triple talaq case   \n",
       "75002  Saudi Crown Prince 'wants out' of Yemen war: R...   \n",
       "46198  School girl kills self after alleged molestati...   \n",
       "12711  Protesters clash with police at Amritsar train...   \n",
       "77024  Bolt wins 100m heats, describes performance as...   \n",
       "14264  Leader who offered Ã¢ÂÂ¹10cr for Deepika's he...   \n",
       "93599  Sushil, Geeta Phogat excluded from govt fundin...   \n",
       "25739  ICICI Bank postpones AGM by a month amid Chand...   \n",
       "34940  BJP leader calls DMK chief's daughter 'illegit...   \n",
       "88466  Bhuvneshwar Kumar shares cropped picture from ...   \n",
       "21765     Rahul Gandhi winks again at rally in Rajasthan   \n",
       "\n",
       "                                                    text  \n",
       "89476  Elon Musk on Thursday took to Twitter to annou...  \n",
       "98010  Anushka Sharma has said that as a child, she u...  \n",
       "34389  The Enforcement Directorate and the Central Bo...  \n",
       "58997  Comedian Kapil Sharma has said that he will st...  \n",
       "88504  Hearing the pleas challenging the constitution...  \n",
       "75002  Saudi Arabia's Crown Prince Mohammed bin Salma...  \n",
       "46198  A Class 7 girl in Uttar Pradesh's Varanasi com...  \n",
       "12711  A video showing protesters clash with policeme...  \n",
       "77024  Eight-time Olympic gold winner Usain Bolt, who...  \n",
       "14264  BJP leader Suraj Pal Amu has claimed that Hary...  \n",
       "93599  Wrestlers Sushil Kumar, Yogeshwar Dutt, Geeta ...  \n",
       "25739  ICICI Bank has decided to postpone its Annual ...  \n",
       "34940  In an apparent reference to DMK chief Karunani...  \n",
       "88466  Indian pacer Bhuvneshwar Kumar recently shared...  \n",
       "21765  After addressing a rally in Rajasthan's Jaipur...  "
      ]
     },
     "execution_count": 8,
     "metadata": {},
     "output_type": "execute_result"
    }
   ],
   "source": [
    "data.sample(15)"
   ]
  },
  {
   "cell_type": "code",
   "execution_count": 9,
   "id": "008dcf92",
   "metadata": {},
   "outputs": [
    {
     "data": {
      "text/html": [
       "<div>\n",
       "<style scoped>\n",
       "    .dataframe tbody tr th:only-of-type {\n",
       "        vertical-align: middle;\n",
       "    }\n",
       "\n",
       "    .dataframe tbody tr th {\n",
       "        vertical-align: top;\n",
       "    }\n",
       "\n",
       "    .dataframe thead th {\n",
       "        text-align: right;\n",
       "    }\n",
       "</style>\n",
       "<table border=\"1\" class=\"dataframe\">\n",
       "  <thead>\n",
       "    <tr style=\"text-align: right;\">\n",
       "      <th></th>\n",
       "      <th>headlines</th>\n",
       "      <th>text</th>\n",
       "    </tr>\n",
       "  </thead>\n",
       "  <tbody>\n",
       "    <tr>\n",
       "      <th>0</th>\n",
       "      <td>upGrad learner switches to career in ML &amp; Al w...</td>\n",
       "      <td>Saurav Kant, an alumnus of upGrad and IIIT-B's...</td>\n",
       "    </tr>\n",
       "    <tr>\n",
       "      <th>1</th>\n",
       "      <td>Delhi techie wins free food from Swiggy for on...</td>\n",
       "      <td>Kunal Shah's credit card bill payment platform...</td>\n",
       "    </tr>\n",
       "    <tr>\n",
       "      <th>2</th>\n",
       "      <td>New Zealand end Rohit Sharma-led India's 12-ma...</td>\n",
       "      <td>New Zealand defeated India by 8 wickets in the...</td>\n",
       "    </tr>\n",
       "    <tr>\n",
       "      <th>3</th>\n",
       "      <td>Aegon life iTerm insurance plan helps customer...</td>\n",
       "      <td>With Aegon Life iTerm Insurance plan, customer...</td>\n",
       "    </tr>\n",
       "    <tr>\n",
       "      <th>4</th>\n",
       "      <td>Have known Hirani for yrs, what if MeToo claim...</td>\n",
       "      <td>Speaking about the sexual harassment allegatio...</td>\n",
       "    </tr>\n",
       "  </tbody>\n",
       "</table>\n",
       "</div>"
      ],
      "text/plain": [
       "                                           headlines  \\\n",
       "0  upGrad learner switches to career in ML & Al w...   \n",
       "1  Delhi techie wins free food from Swiggy for on...   \n",
       "2  New Zealand end Rohit Sharma-led India's 12-ma...   \n",
       "3  Aegon life iTerm insurance plan helps customer...   \n",
       "4  Have known Hirani for yrs, what if MeToo claim...   \n",
       "\n",
       "                                                text  \n",
       "0  Saurav Kant, an alumnus of upGrad and IIIT-B's...  \n",
       "1  Kunal Shah's credit card bill payment platform...  \n",
       "2  New Zealand defeated India by 8 wickets in the...  \n",
       "3  With Aegon Life iTerm Insurance plan, customer...  \n",
       "4  Speaking about the sexual harassment allegatio...  "
      ]
     },
     "execution_count": 9,
     "metadata": {},
     "output_type": "execute_result"
    }
   ],
   "source": [
    "data = data[['headlines', 'text']]\n",
    "data.head()"
   ]
  },
  {
   "cell_type": "markdown",
   "id": "e292a946",
   "metadata": {},
   "source": [
    "## 데이터 전처리하기(데이터 정리)"
   ]
  },
  {
   "cell_type": "markdown",
   "id": "2d8f8d9f",
   "metadata": {},
   "source": [
    "데이터의 중복 샘플 유무를 확인"
   ]
  },
  {
   "cell_type": "code",
   "execution_count": 10,
   "id": "37908324",
   "metadata": {},
   "outputs": [
    {
     "name": "stdout",
     "output_type": "stream",
     "text": [
      "headlines 열에서 중복을 배제한 유일한 샘플의 수 : 98280\n",
      "text 열에서 중복을 배제한 유일한 샘플의 수 : 98360\n"
     ]
    }
   ],
   "source": [
    "print('headlines 열에서 중복을 배제한 유일한 샘플의 수 :', data['headlines'].nunique())\n",
    "print('text 열에서 중복을 배제한 유일한 샘플의 수 :', data['text'].nunique())"
   ]
  },
  {
   "cell_type": "markdown",
   "id": "6c25c1fd",
   "metadata": {},
   "source": [
    "중복 샘플을 제거"
   ]
  },
  {
   "cell_type": "code",
   "execution_count": 11,
   "id": "d49d2b13",
   "metadata": {},
   "outputs": [
    {
     "name": "stdout",
     "output_type": "stream",
     "text": [
      "전체 샘플수 : 98360\n"
     ]
    }
   ],
   "source": [
    "data.drop_duplicates(subset = ['text'], inplace=True)\n",
    "print('전체 샘플수 :', (len(data)))"
   ]
  },
  {
   "cell_type": "markdown",
   "id": "612a0958",
   "metadata": {},
   "source": [
    " Null 값이 있는지 확인"
   ]
  },
  {
   "cell_type": "code",
   "execution_count": 12,
   "id": "a9080f8d",
   "metadata": {},
   "outputs": [
    {
     "name": "stdout",
     "output_type": "stream",
     "text": [
      "headlines    0\n",
      "text         0\n",
      "dtype: int64\n"
     ]
    }
   ],
   "source": [
    "print(data.isnull().sum())"
   ]
  },
  {
   "cell_type": "markdown",
   "id": "6572d10f",
   "metadata": {},
   "source": [
    "텍스트 정규화"
   ]
  },
  {
   "cell_type": "code",
   "execution_count": 14,
   "id": "0c0498c8",
   "metadata": {},
   "outputs": [
    {
     "name": "stdout",
     "output_type": "stream",
     "text": [
      "정규화 사전의 수:  120\n"
     ]
    }
   ],
   "source": [
    "contractions = {\"ain't\": \"is not\", \"aren't\": \"are not\",\"can't\": \"cannot\", \"'cause\": \"because\", \"could've\": \"could have\", \"couldn't\": \"could not\",\n",
    "                           \"didn't\": \"did not\",  \"doesn't\": \"does not\", \"don't\": \"do not\", \"hadn't\": \"had not\", \"hasn't\": \"has not\", \"haven't\": \"have not\",\n",
    "                           \"he'd\": \"he would\",\"he'll\": \"he will\", \"he's\": \"he is\", \"how'd\": \"how did\", \"how'd'y\": \"how do you\", \"how'll\": \"how will\", \"how's\": \"how is\",\n",
    "                           \"I'd\": \"I would\", \"I'd've\": \"I would have\", \"I'll\": \"I will\", \"I'll've\": \"I will have\",\"I'm\": \"I am\", \"I've\": \"I have\", \"i'd\": \"i would\",\n",
    "                           \"i'd've\": \"i would have\", \"i'll\": \"i will\",  \"i'll've\": \"i will have\",\"i'm\": \"i am\", \"i've\": \"i have\", \"isn't\": \"is not\", \"it'd\": \"it would\",\n",
    "                           \"it'd've\": \"it would have\", \"it'll\": \"it will\", \"it'll've\": \"it will have\",\"it's\": \"it is\", \"let's\": \"let us\", \"ma'am\": \"madam\",\n",
    "                           \"mayn't\": \"may not\", \"might've\": \"might have\",\"mightn't\": \"might not\",\"mightn't've\": \"might not have\", \"must've\": \"must have\",\n",
    "                           \"mustn't\": \"must not\", \"mustn't've\": \"must not have\", \"needn't\": \"need not\", \"needn't've\": \"need not have\",\"o'clock\": \"of the clock\",\n",
    "                           \"oughtn't\": \"ought not\", \"oughtn't've\": \"ought not have\", \"shan't\": \"shall not\", \"sha'n't\": \"shall not\", \"shan't've\": \"shall not have\",\n",
    "                           \"she'd\": \"she would\", \"she'd've\": \"she would have\", \"she'll\": \"she will\", \"she'll've\": \"she will have\", \"she's\": \"she is\",\n",
    "                           \"should've\": \"should have\", \"shouldn't\": \"should not\", \"shouldn't've\": \"should not have\", \"so've\": \"so have\",\"so's\": \"so as\",\n",
    "                           \"this's\": \"this is\",\"that'd\": \"that would\", \"that'd've\": \"that would have\", \"that's\": \"that is\", \"there'd\": \"there would\",\n",
    "                           \"there'd've\": \"there would have\", \"there's\": \"there is\", \"here's\": \"here is\",\"they'd\": \"they would\", \"they'd've\": \"they would have\",\n",
    "                           \"they'll\": \"they will\", \"they'll've\": \"they will have\", \"they're\": \"they are\", \"they've\": \"they have\", \"to've\": \"to have\",\n",
    "                           \"wasn't\": \"was not\", \"we'd\": \"we would\", \"we'd've\": \"we would have\", \"we'll\": \"we will\", \"we'll've\": \"we will have\", \"we're\": \"we are\",\n",
    "                           \"we've\": \"we have\", \"weren't\": \"were not\", \"what'll\": \"what will\", \"what'll've\": \"what will have\", \"what're\": \"what are\",\n",
    "                           \"what's\": \"what is\", \"what've\": \"what have\", \"when's\": \"when is\", \"when've\": \"when have\", \"where'd\": \"where did\", \"where's\": \"where is\",\n",
    "                           \"where've\": \"where have\", \"who'll\": \"who will\", \"who'll've\": \"who will have\", \"who's\": \"who is\", \"who've\": \"who have\",\n",
    "                           \"why's\": \"why is\", \"why've\": \"why have\", \"will've\": \"will have\", \"won't\": \"will not\", \"won't've\": \"will not have\",\n",
    "                           \"would've\": \"would have\", \"wouldn't\": \"would not\", \"wouldn't've\": \"would not have\", \"y'all\": \"you all\",\n",
    "                           \"y'all'd\": \"you all would\",\"y'all'd've\": \"you all would have\",\"y'all're\": \"you all are\",\"y'all've\": \"you all have\",\n",
    "                           \"you'd\": \"you would\", \"you'd've\": \"you would have\", \"you'll\": \"you will\", \"you'll've\": \"you will have\",\n",
    "                           \"you're\": \"you are\", \"you've\": \"you have\"}\n",
    "\n",
    "print(\"정규화 사전의 수: \", len(contractions))"
   ]
  },
  {
   "cell_type": "markdown",
   "id": "abe375cc",
   "metadata": {},
   "source": [
    "불용어는 총 198개"
   ]
  },
  {
   "cell_type": "code",
   "execution_count": 15,
   "id": "2f37ffc3",
   "metadata": {},
   "outputs": [
    {
     "name": "stdout",
     "output_type": "stream",
     "text": [
      "불용어 개수 : 198\n",
      "['a', 'about', 'above', 'after', 'again', 'against', 'ain', 'all', 'am', 'an', 'and', 'any', 'are', 'aren', \"aren't\", 'as', 'at', 'be', 'because', 'been', 'before', 'being', 'below', 'between', 'both', 'but', 'by', 'can', 'couldn', \"couldn't\", 'd', 'did', 'didn', \"didn't\", 'do', 'does', 'doesn', \"doesn't\", 'doing', 'don', \"don't\", 'down', 'during', 'each', 'few', 'for', 'from', 'further', 'had', 'hadn', \"hadn't\", 'has', 'hasn', \"hasn't\", 'have', 'haven', \"haven't\", 'having', 'he', \"he'd\", \"he'll\", 'her', 'here', 'hers', 'herself', \"he's\", 'him', 'himself', 'his', 'how', 'i', \"i'd\", 'if', \"i'll\", \"i'm\", 'in', 'into', 'is', 'isn', \"isn't\", 'it', \"it'd\", \"it'll\", \"it's\", 'its', 'itself', \"i've\", 'just', 'll', 'm', 'ma', 'me', 'mightn', \"mightn't\", 'more', 'most', 'mustn', \"mustn't\", 'my', 'myself', 'needn', \"needn't\", 'no', 'nor', 'not', 'now', 'o', 'of', 'off', 'on', 'once', 'only', 'or', 'other', 'our', 'ours', 'ourselves', 'out', 'over', 'own', 're', 's', 'same', 'shan', \"shan't\", 'she', \"she'd\", \"she'll\", \"she's\", 'should', 'shouldn', \"shouldn't\", \"should've\", 'so', 'some', 'such', 't', 'than', 'that', \"that'll\", 'the', 'their', 'theirs', 'them', 'themselves', 'then', 'there', 'these', 'they', \"they'd\", \"they'll\", \"they're\", \"they've\", 'this', 'those', 'through', 'to', 'too', 'under', 'until', 'up', 've', 'very', 'was', 'wasn', \"wasn't\", 'we', \"we'd\", \"we'll\", \"we're\", 'were', 'weren', \"weren't\", \"we've\", 'what', 'when', 'where', 'which', 'while', 'who', 'whom', 'why', 'will', 'with', 'won', \"won't\", 'wouldn', \"wouldn't\", 'y', 'you', \"you'd\", \"you'll\", 'your', \"you're\", 'yours', 'yourself', 'yourselves', \"you've\"]\n"
     ]
    }
   ],
   "source": [
    "print('불용어 개수 :', len(stopwords.words('english') ))\n",
    "print(stopwords.words('english'))"
   ]
  },
  {
   "cell_type": "code",
   "execution_count": 16,
   "id": "9bdc1ed0",
   "metadata": {},
   "outputs": [],
   "source": [
    "# 데이터 전처리 함수\n",
    "def preprocess_sentence(sentence, remove_stopwords=True):\n",
    "    sentence = sentence.lower() # 텍스트 소문자화\n",
    "    sentence = BeautifulSoup(sentence, \"lxml\").text # <br />, <a href = ...> 등의 html 태그 제거\n",
    "    sentence = re.sub(r'\\([^)]*\\)', '', sentence) # 괄호로 닫힌 문자열 (...) 제거 Ex) my husband (and myself!) for => my husband for\n",
    "    sentence = re.sub('\"','', sentence) # 쌍따옴표 \" 제거\n",
    "    sentence = ' '.join([contractions[t] if t in contractions else t for t in sentence.split(\" \")]) # 약어 정규화\n",
    "    sentence = re.sub(r\"'s\\b\",\"\", sentence) # 소유격 제거. Ex) roland's -> roland\n",
    "    sentence = re.sub(\"[^a-zA-Z]\", \" \", sentence) # 영어 외 문자(숫자, 특수문자 등) 공백으로 변환\n",
    "    sentence = re.sub('[m]{2,}', 'mm', sentence) # m이 3개 이상이면 2개로 변경. Ex) ummmmmmm yeah -> umm yeah\n",
    "    \n",
    "    # 불용어 제거 (text)\n",
    "    if remove_stopwords:\n",
    "        tokens = ' '.join(word for word in sentence.split() if not word in stopwords.words('english') if len(word) > 1)\n",
    "    # 불용어 미제거 (headlines)\n",
    "    else:\n",
    "        tokens = ' '.join(word for word in sentence.split() if len(word) > 1)\n",
    "    return tokens"
   ]
  },
  {
   "cell_type": "code",
   "execution_count": 17,
   "id": "9e9ad351",
   "metadata": {},
   "outputs": [
    {
     "name": "stdout",
     "output_type": "stream",
     "text": [
      "Text 전처리 후 결과:  ['saurav kant alumnus upgrad iiit pg program machine learning artificial intelligence sr systems engineer infosys almost years work experience program upgrad degree career support helped transition data scientist tech mahindra salary hike upgrad online power learning powered lakh careers', 'kunal shah credit card bill payment platform cred gave users chance win free food swiggy one year pranav kaushik delhi techie bagged reward spending cred coins users get one cred coin per rupee bill paid used avail rewards brands like ixigo bookmyshow ubereats cult fit', 'new zealand defeated india wickets fourth odi hamilton thursday win first match five match odi series india lost international match rohit sharma captaincy consecutive victories dating back march match witnessed india getting seventh lowest total odi cricket history', 'aegon life iterm insurance plan customers enjoy tax benefits premiums paid save taxes plan provides life cover age years also customers options insure critical illnesses disability accidental death benefit rider life cover age years', 'speaking sexual harassment allegations rajkumar hirani sonam kapoor said known hirani many years true metoo movement get derailed metoo movement always believe woman case need reserve judgment added hirani accused assistant worked sanju']\n"
     ]
    }
   ],
   "source": [
    "# 전체 text 데이터에 대한 전처리 : 10분 이상 시간이 걸릴 수 있습니다. \n",
    "\n",
    "clean_text = list(data['text'].map(lambda sentence: preprocess_sentence(sentence, remove_stopwords=True)))\n",
    "\n",
    "# 전처리 후 출력\n",
    "print(\"Text 전처리 후 결과: \", clean_text[:5])"
   ]
  },
  {
   "cell_type": "code",
   "execution_count": 18,
   "id": "40e59a40",
   "metadata": {},
   "outputs": [
    {
     "name": "stdout",
     "output_type": "stream",
     "text": [
      "headlines 전처리 후 결과:  ['upgrad learner switches to career in ml al with salary hike', 'delhi techie wins free food from swiggy for one year on cred', 'new zealand end rohit sharma led india match winning streak', 'aegon life iterm insurance plan helps customers save tax', 'have known hirani for yrs what if metoo claims are not true sonam']\n"
     ]
    }
   ],
   "source": [
    "# 전체 headlines 데이터에 대한 전처리 : 5분 이상 시간이 걸릴 수 있습니다. \n",
    "clean_headlines = list(data['headlines'].map(lambda sentence: preprocess_sentence(sentence, remove_stopwords=False)))\n",
    "\n",
    "print(\"headlines 전처리 후 결과: \", clean_headlines[:5])"
   ]
  },
  {
   "cell_type": "code",
   "execution_count": 19,
   "id": "9d213093",
   "metadata": {},
   "outputs": [],
   "source": [
    "data['text'] = clean_text\n",
    "data['headlines'] = clean_headlines\n",
    "\n",
    "# 빈 값을 Null 값으로 변환\n",
    "data.replace('', np.nan, inplace=True)"
   ]
  },
  {
   "cell_type": "code",
   "execution_count": 20,
   "id": "49eed426",
   "metadata": {},
   "outputs": [
    {
     "data": {
      "text/plain": [
       "headlines    0\n",
       "text         0\n",
       "dtype: int64"
      ]
     },
     "execution_count": 20,
     "metadata": {},
     "output_type": "execute_result"
    }
   ],
   "source": [
    "data.isnull().sum()"
   ]
  },
  {
   "cell_type": "code",
   "execution_count": 21,
   "id": "22e32636",
   "metadata": {},
   "outputs": [
    {
     "name": "stdout",
     "output_type": "stream",
     "text": [
      "전체 샘플수 : 98360\n"
     ]
    }
   ],
   "source": [
    "data.dropna(axis=0, inplace=True)\n",
    "print('전체 샘플수 :', (len(data)))"
   ]
  },
  {
   "cell_type": "markdown",
   "id": "e81b4ca0",
   "metadata": {},
   "source": [
    "text와 headlines의 최소, 최대, 평균 길이를 구하고 또한 길이 분포를 시각화"
   ]
  },
  {
   "cell_type": "code",
   "execution_count": 22,
   "id": "2e4cfaf8",
   "metadata": {},
   "outputs": [
    {
     "name": "stdout",
     "output_type": "stream",
     "text": [
      "텍스트의 최소 길이 : 1\n",
      "텍스트의 최대 길이 : 60\n",
      "텍스트의 평균 길이 : 35.09968483123221\n",
      "요약의 최소 길이 : 1\n",
      "요약의 최대 길이 : 16\n",
      "요약의 평균 길이 : 9.299532330215534\n"
     ]
    },
    {
     "data": {
      "image/png": "[encoded data removed]",
      "text/plain": [
       "<Figure size 432x288 with 2 Axes>"
      ]
     },
     "metadata": {
      "needs_background": "light"
     },
     "output_type": "display_data"
    },
    {
     "data": {
      "image/png": "[encoded data removed]",
      "text/plain": [
       "<Figure size 432x288 with 1 Axes>"
      ]
     },
     "metadata": {
      "needs_background": "light"
     },
     "output_type": "display_data"
    },
    {
     "data": {
      "image/png": "[encoded data removed]",
      "text/plain": [
       "<Figure size 432x288 with 1 Axes>"
      ]
     },
     "metadata": {
      "needs_background": "light"
     },
     "output_type": "display_data"
    }
   ],
   "source": [
    "# 길이 분포 출력\n",
    "import matplotlib.pyplot as plt\n",
    "\n",
    "text_len = [len(s.split()) for s in data['text']]\n",
    "headlines_len = [len(s.split()) for s in data['headlines']]\n",
    "\n",
    "print('텍스트의 최소 길이 : {}'.format(np.min(text_len)))\n",
    "print('텍스트의 최대 길이 : {}'.format(np.max(text_len)))\n",
    "print('텍스트의 평균 길이 : {}'.format(np.mean(text_len)))\n",
    "print('요약의 최소 길이 : {}'.format(np.min(headlines_len)))\n",
    "print('요약의 최대 길이 : {}'.format(np.max(headlines_len)))\n",
    "print('요약의 평균 길이 : {}'.format(np.mean(headlines_len)))\n",
    "\n",
    "plt.subplot(1,2,1)\n",
    "plt.boxplot(text_len)\n",
    "plt.title('text')\n",
    "plt.subplot(1,2,2)\n",
    "plt.boxplot(headlines_len)\n",
    "plt.title('headlines')\n",
    "plt.tight_layout()\n",
    "plt.show()\n",
    "\n",
    "plt.title('text')\n",
    "plt.hist(text_len, bins = 40)\n",
    "plt.xlabel('length of samples')\n",
    "plt.ylabel('number of samples')\n",
    "plt.show()\n",
    "\n",
    "plt.title('headlines')\n",
    "plt.hist(headlines_len, bins = 40)\n",
    "plt.xlabel('length of samples')\n",
    "plt.ylabel('number of samples')\n",
    "plt.show()"
   ]
  },
  {
   "cell_type": "markdown",
   "id": "48ce3950",
   "metadata": {},
   "source": [
    "Text의 최대 길이와 Summary의 적절한 최대 길이를 임의로 정해볼게요."
   ]
  },
  {
   "cell_type": "code",
   "execution_count": 23,
   "id": "d9625fef",
   "metadata": {},
   "outputs": [],
   "source": [
    "text_max_len = 50\n",
    "headlines_max_len = 8"
   ]
  },
  {
   "cell_type": "markdown",
   "id": "d4aec593",
   "metadata": {},
   "source": [
    "훈련 데이터와 샘플의 길이를 입력하면, 데이터의 몇 %가 해당하는지 계산하는 함수를 만들어서 좀 더 정확하게 판단"
   ]
  },
  {
   "cell_type": "code",
   "execution_count": 24,
   "id": "8dd08c76",
   "metadata": {},
   "outputs": [],
   "source": [
    "def below_threshold_len(max_len, nested_list):\n",
    "  cnt = 0\n",
    "  for s in nested_list:\n",
    "    if(len(s.split()) <= max_len):\n",
    "        cnt = cnt + 1\n",
    "  print('전체 샘플 중 길이가 %s 이하인 샘플의 비율: %s'%(max_len, (cnt / len(nested_list))))"
   ]
  },
  {
   "cell_type": "markdown",
   "id": "2f7e8548",
   "metadata": {},
   "source": [
    "Text와 Summary에 적용해 우리가 결정한 임의의 길이가 몇%의 샘플까지 포함하는지"
   ]
  },
  {
   "cell_type": "code",
   "execution_count": 25,
   "id": "fa51a1e1",
   "metadata": {},
   "outputs": [
    {
     "name": "stdout",
     "output_type": "stream",
     "text": [
      "전체 샘플 중 길이가 50 이하인 샘플의 비율: 0.9998576657177715\n",
      "전체 샘플 중 길이가 8 이하인 샘플의 비율: 0.2755693371289142\n"
     ]
    }
   ],
   "source": [
    "below_threshold_len(text_max_len, data['text'])\n",
    "below_threshold_len(headlines_max_len,  data['headlines'])"
   ]
  },
  {
   "cell_type": "markdown",
   "id": "e8a8867d",
   "metadata": {},
   "source": [
    "Text와 Summary를 담고 있는 data 데이터프레임을 위에서 임의로 정의한 text_max_len과 summary_max_len의 길이보다 큰 샘플을 제외하는 코드"
   ]
  },
  {
   "cell_type": "code",
   "execution_count": 26,
   "id": "e00ec1ab",
   "metadata": {},
   "outputs": [
    {
     "name": "stdout",
     "output_type": "stream",
     "text": [
      "전체 샘플수 : 27105\n"
     ]
    }
   ],
   "source": [
    "data = data[\n",
    "    (data['text'].apply(lambda x: len(x.split())) <= text_max_len) &\n",
    "    (data['headlines'].apply(lambda x: len(x.split())) <= headlines_max_len)\n",
    "]\n",
    "\n",
    "print('전체 샘플수 :', (len(data)))"
   ]
  },
  {
   "cell_type": "markdown",
   "id": "f2969ea2",
   "metadata": {},
   "source": [
    "- 시작 토큰은 sostoken, 종료 토큰은 eostoken이라 임의로 명명하고 앞, 뒤로 추가할 거예요. \n",
    "- 디코더의 입력에 해당하면서 시작 토큰이 맨 앞에 있는 문장의 이름을 decoder_input, 디코더의 출력 또는 레이블에 해당되면서 종료 토큰이 맨 뒤에 붙는 문장의 이름을 decoder_target이라고 이름을 정했어요. \n",
    "- 두 개의 문장 모두 Summary 열로부터 만들 거예요."
   ]
  },
  {
   "cell_type": "code",
   "execution_count": 27,
   "id": "c1f75c99",
   "metadata": {},
   "outputs": [
    {
     "data": {
      "text/html": [
       "<div>\n",
       "<style scoped>\n",
       "    .dataframe tbody tr th:only-of-type {\n",
       "        vertical-align: middle;\n",
       "    }\n",
       "\n",
       "    .dataframe tbody tr th {\n",
       "        vertical-align: top;\n",
       "    }\n",
       "\n",
       "    .dataframe thead th {\n",
       "        text-align: right;\n",
       "    }\n",
       "</style>\n",
       "<table border=\"1\" class=\"dataframe\">\n",
       "  <thead>\n",
       "    <tr style=\"text-align: right;\">\n",
       "      <th></th>\n",
       "      <th>headlines</th>\n",
       "      <th>text</th>\n",
       "      <th>decoder_input</th>\n",
       "      <th>decoder_target</th>\n",
       "    </tr>\n",
       "  </thead>\n",
       "  <tbody>\n",
       "    <tr>\n",
       "      <th>19</th>\n",
       "      <td>odisha cm patnaik controls mining mafia union ...</td>\n",
       "      <td>union minister dharmendra pradhan wednesday cl...</td>\n",
       "      <td>sostoken odisha cm patnaik controls mining maf...</td>\n",
       "      <td>odisha cm patnaik controls mining mafia union ...</td>\n",
       "    </tr>\n",
       "    <tr>\n",
       "      <th>21</th>\n",
       "      <td>isro unveils bengaluru centre for manned space...</td>\n",
       "      <td>indian space research organisation wednesday u...</td>\n",
       "      <td>sostoken isro unveils bengaluru centre for man...</td>\n",
       "      <td>isro unveils bengaluru centre for manned space...</td>\n",
       "    </tr>\n",
       "    <tr>\n",
       "      <th>22</th>\n",
       "      <td>killed injured in saudi arabia floods</td>\n",
       "      <td>least people killed others injured saudi arabi...</td>\n",
       "      <td>sostoken killed injured in saudi arabia floods</td>\n",
       "      <td>killed injured in saudi arabia floods eostoken</td>\n",
       "    </tr>\n",
       "    <tr>\n",
       "      <th>29</th>\n",
       "      <td>seat cushions from missing plane carrying foot...</td>\n",
       "      <td>investigators searching lost plane carrying ar...</td>\n",
       "      <td>sostoken seat cushions from missing plane carr...</td>\n",
       "      <td>seat cushions from missing plane carrying foot...</td>\n",
       "    </tr>\n",
       "    <tr>\n",
       "      <th>36</th>\n",
       "      <td>agustawestland scam accused rajiv saxena extra...</td>\n",
       "      <td>agustawestland chopper scam co accused rajiv s...</td>\n",
       "      <td>sostoken agustawestland scam accused rajiv sax...</td>\n",
       "      <td>agustawestland scam accused rajiv saxena extra...</td>\n",
       "    </tr>\n",
       "  </tbody>\n",
       "</table>\n",
       "</div>"
      ],
      "text/plain": [
       "                                            headlines  \\\n",
       "19  odisha cm patnaik controls mining mafia union ...   \n",
       "21  isro unveils bengaluru centre for manned space...   \n",
       "22              killed injured in saudi arabia floods   \n",
       "29  seat cushions from missing plane carrying foot...   \n",
       "36  agustawestland scam accused rajiv saxena extra...   \n",
       "\n",
       "                                                 text  \\\n",
       "19  union minister dharmendra pradhan wednesday cl...   \n",
       "21  indian space research organisation wednesday u...   \n",
       "22  least people killed others injured saudi arabi...   \n",
       "29  investigators searching lost plane carrying ar...   \n",
       "36  agustawestland chopper scam co accused rajiv s...   \n",
       "\n",
       "                                        decoder_input  \\\n",
       "19  sostoken odisha cm patnaik controls mining maf...   \n",
       "21  sostoken isro unveils bengaluru centre for man...   \n",
       "22     sostoken killed injured in saudi arabia floods   \n",
       "29  sostoken seat cushions from missing plane carr...   \n",
       "36  sostoken agustawestland scam accused rajiv sax...   \n",
       "\n",
       "                                       decoder_target  \n",
       "19  odisha cm patnaik controls mining mafia union ...  \n",
       "21  isro unveils bengaluru centre for manned space...  \n",
       "22     killed injured in saudi arabia floods eostoken  \n",
       "29  seat cushions from missing plane carrying foot...  \n",
       "36  agustawestland scam accused rajiv saxena extra...  "
      ]
     },
     "execution_count": 27,
     "metadata": {},
     "output_type": "execute_result"
    }
   ],
   "source": [
    "# 요약 데이터에는 시작 토큰과 종료 토큰을 추가한다.\n",
    "data['decoder_input'] = data['headlines'].apply(lambda x : 'sostoken '+ x)\n",
    "data['decoder_target'] = data['headlines'].apply(lambda x : x + ' eostoken')\n",
    "data.head()"
   ]
  },
  {
   "cell_type": "markdown",
   "id": "45b8c6f8",
   "metadata": {},
   "source": [
    "인코더의 입력, 디코더의 입력과 레이블을 각각 다시 Numpy 타입으로 저장"
   ]
  },
  {
   "cell_type": "code",
   "execution_count": 28,
   "id": "51098e4f",
   "metadata": {},
   "outputs": [],
   "source": [
    "encoder_input = np.array(data['text']) # 인코더의 입력\n",
    "decoder_input = np.array(data['decoder_input']) # 디코더의 입력\n",
    "decoder_target = np.array(data['decoder_target']) # 디코더의 레이블"
   ]
  },
  {
   "cell_type": "markdown",
   "id": "19d07114",
   "metadata": {},
   "source": [
    "encoder_input과 크기와 형태가 같은 순서가 섞인 정수 시퀀스"
   ]
  },
  {
   "cell_type": "code",
   "execution_count": 29,
   "id": "c7eac9c8",
   "metadata": {},
   "outputs": [
    {
     "name": "stdout",
     "output_type": "stream",
     "text": [
      "[ 9262 14405 10521 ... 21026 11190 18385]\n"
     ]
    }
   ],
   "source": [
    "indices = np.arange(encoder_input.shape[0])\n",
    "np.random.shuffle(indices)\n",
    "print(indices)"
   ]
  },
  {
   "cell_type": "markdown",
   "id": "2561158a",
   "metadata": {},
   "source": [
    "정수 시퀀스를 이용해 다시 데이터의 샘플 순서를 정의해 주면 잘 섞인 샘플"
   ]
  },
  {
   "cell_type": "code",
   "execution_count": 30,
   "id": "06d6fde1",
   "metadata": {},
   "outputs": [
    {
     "name": "stdout",
     "output_type": "stream",
     "text": [
      "=3\n"
     ]
    }
   ],
   "source": [
    "encoder_input = encoder_input[indices]\n",
    "decoder_input = decoder_input[indices]\n",
    "decoder_target = decoder_target[indices]\n",
    "print('=3')"
   ]
  },
  {
   "cell_type": "markdown",
   "id": "94e7f2b8",
   "metadata": {},
   "source": [
    "- 섞인 데이터를 8:2의 비율로 훈련 데이터와 테스트 데이터로 분리해 줄게요. \n",
    "- 전체 데이터의 크기에서 0.2를 곱해서 테스트 데이터의 크기를 정의"
   ]
  },
  {
   "cell_type": "code",
   "execution_count": 31,
   "id": "3774f98f",
   "metadata": {},
   "outputs": [
    {
     "name": "stdout",
     "output_type": "stream",
     "text": [
      "테스트 데이터의 수 : 5421\n"
     ]
    }
   ],
   "source": [
    "n_of_val = int(len(encoder_input)*0.2)\n",
    "print('테스트 데이터의 수 :', n_of_val)"
   ]
  },
  {
   "cell_type": "markdown",
   "id": "e80b2d54",
   "metadata": {},
   "source": [
    "정의한 테스트 데이터의 개수를 이용해 전체 데이터를 양분"
   ]
  },
  {
   "cell_type": "code",
   "execution_count": 32,
   "id": "6c8d1f63",
   "metadata": {},
   "outputs": [
    {
     "name": "stdout",
     "output_type": "stream",
     "text": [
      "훈련 데이터의 개수 : 21684\n",
      "훈련 레이블의 개수 : 21684\n",
      "테스트 데이터의 개수 : 5421\n",
      "테스트 레이블의 개수 : 5421\n"
     ]
    }
   ],
   "source": [
    "encoder_input_train = encoder_input[:-n_of_val]\n",
    "decoder_input_train = decoder_input[:-n_of_val]\n",
    "decoder_target_train = decoder_target[:-n_of_val]\n",
    "\n",
    "encoder_input_test = encoder_input[-n_of_val:]\n",
    "decoder_input_test = decoder_input[-n_of_val:]\n",
    "decoder_target_test = decoder_target[-n_of_val:]\n",
    "\n",
    "print('훈련 데이터의 개수 :', len(encoder_input_train))\n",
    "print('훈련 레이블의 개수 :', len(decoder_input_train))\n",
    "print('테스트 데이터의 개수 :', len(encoder_input_test))\n",
    "print('테스트 레이블의 개수 :', len(decoder_input_test))"
   ]
  },
  {
   "cell_type": "markdown",
   "id": "afe2cb78",
   "metadata": {},
   "source": [
    "이제 기계가 텍스트를 숫자로 처리할 수 있도록 훈련 데이터와 테스트 데이터의 단어들을 모두 정수로 바꾸어 주어야 해요. 이를 위해서는 각 단어에 고유한 정수를 맵핑하는 작업이 필요해요. 이 과정을 단어 집합(vocabulary) 을 만든다고 표현해요. 훈련 데이터에 대해서 단어 집합을 만들어볼게요. 우선, 원문에 해당되는 encoder_input_train에 대해서 단어 집합을 만들게요.\n",
    "\n",
    "Keras의 토크나이저를 사용하면, 입력된 훈련 데이터로부터 단어 집합을 만들 수 있어요."
   ]
  },
  {
   "cell_type": "code",
   "execution_count": 33,
   "id": "c6398410",
   "metadata": {},
   "outputs": [],
   "source": [
    "src_tokenizer = Tokenizer() # 토크나이저 정의\n",
    "src_tokenizer.fit_on_texts(encoder_input_train) # 입력된 데이터로부터 단어 집합 생성"
   ]
  },
  {
   "cell_type": "markdown",
   "id": "f8834ce8",
   "metadata": {},
   "source": [
    "이제 단어 집합이 생성되는 동시에 각 단어에 고유한 정수가 부여되었어요. 현재 생성된 단어 집합은 src_tokenizer.word_index에 저장되어 있어요. 그런데 우리는 이렇게 만든 단어 집합에 있는 모든 단어를 사용하는 것이 아니라, 빈도수가 낮은 단어들은 훈련 데이터에서 제외하고 진행하려고 해요.\n",
    "\n",
    "등장 빈도수가 7회 미만인 단어들이 이 데이터에서 얼만큼의 비중을 차지하는지 확인해볼게요.\n",
    "\n",
    "src_tokenizer.word_counts.items()에는 단어와 각 단어의 등장 빈도수가 저장돼 있는데, 이를 통해서 통계적인 정보"
   ]
  },
  {
   "cell_type": "code",
   "execution_count": 34,
   "id": "0753ef8e",
   "metadata": {},
   "outputs": [
    {
     "name": "stdout",
     "output_type": "stream",
     "text": [
      "단어 집합(vocabulary)의 크기 : 42568\n",
      "등장 빈도가 6번 이하인 희귀 단어의 수: 30814\n",
      "단어 집합에서 희귀 단어를 제외시킬 경우의 단어 집합의 크기 11754\n",
      "단어 집합에서 희귀 단어의 비율: 72.38770907724113\n",
      "전체 등장 빈도에서 희귀 단어 등장 빈도 비율: 8.306624001851029\n"
     ]
    }
   ],
   "source": [
    "threshold = 7\n",
    "total_cnt = len(src_tokenizer.word_index) # 단어의 수\n",
    "rare_cnt = 0 # 등장 빈도수가 threshold보다 작은 단어의 개수를 카운트\n",
    "total_freq = 0 # 훈련 데이터의 전체 단어 빈도수 총 합\n",
    "rare_freq = 0 # 등장 빈도수가 threshold보다 작은 단어의 등장 빈도수의 총 합\n",
    "\n",
    "# 단어와 빈도수의 쌍(pair)을 key와 value로 받는다.\n",
    "for key, value in src_tokenizer.word_counts.items():\n",
    "    total_freq = total_freq + value\n",
    "\n",
    "    # 단어의 등장 빈도수가 threshold보다 작으면\n",
    "    if(value < threshold):\n",
    "        rare_cnt = rare_cnt + 1\n",
    "        rare_freq = rare_freq + value\n",
    "\n",
    "print('단어 집합(vocabulary)의 크기 :', total_cnt)\n",
    "print('등장 빈도가 %s번 이하인 희귀 단어의 수: %s'%(threshold - 1, rare_cnt))\n",
    "print('단어 집합에서 희귀 단어를 제외시킬 경우의 단어 집합의 크기 %s'%(total_cnt - rare_cnt))\n",
    "print(\"단어 집합에서 희귀 단어의 비율:\", (rare_cnt / total_cnt)*100)\n",
    "print(\"전체 등장 빈도에서 희귀 단어 등장 빈도 비율:\", (rare_freq / total_freq)*100)"
   ]
  },
  {
   "cell_type": "markdown",
   "id": "f51b3b9b",
   "metadata": {},
   "source": [
    "encoder_input_train에는 4만여 개의 단어\n",
    "\n",
    "등장 빈도가  6회 이하인 단어들은 단어 집합에서 무려 72% 이상을 차지\n",
    "실제로 훈련 데이터에서 등장 빈도로 차지하는 비중은 상대적으로 적은 수치인 8.29%\n",
    "\n",
    "그래서 등장 빈도가 6회 이하인 단어들은 정수 인코딩 과정에서 빼고, 훈련 데이터에서 제거하고자 합니다. 위에서 이를 제외한 단어 집합의 크기를 1,1731개로 계산했는데, 이와 비슷한 값으로 어림잡아 단어 집합의 크기를 1,1000으로 제한해볼게요. 토크나이저를 정의할 때 num_words의 값을 정해주면, 단어 집합의 크기를 제한할 수 있어요."
   ]
  },
  {
   "cell_type": "code",
   "execution_count": 35,
   "id": "e87e920f",
   "metadata": {},
   "outputs": [],
   "source": [
    "src_vocab = 11000\n",
    "src_tokenizer = Tokenizer(num_words=src_vocab) # 단어 집합의 크기를 11,000으로 제한\n",
    "src_tokenizer.fit_on_texts(encoder_input_train) # 단어 집합 재생성"
   ]
  },
  {
   "cell_type": "code",
   "execution_count": 36,
   "id": "80e1624b",
   "metadata": {},
   "outputs": [
    {
     "name": "stdout",
     "output_type": "stream",
     "text": [
      "[[282, 2216, 122, 29, 526, 2217, 1642, 10767, 1140, 3103, 88, 779, 2928, 2832, 1844, 282, 1, 1147, 1915, 2284, 3104, 1011, 5998, 5251, 7404, 302, 461, 200, 2928, 6494, 200, 1822, 1897, 2637, 2726], [4915, 7808, 1, 357, 1770, 5252, 14, 708, 1680, 265, 295, 8719, 3683, 6, 7, 593, 127, 1345, 357, 3042, 3209, 637, 3154, 127, 7065, 418, 543, 321, 4915, 1], [131, 661, 2599, 3382, 9972, 8720, 291, 8232, 3448, 279, 14, 33, 273, 131, 647, 1078, 912, 14, 807, 439, 372, 807, 1078, 1915, 1725, 277, 1]]\n"
     ]
    }
   ],
   "source": [
    "# 텍스트 시퀀스를 정수 시퀀스로 변환\n",
    "encoder_input_train = src_tokenizer.texts_to_sequences(encoder_input_train) \n",
    "encoder_input_test = src_tokenizer.texts_to_sequences(encoder_input_test)\n",
    "\n",
    "# 잘 진행되었는지 샘플 출력\n",
    "print(encoder_input_train[:3])"
   ]
  },
  {
   "cell_type": "markdown",
   "id": "4dbc2700",
   "metadata": {},
   "source": [
    "Summary 데이터에 대해서도 동일한 작업을 수행할게요. 케라스의 토크나이저를 사용하여 decoder_input_train을 입력으로 전체 단어 집합과 각 단어에 대한 빈도수를 계산"
   ]
  },
  {
   "cell_type": "code",
   "execution_count": 37,
   "id": "a171fdf2",
   "metadata": {},
   "outputs": [],
   "source": [
    "tar_tokenizer = Tokenizer()\n",
    "tar_tokenizer.fit_on_texts(decoder_input_train)"
   ]
  },
  {
   "cell_type": "code",
   "execution_count": 38,
   "id": "e7cfad09",
   "metadata": {},
   "outputs": [
    {
     "name": "stdout",
     "output_type": "stream",
     "text": [
      "단어 집합(vocabulary)의 크기 : 18854\n",
      "등장 빈도가 5번 이하인 희귀 단어의 수: 14226\n",
      "단어 집합에서 희귀 단어를 제외시킬 경우의 단어 집합의 크기 4628\n",
      "단어 집합에서 희귀 단어의 비율: 75.4534846716877\n",
      "전체 등장 빈도에서 희귀 단어 등장 빈도 비율: 14.22839886932315\n"
     ]
    }
   ],
   "source": [
    "threshold = 6\n",
    "total_cnt = len(tar_tokenizer.word_index) # 단어의 수\n",
    "rare_cnt = 0 # 등장 빈도수가 threshold보다 작은 단어의 개수를 카운트\n",
    "total_freq = 0 # 훈련 데이터의 전체 단어 빈도수 총 합\n",
    "rare_freq = 0 # 등장 빈도수가 threshold보다 작은 단어의 등장 빈도수의 총 합\n",
    "\n",
    "# 단어와 빈도수의 쌍(pair)을 key와 value로 받는다.\n",
    "for key, value in tar_tokenizer.word_counts.items():\n",
    "    total_freq = total_freq + value\n",
    "\n",
    "    # 단어의 등장 빈도수가 threshold보다 작으면\n",
    "    if(value < threshold):\n",
    "        rare_cnt = rare_cnt + 1\n",
    "        rare_freq = rare_freq + value\n",
    "\n",
    "print('단어 집합(vocabulary)의 크기 :', total_cnt)\n",
    "print('등장 빈도가 %s번 이하인 희귀 단어의 수: %s'%(threshold - 1, rare_cnt))\n",
    "print('단어 집합에서 희귀 단어를 제외시킬 경우의 단어 집합의 크기 %s'%(total_cnt - rare_cnt))\n",
    "print(\"단어 집합에서 희귀 단어의 비율:\", (rare_cnt / total_cnt)*100)\n",
    "print(\"전체 등장 빈도에서 희귀 단어 등장 빈도 비율:\", (rare_freq / total_freq)*100)"
   ]
  },
  {
   "cell_type": "markdown",
   "id": "e17396da",
   "metadata": {},
   "source": [
    "등장 빈도가 5회 이하인 단어들은 단어 집합에서 약 75%를 차지하고 있네요. \n",
    "훈련 데이터에서 등장 빈도로 차지하는 비중은 상대적으로 매우 적은 수치인 14.2%\n",
    "아까 했던 것과 동일하게 이 단어들은 모두 제거할게요. 어림잡아 4,000을 단어 집합의 크기로 제한"
   ]
  },
  {
   "cell_type": "code",
   "execution_count": 39,
   "id": "e4b99ae9",
   "metadata": {},
   "outputs": [
    {
     "name": "stdout",
     "output_type": "stream",
     "text": [
      "input\n",
      "input  [[1, 230, 1934, 3332, 671, 3], [1, 136, 1198, 3, 534, 3685], [1, 173, 572, 6, 1062, 85, 1461], [1, 519, 825, 3686, 983, 546, 366, 1313], [1, 472, 192, 2205, 504, 2206, 23, 775]]\n",
      "target\n",
      "decoder  [[230, 1934, 3332, 671, 3, 2], [136, 1198, 3, 534, 3685, 2], [173, 572, 6, 1062, 85, 1461, 2], [519, 825, 3686, 983, 546, 366, 1313, 2], [472, 192, 2205, 504, 2206, 23, 775, 2]]\n"
     ]
    }
   ],
   "source": [
    "tar_vocab = 4000\n",
    "tar_tokenizer = Tokenizer(num_words=tar_vocab) \n",
    "tar_tokenizer.fit_on_texts(decoder_input_train)\n",
    "tar_tokenizer.fit_on_texts(decoder_target_train)\n",
    "\n",
    "# 텍스트 시퀀스를 정수 시퀀스로 변환\n",
    "decoder_input_train = tar_tokenizer.texts_to_sequences(decoder_input_train) \n",
    "decoder_target_train = tar_tokenizer.texts_to_sequences(decoder_target_train)\n",
    "decoder_input_test = tar_tokenizer.texts_to_sequences(decoder_input_test)\n",
    "decoder_target_test = tar_tokenizer.texts_to_sequences(decoder_target_test)\n",
    "\n",
    "# 잘 변환되었는지 확인\n",
    "print('input')\n",
    "print('input ',decoder_input_train[:5])\n",
    "print('target')\n",
    "print('decoder ',decoder_target_train[:5])"
   ]
  },
  {
   "cell_type": "markdown",
   "id": "7e57f544",
   "metadata": {},
   "source": [
    "전체 데이터에서 빈도수가 낮은 단어가 삭제되었다는 것은 빈도수가 낮은 단어만으로 구성되었던 샘플들은 이제 빈(empty) 샘플이 되었을 가능성이 있어요. 이 현상은 길이가 상대적으로 길었던 원문(Text)의 경우에는 문제가 별로 없겠지만, 애초에 평균 길이가 4밖에 되지 않았던 요약문(Summary)의 경우에는 이 현상이 굉장히 두드러졌을 가능성이 높겠죠.\n",
    "\n",
    "요약문에서 길이가 0이 된 샘플들의 인덱스를 받아와볼게요. 여기서 주의할 점은 요약문인 decoder_input에는 sostoken 또는 decoder_target에는 eostoken이 추가된 상태이고, 이 두 토큰은 모든 샘플에서 등장하므로 빈도수가 샘플 수와 동일하게 매우 높으므로 단어 집합 제한에도 삭제되지 않아요. 그래서 이제 길이가 0이 된 요약문의 실제 길이는 1로 나올 거예요. 길이 0이 된 decoder_input에는 sostoken, decoder_target에는 eostoken만 남아 있을 테니까요.\n",
    "\n",
    "훈련 데이터와 테스트 데이터에 대해서 요약문의 길이가 1인 경우의 인덱스를 각각 drop_train과 drop_test에 라는 변수에 저장해볼게요. 이 샘플들은 모두 삭제할 거예요."
   ]
  },
  {
   "cell_type": "code",
   "execution_count": 40,
   "id": "9f46666d",
   "metadata": {},
   "outputs": [
    {
     "name": "stdout",
     "output_type": "stream",
     "text": [
      "삭제할 훈련 데이터의 개수 : 2\n",
      "삭제할 테스트 데이터의 개수 : 1\n",
      "훈련 데이터의 개수 : 21682\n",
      "훈련 레이블의 개수 : 21682\n",
      "테스트 데이터의 개수 : 5420\n",
      "테스트 레이블의 개수 : 5420\n"
     ]
    }
   ],
   "source": [
    "drop_train = [index for index, sentence in enumerate(decoder_input_train) if len(sentence) == 1]\n",
    "drop_test = [index for index, sentence in enumerate(decoder_input_test) if len(sentence) == 1]\n",
    "\n",
    "print('삭제할 훈련 데이터의 개수 :', len(drop_train))\n",
    "print('삭제할 테스트 데이터의 개수 :', len(drop_test))\n",
    "\n",
    "encoder_input_train = [sentence for index, sentence in enumerate(encoder_input_train) if index not in drop_train]\n",
    "decoder_input_train = [sentence for index, sentence in enumerate(decoder_input_train) if index not in drop_train]\n",
    "decoder_target_train = [sentence for index, sentence in enumerate(decoder_target_train) if index not in drop_train]\n",
    "\n",
    "encoder_input_test = [sentence for index, sentence in enumerate(encoder_input_test) if index not in drop_test]\n",
    "decoder_input_test = [sentence for index, sentence in enumerate(decoder_input_test) if index not in drop_test]\n",
    "decoder_target_test = [sentence for index, sentence in enumerate(decoder_target_test) if index not in drop_test]\n",
    "\n",
    "print('훈련 데이터의 개수 :', len(encoder_input_train))\n",
    "print('훈련 레이블의 개수 :', len(decoder_input_train))\n",
    "print('테스트 데이터의 개수 :', len(encoder_input_test))\n",
    "print('테스트 레이블의 개수 :', len(decoder_input_test))"
   ]
  },
  {
   "cell_type": "markdown",
   "id": "a2e20e92",
   "metadata": {},
   "source": [
    "- 패딩하기\n",
    "    - 텍스트 시퀀스를 정수 시퀀스로 변환했다면, 이제 서로 다른 길이의 샘플들을 병렬 처리하기 위해 같은 길이로 맞춰주는 패딩 작업을 해주어야 해야 해요. 아까 정해두었던 최대 길이로 패딩 해 줄 거에요. 최대 길이보다 짧은 데이터들은 뒤의 공간에 숫자 0을 넣어 최대 길이로 길이를 맞춰줄게요."
   ]
  },
  {
   "cell_type": "code",
   "execution_count": 41,
   "id": "38ce9173",
   "metadata": {},
   "outputs": [
    {
     "name": "stdout",
     "output_type": "stream",
     "text": [
      "=3\n"
     ]
    }
   ],
   "source": [
    "encoder_input_train = pad_sequences(encoder_input_train, maxlen=text_max_len, padding='post')\n",
    "encoder_input_test = pad_sequences(encoder_input_test, maxlen=text_max_len, padding='post')\n",
    "decoder_input_train = pad_sequences(decoder_input_train, maxlen=headlines_max_len, padding='post')\n",
    "decoder_target_train = pad_sequences(decoder_target_train, maxlen=headlines_max_len, padding='post')\n",
    "decoder_input_test = pad_sequences(decoder_input_test, maxlen=headlines_max_len, padding='post')\n",
    "decoder_target_test = pad_sequences(decoder_target_test, maxlen=headlines_max_len, padding='post')\n",
    "print('=3')"
   ]
  },
  {
   "cell_type": "markdown",
   "id": "7378df51",
   "metadata": {},
   "source": [
    "## 모델 설계하기\n",
    "우선 함수형 API를 이용해서 인코더를 설계"
   ]
  },
  {
   "cell_type": "code",
   "execution_count": 42,
   "id": "02670bee",
   "metadata": {},
   "outputs": [],
   "source": [
    "from tensorflow.keras.layers import Input, LSTM, Embedding, Dense, Concatenate, TimeDistributed\n",
    "from tensorflow.keras.models import Model\n",
    "from tensorflow.keras.callbacks import EarlyStopping, ModelCheckpoint\n",
    "\n",
    "\n",
    "# 인코더 설계 시작\n",
    "embedding_dim = 128\n",
    "hidden_size = 256\n",
    "\n",
    "# 인코더\n",
    "encoder_inputs = Input(shape=(text_max_len,))\n",
    "\n",
    "# 인코더의 임베딩 층\n",
    "enc_emb = Embedding(src_vocab, embedding_dim)(encoder_inputs)\n",
    "\n",
    "# 인코더의 LSTM 1\n",
    "# encoder_lstm1 = LSTM(hidden_size, return_sequences=True, return_state=True ,dropout = 0.4, recurrent_dropout = 0.4)\n",
    "encoder_lstm1 = LSTM(hidden_size, return_sequences=True, return_state=True ,dropout = 0.4)\n",
    "encoder_output1, state_h1, state_c1 = encoder_lstm1(enc_emb)\n",
    "\n",
    "# 인코더의 LSTM 2\n",
    "encoder_lstm2 = LSTM(hidden_size, return_sequences=True, return_state=True, dropout=0.4)\n",
    "encoder_output2, state_h2, state_c2 = encoder_lstm2(encoder_output1)\n",
    "\n",
    "# 인코더의 LSTM 3\n",
    "encoder_lstm3 = LSTM(hidden_size, return_sequences=True, return_state=True, dropout=0.4)\n",
    "encoder_output3, state_h3, state_c3 = encoder_lstm3(encoder_output2)\n",
    "encoder_outputs = encoder_output3 "
   ]
  },
  {
   "cell_type": "markdown",
   "id": "38f33429",
   "metadata": {},
   "source": [
    "디코더 설계"
   ]
  },
  {
   "cell_type": "code",
   "execution_count": 43,
   "id": "7e624064",
   "metadata": {},
   "outputs": [],
   "source": [
    "# 디코더 설계\n",
    "decoder_inputs = Input(shape=(None,))\n",
    "\n",
    "# 디코더의 임베딩 층\n",
    "dec_emb_layer = Embedding(tar_vocab, embedding_dim)\n",
    "dec_emb = dec_emb_layer(decoder_inputs)\n",
    "\n",
    "# 디코더의 LSTM\n",
    "# decoder_lstm = LSTM(hidden_size, return_sequences=True, return_state=True, dropout=0.4, recurrent_dropout=0.2)\n",
    "decoder_lstm = LSTM(hidden_size, return_sequences=True, return_state=True, dropout=0.4)\n",
    "decoder_outputs, _, _ = decoder_lstm(dec_emb, initial_state=[state_h3, state_c3])"
   ]
  },
  {
   "cell_type": "code",
   "execution_count": 44,
   "id": "3bc8de24",
   "metadata": {},
   "outputs": [
    {
     "name": "stdout",
     "output_type": "stream",
     "text": [
      "Model: \"model\"\n",
      "__________________________________________________________________________________________________\n",
      "Layer (type)                    Output Shape         Param #     Connected to                     \n",
      "==================================================================================================\n",
      "input_1 (InputLayer)            [(None, 50)]         0                                            \n",
      "__________________________________________________________________________________________________\n",
      "embedding (Embedding)           (None, 50, 128)      1408000     input_1[0][0]                    \n",
      "__________________________________________________________________________________________________\n",
      "lstm (LSTM)                     [(None, 50, 256), (N 394240      embedding[0][0]                  \n",
      "__________________________________________________________________________________________________\n",
      "input_2 (InputLayer)            [(None, None)]       0                                            \n",
      "__________________________________________________________________________________________________\n",
      "lstm_1 (LSTM)                   [(None, 50, 256), (N 525312      lstm[0][0]                       \n",
      "__________________________________________________________________________________________________\n",
      "embedding_1 (Embedding)         (None, None, 128)    512000      input_2[0][0]                    \n",
      "__________________________________________________________________________________________________\n",
      "lstm_2 (LSTM)                   [(None, 50, 256), (N 525312      lstm_1[0][0]                     \n",
      "__________________________________________________________________________________________________\n",
      "lstm_3 (LSTM)                   [(None, None, 256),  394240      embedding_1[0][0]                \n",
      "                                                                 lstm_2[0][1]                     \n",
      "                                                                 lstm_2[0][2]                     \n",
      "__________________________________________________________________________________________________\n",
      "dense (Dense)                   (None, None, 4000)   1028000     lstm_3[0][0]                     \n",
      "==================================================================================================\n",
      "Total params: 4,787,104\n",
      "Trainable params: 4,787,104\n",
      "Non-trainable params: 0\n",
      "__________________________________________________________________________________________________\n"
     ]
    }
   ],
   "source": [
    "# 디코더의 출력층\n",
    "decoder_softmax_layer = Dense(tar_vocab, activation='softmax')\n",
    "decoder_softmax_outputs = decoder_softmax_layer(decoder_outputs) \n",
    "\n",
    "# 모델 정의\n",
    "model = Model([encoder_inputs, decoder_inputs], decoder_softmax_outputs)\n",
    "model.summary()"
   ]
  },
  {
   "cell_type": "markdown",
   "id": "01e903c6",
   "metadata": {},
   "source": [
    "- 어텐션 메커니즘\n",
    "    - 어텐션 층을 만들고, 위에서 설계한 디코더의 출력층을 수정\n",
    "    - 인코더의 hidden state들과 디코더의 hidden state들을 어텐션 함수의 입력으로 사용하고, 어텐션 함수가 리턴한 값을 예측 시에 디코더의 hidden state와 함께 활용하는 형태로 작동"
   ]
  },
  {
   "cell_type": "code",
   "execution_count": 45,
   "id": "57241025",
   "metadata": {},
   "outputs": [
    {
     "name": "stdout",
     "output_type": "stream",
     "text": [
      "Model: \"model_1\"\n",
      "__________________________________________________________________________________________________\n",
      "Layer (type)                    Output Shape         Param #     Connected to                     \n",
      "==================================================================================================\n",
      "input_1 (InputLayer)            [(None, 50)]         0                                            \n",
      "__________________________________________________________________________________________________\n",
      "embedding (Embedding)           (None, 50, 128)      1408000     input_1[0][0]                    \n",
      "__________________________________________________________________________________________________\n",
      "lstm (LSTM)                     [(None, 50, 256), (N 394240      embedding[0][0]                  \n",
      "__________________________________________________________________________________________________\n",
      "input_2 (InputLayer)            [(None, None)]       0                                            \n",
      "__________________________________________________________________________________________________\n",
      "lstm_1 (LSTM)                   [(None, 50, 256), (N 525312      lstm[0][0]                       \n",
      "__________________________________________________________________________________________________\n",
      "embedding_1 (Embedding)         (None, None, 128)    512000      input_2[0][0]                    \n",
      "__________________________________________________________________________________________________\n",
      "lstm_2 (LSTM)                   [(None, 50, 256), (N 525312      lstm_1[0][0]                     \n",
      "__________________________________________________________________________________________________\n",
      "lstm_3 (LSTM)                   [(None, None, 256),  394240      embedding_1[0][0]                \n",
      "                                                                 lstm_2[0][1]                     \n",
      "                                                                 lstm_2[0][2]                     \n",
      "__________________________________________________________________________________________________\n",
      "attention_layer (AdditiveAttent (None, None, 256)    256         lstm_3[0][0]                     \n",
      "                                                                 lstm_2[0][0]                     \n",
      "__________________________________________________________________________________________________\n",
      "concat_layer (Concatenate)      (None, None, 512)    0           lstm_3[0][0]                     \n",
      "                                                                 attention_layer[0][0]            \n",
      "__________________________________________________________________________________________________\n",
      "dense_1 (Dense)                 (None, None, 4000)   2052000     concat_layer[0][0]               \n",
      "==================================================================================================\n",
      "Total params: 5,811,360\n",
      "Trainable params: 5,811,360\n",
      "Non-trainable params: 0\n",
      "__________________________________________________________________________________________________\n"
     ]
    }
   ],
   "source": [
    "from tensorflow.keras.layers import AdditiveAttention\n",
    "\n",
    "# 어텐션 층(어텐션 함수)\n",
    "attn_layer = AdditiveAttention(name='attention_layer')\n",
    "\n",
    "# 인코더와 디코더의 모든 time step의 hidden state를 어텐션 층에 전달하고 결과를 리턴\n",
    "attn_out = attn_layer([decoder_outputs, encoder_outputs])\n",
    "\n",
    "\n",
    "# 어텐션의 결과와 디코더의 hidden state들을 연결\n",
    "decoder_concat_input = Concatenate(axis=-1, name='concat_layer')([decoder_outputs, attn_out])\n",
    "\n",
    "# 디코더의 출력층\n",
    "decoder_softmax_layer = Dense(tar_vocab, activation='softmax')\n",
    "decoder_softmax_outputs = decoder_softmax_layer(decoder_concat_input)\n",
    "\n",
    "# 모델 정의\n",
    "model = Model([encoder_inputs, decoder_inputs], decoder_softmax_outputs)\n",
    "model.summary()"
   ]
  },
  {
   "cell_type": "markdown",
   "id": "27cca280",
   "metadata": {},
   "source": [
    "## 모델 훈련하기"
   ]
  },
  {
   "cell_type": "code",
   "execution_count": 46,
   "id": "62f8ecb0",
   "metadata": {},
   "outputs": [
    {
     "name": "stdout",
     "output_type": "stream",
     "text": [
      "Epoch 1/50\n",
      "85/85 [==============================] - 32s 81ms/step - loss: 5.9894 - val_loss: 5.5729\n",
      "Epoch 2/50\n",
      "85/85 [==============================] - 6s 67ms/step - loss: 5.5584 - val_loss: 5.3023\n",
      "Epoch 3/50\n",
      "85/85 [==============================] - 6s 68ms/step - loss: 5.3386 - val_loss: 5.2020\n",
      "Epoch 4/50\n",
      "85/85 [==============================] - 6s 69ms/step - loss: 5.1823 - val_loss: 5.0710\n",
      "Epoch 5/50\n",
      "85/85 [==============================] - 6s 69ms/step - loss: 5.0250 - val_loss: 4.9551\n",
      "Epoch 6/50\n",
      "85/85 [==============================] - 6s 69ms/step - loss: 4.8770 - val_loss: 4.8368\n",
      "Epoch 7/50\n",
      "85/85 [==============================] - 6s 69ms/step - loss: 4.7271 - val_loss: 4.7501\n",
      "Epoch 8/50\n",
      "85/85 [==============================] - 6s 70ms/step - loss: 4.5699 - val_loss: 4.6435\n",
      "Epoch 9/50\n",
      "85/85 [==============================] - 6s 71ms/step - loss: 4.4293 - val_loss: 4.5563\n",
      "Epoch 10/50\n",
      "85/85 [==============================] - 6s 71ms/step - loss: 4.2999 - val_loss: 4.5017\n",
      "Epoch 11/50\n",
      "85/85 [==============================] - 6s 71ms/step - loss: 4.1798 - val_loss: 4.4545\n",
      "Epoch 12/50\n",
      "85/85 [==============================] - 6s 72ms/step - loss: 4.0578 - val_loss: 4.3927\n",
      "Epoch 13/50\n",
      "85/85 [==============================] - 6s 72ms/step - loss: 3.9467 - val_loss: 4.3345\n",
      "Epoch 14/50\n",
      "85/85 [==============================] - 6s 73ms/step - loss: 3.8358 - val_loss: 4.3153\n",
      "Epoch 15/50\n",
      "85/85 [==============================] - 6s 73ms/step - loss: 3.7322 - val_loss: 4.2788\n",
      "Epoch 16/50\n",
      "85/85 [==============================] - 6s 74ms/step - loss: 3.6316 - val_loss: 4.2394\n",
      "Epoch 17/50\n",
      "85/85 [==============================] - 6s 74ms/step - loss: 3.5342 - val_loss: 4.2280\n",
      "Epoch 18/50\n",
      "85/85 [==============================] - 6s 75ms/step - loss: 3.4412 - val_loss: 4.2115\n",
      "Epoch 19/50\n",
      "85/85 [==============================] - 6s 76ms/step - loss: 3.3528 - val_loss: 4.2040\n",
      "Epoch 20/50\n",
      "85/85 [==============================] - 6s 76ms/step - loss: 3.2662 - val_loss: 4.2083\n",
      "Epoch 21/50\n",
      "85/85 [==============================] - 6s 76ms/step - loss: 3.1814 - val_loss: 4.2006\n",
      "Epoch 22/50\n",
      "85/85 [==============================] - 6s 76ms/step - loss: 3.1011 - val_loss: 4.1911\n",
      "Epoch 23/50\n",
      "85/85 [==============================] - 6s 76ms/step - loss: 3.0211 - val_loss: 4.1907\n",
      "Epoch 24/50\n",
      "85/85 [==============================] - 6s 75ms/step - loss: 2.9441 - val_loss: 4.1851\n",
      "Epoch 25/50\n",
      "85/85 [==============================] - 6s 75ms/step - loss: 2.8694 - val_loss: 4.1980\n",
      "Epoch 26/50\n",
      "85/85 [==============================] - 6s 74ms/step - loss: 2.7968 - val_loss: 4.2019\n",
      "Epoch 00026: early stopping\n"
     ]
    }
   ],
   "source": [
    "model.compile(optimizer='rmsprop', loss='sparse_categorical_crossentropy')\n",
    "es = EarlyStopping(monitor='val_loss', patience=2, verbose=1)\n",
    "history = model.fit(x=[encoder_input_train, decoder_input_train], y=decoder_target_train, \\\n",
    "          validation_data=([encoder_input_test, decoder_input_test], decoder_target_test), \\\n",
    "          batch_size=256, callbacks=[es], epochs=50)"
   ]
  },
  {
   "cell_type": "code",
   "execution_count": 47,
   "id": "ce067592",
   "metadata": {},
   "outputs": [
    {
     "data": {
      "image/png": "[encoded data removed]",
      "text/plain": [
       "<Figure size 432x288 with 1 Axes>"
      ]
     },
     "metadata": {
      "needs_background": "light"
     },
     "output_type": "display_data"
    }
   ],
   "source": [
    "plt.plot(history.history['loss'], label='train')\n",
    "plt.plot(history.history['val_loss'], label='test')\n",
    "plt.legend()\n",
    "plt.show()"
   ]
  },
  {
   "cell_type": "code",
   "execution_count": 60,
   "id": "006fde6a",
   "metadata": {},
   "outputs": [],
   "source": [
    "src_index_to_word = src_tokenizer.index_word # 원문 단어 집합에서 정수 -> 단어를 얻음\n",
    "tar_word_to_index = tar_tokenizer.word_index # 요약 단어 집합에서 단어 -> 정수를 얻음\n",
    "tar_index_to_word = tar_tokenizer.index_word # 요약 단어 집합에서 정수 -> 단어를 얻음"
   ]
  },
  {
   "cell_type": "code",
   "execution_count": 61,
   "id": "7c1c2bd5",
   "metadata": {},
   "outputs": [],
   "source": [
    "# 인코더 설계\n",
    "encoder_model = Model(inputs=encoder_inputs, outputs=[encoder_outputs, state_h3, state_c3])\n",
    "\n",
    "# 이전 시점의 상태들을 저장하는 텐서\n",
    "decoder_state_input_h = Input(shape=(hidden_size,))\n",
    "decoder_state_input_c = Input(shape=(hidden_size,))\n",
    "\n",
    "dec_emb2 = dec_emb_layer(decoder_inputs)\n",
    "\n",
    "# 문장의 다음 단어를 예측하기 위해서 초기 상태(initial_state)를 이전 시점의 상태로 사용. 이는 뒤의 함수 decode_sequence()에 구현\n",
    "# 훈련 과정에서와 달리 LSTM의 리턴하는 은닉 상태와 셀 상태인 state_h와 state_c를 버리지 않음.\n",
    "decoder_outputs2, state_h2, state_c2 = decoder_lstm(dec_emb2, initial_state=[decoder_state_input_h, decoder_state_input_c])"
   ]
  },
  {
   "cell_type": "code",
   "execution_count": 62,
   "id": "f5856d25",
   "metadata": {},
   "outputs": [
    {
     "name": "stdout",
     "output_type": "stream",
     "text": [
      "=3\n"
     ]
    }
   ],
   "source": [
    "# 어텐션 함수\n",
    "decoder_hidden_state_input = Input(shape=(text_max_len, hidden_size))\n",
    "attn_out_inf = attn_layer([decoder_outputs2, decoder_hidden_state_input])\n",
    "decoder_inf_concat = Concatenate(axis=-1, name='concat')([decoder_outputs2, attn_out_inf])\n",
    "\n",
    "# 디코더의 출력층\n",
    "decoder_outputs2 = decoder_softmax_layer(decoder_inf_concat) \n",
    "\n",
    "# 최종 디코더 모델\n",
    "decoder_model = Model(\n",
    "    [decoder_inputs] + [decoder_hidden_state_input,decoder_state_input_h, decoder_state_input_c],\n",
    "    [decoder_outputs2] + [state_h2, state_c2])\n",
    "\n",
    "print('=3')"
   ]
  },
  {
   "cell_type": "code",
   "execution_count": 66,
   "id": "c5895ee5",
   "metadata": {},
   "outputs": [
    {
     "name": "stdout",
     "output_type": "stream",
     "text": [
      "=3\n"
     ]
    }
   ],
   "source": [
    "def decode_sequence(input_seq):\n",
    "    # 입력으로부터 인코더의 상태를 얻음\n",
    "    e_out, e_h, e_c = encoder_model.predict(input_seq)\n",
    "\n",
    "     # <SOS>에 해당하는 토큰 생성\n",
    "    target_seq = np.zeros((1,1))\n",
    "    target_seq[0, 0] = tar_word_to_index['sostoken']\n",
    "\n",
    "    stop_condition = False\n",
    "    decoded_sentence = ''\n",
    "    while not stop_condition: # stop_condition이 True가 될 때까지 루프 반복\n",
    "\n",
    "        output_tokens, h, c = decoder_model.predict([target_seq] + [e_out, e_h, e_c])\n",
    "        sampled_token_index = np.argmax(output_tokens[0, -1, :])\n",
    "        sampled_token = tar_index_to_word[sampled_token_index]\n",
    "\n",
    "        if (sampled_token!='eostoken'):\n",
    "            decoded_sentence += ' '+sampled_token\n",
    "\n",
    "        #  <eos>에 도달하거나 최대 길이를 넘으면 중단.\n",
    "        if (sampled_token == 'eostoken'  or len(decoded_sentence.split()) >= (headlines_max_len-1)):\n",
    "            stop_condition = True\n",
    "\n",
    "        # 길이가 1인 타겟 시퀀스를 업데이트\n",
    "        target_seq = np.zeros((1,1))\n",
    "        target_seq[0, 0] = sampled_token_index\n",
    "\n",
    "        # 상태를 업데이트 합니다.\n",
    "        e_h, e_c = h, c\n",
    "\n",
    "    return decoded_sentence\n",
    "print('=3')"
   ]
  },
  {
   "cell_type": "code",
   "execution_count": 67,
   "id": "666d2deb",
   "metadata": {},
   "outputs": [
    {
     "name": "stdout",
     "output_type": "stream",
     "text": [
      "=3\n"
     ]
    }
   ],
   "source": [
    "# 원문의 정수 시퀀스를 텍스트 시퀀스로 변환\n",
    "def seq2text(input_seq):\n",
    "    temp=''\n",
    "    for i in input_seq:\n",
    "        if (i!=0):\n",
    "            temp = temp + src_index_to_word[i]+' '\n",
    "    return temp\n",
    "\n",
    "# 요약문의 정수 시퀀스를 텍스트 시퀀스로 변환\n",
    "def seq2summary(input_seq):\n",
    "    temp = ''\n",
    "    for i in input_seq:\n",
    "        if (i != 0 and i != tar_word_to_index['sostoken']) and (i != tar_word_to_index['eostoken']):\n",
    "            temp += tar_index_to_word[i] + ' '\n",
    "    return temp.strip()\n",
    "\n",
    "print('=3')"
   ]
  },
  {
   "cell_type": "code",
   "execution_count": 68,
   "id": "1ba45af8",
   "metadata": {},
   "outputs": [
    {
     "name": "stdout",
     "output_type": "stream",
     "text": [
      "원문 : delhi high court sought response rbi plea challenging circular prohibits banks providing service businesses dealing cryptocurrencies gujarat based digital proposed launch crypto exchange filed plea company sought rbi order grounds unconstitutional \n",
      "실제 요약 : rbi order on cryptocurrencies challenged in delhi hc\n",
      "예측 요약 :  rbi governor to insolvency applications\n",
      "\n",
      "\n",
      "원문 : group hindu activists allegedly disrupted christmas celebrations rajasthan town tuesday night claiming event aimed forcibly converting attendees organisers said police allowed event refused provide written permission police said event held illegally \n",
      "실제 요약 : hindu activists christmas celebrations in rajasthan\n",
      "예측 요약 :  kerala police protest against against\n",
      "\n",
      "\n",
      "원문 : dutch researcher proposed making three planes take land simultaneously planes could take custom locations circle avoid destination circular runway would make airports smaller banking runway would ensure less fuel usage wear \n",
      "실제 요약 : researcher proposes for airports\n",
      "예측 요약 :  in pictures\n",
      "\n",
      "\n",
      "원문 : woman andhra pradesh district found cheating people promising remove kidney stones patient back newspaper stones hands person accompanying patient district medical health officer promised action \n",
      "실제 요약 : andhra pradesh woman found stones for\n",
      "예측 요약 :  student student to college teacher in\n",
      "\n",
      "\n",
      "원문 : total credit card outstanding payments increased months ended september per rbi data outstanding amount surged crore september crore september end august number credit cards stood million million end august \n",
      "실제 요약 : credit card payments increase in year\n",
      "예측 요약 :  india revenue jumps to crore in fy\n",
      "\n",
      "\n",
      "원문 : year old british national arrested allegedly sexually assaulting three visually challenged children delhi national association blind accused associated nab nine years donor frequent office police also found objectionable material laptop suspect could \n",
      "실제 요약 : british man arrested for sexually assaulting blind kids\n",
      "예측 요약 :  woman arrested for sexually harassing woman\n",
      "\n",
      "\n",
      "원문 : year old british tourist found dead guest house room monday uttar pradesh varanasi man come city american girlfriend also complained stomach pain night prior death post mortem examination carried kin deceased arrive police said \n",
      "실제 요약 : british tourist found dead in varanasi house\n",
      "예측 요약 :  year old girl found in bengaluru\n",
      "\n",
      "\n",
      "원문 : actor john abraham said soon producing film based football banner entertainment true story script think nobody football way added notably actor owns indian professional football franchise named northeast united fc \n",
      "실제 요약 : john abraham to produce film based on football\n",
      "예측 요약 :  my my my my actor\n",
      "\n",
      "\n",
      "원문 : major roy served british army world war ii established country international waters eastern britain often referred smallest country built abandoned british country also developed constitution official currency commissioned stamps \n",
      "실제 요약 : man once country in international\n",
      "예측 요약 :  saudi arabia to\n",
      "\n",
      "\n",
      "원문 : scientists developed lightweight carbon form also team used carbon form heated extreme material diamond like formed layers graphene used aerospace engineering military scientists said \n",
      "실제 요약 : carbon form made\n",
      "예측 요약 :  scientists develop that that\n",
      "\n",
      "\n",
      "원문 : ex finance minister chidambaram said demonetisation biggest man made disaster hit india worse tsunami mumbai floods calling demonetisation decision taken said small medium enterprises wiped businesses shut result someone conduct probe matter added \n",
      "실제 요약 : demonetisation is biggest man made disaster chidambaram\n",
      "예측 요약 :  india to launch foreign minister\n",
      "\n",
      "\n",
      "원문 : fire broke factory noida sector burst wednesday fire spread quickly due wind presence materials including officials said workers inside factory fire started one hurt \n",
      "실제 요약 : fire breaks out at factory in noida\n",
      "예측 요약 :  injured in fire at fire\n",
      "\n",
      "\n",
      "원문 : international credit rating agency standard poor friday kept india sovereign rating unchanged lowest investment grade rating bonds retained outlook india rating stable agency lauded government fiscal drive said reforms undertaken economy \n",
      "실제 요약 : keeps india rating at\n",
      "예측 요약 :  india gdp growth to india\n",
      "\n",
      "\n",
      "원문 : newborn died private hospital odisha allegedly conducted section surgery doctor phone baby father claimed doctor supposed conduct surgery arrive hospital even wife condition got critical blamed hospital authorities negligence \n",
      "실제 요약 : conduct section using doctor on phone\n",
      "예측 요약 :  woman gets her after her\n",
      "\n",
      "\n",
      "원문 : manikarnika queen jhansi co producer kamal jain hospitalised due lung infection per reports jain admitted ambani hospital discharged hospital within three four days reports said earlier reports stated jain critical condition ventilator suffering stroke \n",
      "실제 요약 : manikarnika co producer kamal hospitalised report\n",
      "예측 요약 :  complaint against woman for sexual harassment\n",
      "\n",
      "\n",
      "원문 : appointed new white house communications director friday anthony scaramucci first news conference apologised us president donald trump calling hack politician anti american never said scaramucci said officially begin new role august \n",
      "실제 요약 : new white house communications director apologises to trump\n",
      "예측 요약 :  trump calls us director\n",
      "\n",
      "\n",
      "원문 : facebook slammed users removing us based photographer video depicting people giving birth claimed video million views removed violating facebook community guidelines contain explicit addressing facebook said nothing community birth \n",
      "실제 요약 : facebook slammed for removing video\n",
      "예측 요약 :  facebook makes facebook that with\n",
      "\n",
      "\n",
      "원문 : former rashtriya janata dal mp mohammad acquitted jamshedpur court triple murder case took place february notably three eight accused died trial linked criminal cases currently lodged delhi high security tihar jail \n",
      "실제 요약 : leader acquitted in triple murder case\n",
      "예측 요약 :  former leader arrested in case\n",
      "\n",
      "\n",
      "원문 : veteran fighter known sheikh killing least islamic state terrorists killed iraq battle town militant group abu al also fought late iraqi dictator hussein war iran took part conflicts dating back arab israeli war \n",
      "실제 요약 : anti isis of killed in iraq\n",
      "예측 요약 :  killed in taliban attack by\n",
      "\n",
      "\n",
      "원문 : fianc murdered saudi journalist jamal khashoggi declined invitation us president donald trump accusing investigating killing said trump invitation aimed public opinion favour khashoggi saudi government critic killed kingdom consulate istanbul october \n",
      "실제 요약 : murdered saudi journo fianc declines from trump\n",
      "예측 요약 :  trump calls trump for saudi arabia\n",
      "\n",
      "\n",
      "원문 : deepika padukone features cover india september edition cover shoot got thick done resembles elizabeth taylor look late singer amy one pictures shared instagram wore shoulder cream dress wore black dress \n",
      "실제 요약 : deepika padukone features on india september cover\n",
      "예측 요약 :  deepika padukone singh singh\n",
      "\n",
      "\n",
      "원문 : many differently abled people across india attempted set guinness world record largest silent yoga class occasion international yoga day thursday ahmedabad participants undergoing training since may chosen city based organisations participants instructed using bluetooth headphones \n",
      "실제 요약 : differently attempt record on yoga day\n",
      "예측 요약 :  mumbai airport to perform at india\n",
      "\n",
      "\n",
      "원문 : real estate baron gopal monday surrendered tihar jail authorities face one year jail term fire tragedy case comes supreme court rejected plea seeking time surrender notably persons died cinema delhi screening hindi movie border june \n",
      "실제 요약 : surrenders in fire case\n",
      "예측 요약 :  ed arrested for in corruption case\n",
      "\n",
      "\n",
      "원문 : year old woman lives village called andhra pradesh youtube food channel lakh subscribers regarded world oldest youtuber shares channel country foods videos usually shared great grandson show cooking chicken eggs kfc chicken among dishes \n",
      "실제 요약 : yr old has youtube channel with\n",
      "예측 요약 :  year old old engineer in\n",
      "\n",
      "\n",
      "원문 : petition south korean president official site demanded key national team football players mandatory two years military service defeated germany fifa world cup gave us much hope talent military one wrote national footballers \n",
      "실제 요약 : free korean players from year military service petition\n",
      "예측 요약 :  us president resigns over\n",
      "\n",
      "\n",
      "원문 : university southeast africa banned students wearing tight dresses document shared twitter said ban effort stop according university inadequate dressing would come force starting april several twitter users reacted negatively restrictions others welcomed \n",
      "실제 요약 : african university bans and clothes\n",
      "예측 요약 :  canada bans yoga of\n",
      "\n",
      "\n",
      "원문 : maldives rejected reports allow permanent deployment indian troops country return financial aid reports stated india offered maldives aid billion exchange stronger security ties island nation aid would help maldives repay debt china reports claimed \n",
      "실제 요약 : maldives rejects reports of of indian troops\n",
      "예측 요약 :  pakistan signs to ceasefire in\n",
      "\n",
      "\n",
      "원문 : search giant google said disabled majority offensive advertisement found google allowed advertisers target users searching racist terms conducted advertisement campaign targeting like jews everything evil found advertisements visible offensive searched \n",
      "실제 요약 : google offensive\n",
      "예측 요약 :  google unveils feature for\n",
      "\n",
      "\n",
      "원문 : kerala chief minister pinarayi vijayan speaking state assembly tuesday alleged rashtriya behind assassination mahatma gandhi reacting statement state unit bjp given hours cpi leader apologise failing threatened take legal action \n",
      "실제 요약 : kerala cm says rss killed gandhi\n",
      "예측 요약 :  bjp cm orders against bjp\n",
      "\n",
      "\n",
      "원문 : eve second anniversary world record innings mumbai year old pranav slammed runs inter college match thursday pranav knock included fours three sixes helped side score last year pranav returned scholarship given mumbai cricket association poor form \n",
      "실제 요약 : record slams on eve of record anniversary\n",
      "예측 요약 :  england beat to score runs\n",
      "\n",
      "\n",
      "원문 : security personnel accused raping year old girl village maoist affected sukma chhattisgarh sunday according reports victim father told media group security personnel came early day attacked family members however girl family members yet register complaint \n",
      "실제 요약 : security personnel accused of raping minor in\n",
      "예측 요약 :  arrested for raping minor in assam\n",
      "\n",
      "\n",
      "원문 : former india captain sourav ganguly said skipper virat kohli needs former captain ms dhoni team dhoni continue playing till world cup kohli needs keeper leadership capacity well got best view behind stumps think survive till said ganguly \n",
      "실제 요약 : kohli needs dhoni in ganguly\n",
      "예측 요약 :  kohli kohli to kohli\n",
      "\n",
      "\n",
      "원문 : kingfisher airlines founder vijay mallya victim rather political conspiracy air chairman said think acted funds liquor companies rescued kingfisher airlines added mallya activities days default said \n",
      "실제 요약 : mallya victim of air chief\n",
      "예측 요약 :  singh singh quit director\n",
      "\n",
      "\n",
      "원문 : former karnataka chief minister wednesday said congress president rahul gandhi best material become prime minister things well well opposition unity becoming reality added asserted congress likely win elections five states poll process underway \n",
      "실제 요약 : rahul gandhi best prime minister material\n",
      "예측 요약 :  rahul gandhi is congress\n",
      "\n",
      "\n",
      "원문 : defamation case filed actress tanushree dutta comments maharashtra sena chief raj thackeray case filed mns district unit president alleged dutta party chief dutta recently said raj thackeray wanted succeed late bal thackeray sena chief could \n",
      "실제 요약 : defamation case against tanushree for comments on thackeray\n",
      "예측 요약 :  mulayam files defamation case against haasan\n",
      "\n",
      "\n",
      "원문 : nsa whistleblower edward snowden sunday took twitter express concerns demands link aadhaar services saying demands must called aadhaar gate service tweet came response article former raw head kc verma slammed need link aadhaar number various services \n",
      "실제 요약 : demands for aadhaar must be\n",
      "예측 요약 :  govt to use new students\n",
      "\n",
      "\n",
      "원문 : james starrer atomic film appearances wrote hindustan times scenes combat long prolonged intense wrote indian express firstpost called action thriller cocktail film rated \n",
      "실제 요약 : hits the theatre\n",
      "예측 요약 :  trailer of starrer released\n",
      "\n",
      "\n",
      "원문 : reliance industries chairman mukesh ambani planning initial public offering telecom arm jio billion investments according reports reliance reportedly holding internal discussions list jio soon late early ambani earlier said ahead schedule terms returns generating \n",
      "실제 요약 : mukesh ambani planning jio ipo by early reports\n",
      "예측 요약 :  reliance jio shares plunge after reports\n",
      "\n",
      "\n",
      "원문 : south korean technology company samsung thursday launched million fund back startups automotive market samsung automotive innovation fund focus connected car autonomous technologies including artificial intelligence company said samsung added first strategic investment austria based networking safety control company \n",
      "실제 요약 : samsung launches million autonomous driving fund\n",
      "예측 요약 :  startup acquires startup old\n",
      "\n",
      "\n",
      "원문 : doctors patna recently removed around kg waste stomach cow operation took three hours adding animal discharged dr singh led team performing surgery said first case years practice \n",
      "실제 요약 : doctors remove kg of plastic from cow stomach\n",
      "예측 요약 :  doctors students for family after years\n",
      "\n",
      "\n",
      "원문 : us based researchers found evidence two pairs known collision course study revealed currently orbits km slowly pulling moon towards would crash within million years researchers found true another pair \n",
      "실제 요약 : of on collision course study\n",
      "예측 요약 :  us researchers find of species\n",
      "\n",
      "\n",
      "원문 : supreme court asked real estate firm jaypee holding firm jaypee associates deposit crore october also restrained md directors jaypee travelling abroad without prior permission sc also asked nclt appointed interim resolution professional submit resolution plan within days protect homebuyers interests \n",
      "실제 요약 : sc asks parent to crore\n",
      "예측 요약 :  rbi seeks crore of indian\n",
      "\n",
      "\n",
      "원문 : photograph albert einstein tongue camera auctioned photo signed nobel prize winner taken nd birthday march einstein requested nine copies image personal use one auctioned \n",
      "실제 요약 : einstein out photo lakh\n",
      "예측 요약 :  neymar letter to win\n",
      "\n",
      "\n",
      "원문 : us president donald trump sunday unveiled new travel restrictions travellers north korea iran libya somalia syria venezuela yemen replacement travel ban signed earlier year country cannot safely trump said new restrictions come effect october \n",
      "실제 요약 : trump travel ban to include north korea\n",
      "예측 요약 :  trump threatens to destroy nuclear deal\n",
      "\n",
      "\n",
      "원문 : brihanmumbai municipal corporation andheri ward office hosting waste management companies raise awareness among residents school students waste management comes bmc sent around notices housing societies institutions area failing waste \n",
      "실제 요약 : mumbai civic body organises waste management\n",
      "예측 요약 :  mumbai civic body to have\n",
      "\n",
      "\n",
      "원문 : model actor milind took instagram share old picture actress aishwarya rai milind seen wearing black shirt photograph captioned thursday milind caption reveals photograph taken year \n",
      "실제 요약 : shares old picture with aishwarya rai\n",
      "예측 요약 :  shares pic of her transformation\n",
      "\n",
      "\n",
      "원문 : russian defence ministry called latest royal navy aircraft carrier queen elizabeth big marine target also compared queen capable defending without warships comes uk defence secretary michael fallon said russians tonne vessel \n",
      "실제 요약 : russia calls uk aircraft target\n",
      "예측 요약 :  russia bans religious to\n",
      "\n",
      "\n",
      "원문 : approved billion loan greece third bailout deal billion expected released week funds used pay greece debt clear domestic european stability mechanism said remaining funds released greece makes progress reducing stock added \n",
      "실제 요약 : greece to get billion under third deal\n",
      "예측 요약 :  to give billion billion in\n",
      "\n",
      "\n",
      "원문 : maharashtra state council examination saturday conducted last exam manual process use initiated government resolution emphasised need educate computer trained professionals government offices would reportedly affect private training institutes state \n",
      "실제 요약 : maharashtra govt conducts its last examination\n",
      "예측 요약 :  andhra pradesh to make\n",
      "\n",
      "\n",
      "원문 : delhi set get first human library loan real people minutes readers learn real life experiences event showcase human books categories including recovering drug history among others national capital fourth city host event indore hyderabad mumbai \n",
      "실제 요약 : delhi first human to allow human\n",
      "예측 요약 :  india most ever day\n",
      "\n",
      "\n"
     ]
    }
   ],
   "source": [
    "for i in range(50, 100):\n",
    "    print(\"원문 :\", seq2text(encoder_input_test[i]))\n",
    "    print(\"실제 요약 :\", seq2summary(decoder_input_test[i]))\n",
    "    print(\"예측 요약 :\", decode_sequence(encoder_input_test[i].reshape(1, text_max_len)))\n",
    "    print(\"\\n\")"
   ]
  },
  {
   "cell_type": "markdown",
   "id": "c3e32762",
   "metadata": {},
   "source": [
    "### 잘 나왔다고 생각하는 부분"
   ]
  },
  {
   "cell_type": "markdown",
   "id": "f7047a66",
   "metadata": {},
   "source": [
    "- 원문 : fire broke factory noida sector burst wednesday fire spread quickly due wind presence materials including officials said workers inside factory fire started one hurt \n",
    "- 실제 요약 : fire breaks out at factory in noida\n",
    "- 예측 요약 :  injured in fire at fire"
   ]
  },
  {
   "cell_type": "markdown",
   "id": "b31cde5c",
   "metadata": {},
   "source": [
    "-  : 화재가 발생한 공장 노이다 부문이 수요일 화재가 빠르게 확산되었습니다. 이는 공장 화재 내부의 근로자들이 한 명의 부상을 입었다고 관계자들을 포함한 바람 존재 물질로 인해 발생했습니다\n",
    "- 실제 요약 : 노이다 공장에서 화재 발생\n",
    "- 예측 요약 : 화재로 부상당함"
   ]
  },
  {
   "cell_type": "markdown",
   "id": "12253883",
   "metadata": {},
   "source": [
    "- 원문 : international credit rating agency standard poor friday kept india sovereign rating unchanged lowest investment grade rating bonds retained outlook india rating stable agency lauded government fiscal drive said reforms undertaken economy \n",
    "- 실제 요약 : keeps india rating at\n",
    "- 예측 요약 :  india gdp growth to india"
   ]
  },
  {
   "cell_type": "markdown",
   "id": "4bea3a1b",
   "metadata": {},
   "source": [
    "- 원문 : 국제 신용 평가 기관의 표준 부진한 금요일 인도 국가 신용 등급은 변경되지 않았으며 최저 투자 등급 채권은 전망 유지 인도 신용 등급 안정 기관은 정부 재정 추진에 찬사를 보냈습니다. 개혁이 진행된 경제에 영향을 미쳤다고 말했습니다\n",
    "- 실제 요약 : 인도 등급 유지\n",
    "- 예측 요약 : 인도 GDP 성장률"
   ]
  },
  {
   "cell_type": "markdown",
   "id": "fb083c83",
   "metadata": {},
   "source": [
    "- 원문 : former rashtriya janata dal mp mohammad acquitted jamshedpur court triple murder case took place february notably three eight accused died trial linked criminal cases currently lodged delhi high security tihar jail \n",
    "- 실제 요약 : leader acquitted in triple murder case\n",
    "- 예측 요약 :  former leader arrested in case"
   ]
  },
  {
   "cell_type": "markdown",
   "id": "484fb277",
   "metadata": {},
   "source": [
    "- 원문 : 전 라슈트리야 자나타 달 의원 모하마드 무죄 판결을 받은 잠셰드푸르 법원 삼중 살인 사건이 2월에 발생했으며, 특히 현재 델리 고등 보안 티하르 감옥에 수감 중인 8건의 피고인 사망 재판 관련 형사 사건이 3건 발생했습니다\n",
    "- 실제 요약 : 세 건의 살인 사건에서 무죄 판결을 받은 지도자\n",
    "- 예측 요약 : 전 지도자 체포 사건"
   ]
  },
  {
   "cell_type": "markdown",
   "id": "d7962db7",
   "metadata": {},
   "source": []
  },
  {
   "cell_type": "markdown",
   "id": "db1f49e0",
   "metadata": {},
   "source": []
  }
 ],
 "metadata": {
  "kernelspec": {
   "display_name": "Python 3 (ipykernel)",
   "language": "python",
   "name": "python3"
  },
  "language_info": {
   "codemirror_mode": {
    "name": "ipython",
    "version": 3
   },
   "file_extension": ".py",
   "mimetype": "text/x-python",
   "name": "python",
   "nbconvert_exporter": "python",
   "pygments_lexer": "ipython3",
   "version": "3.9.7"
  }
 },
 "nbformat": 4,
 "nbformat_minor": 5
}
